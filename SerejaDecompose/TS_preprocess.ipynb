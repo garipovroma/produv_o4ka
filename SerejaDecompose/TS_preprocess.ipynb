{
 "cells": [
  {
   "cell_type": "code",
   "execution_count": 8,
   "metadata": {},
   "outputs": [],
   "source": [
    "import pandas as pd\n",
    "import matplotlib.pyplot as plt"
   ]
  },
  {
   "cell_type": "code",
   "execution_count": 9,
   "metadata": {},
   "outputs": [],
   "source": [
    "def ts_preproc(df, time_col):\n",
    "    df[time_col] = pd.to_datetime(df[time_col])\n",
    "    df = df.set_index(time_col)\n",
    "    return df"
   ]
  },
  {
   "cell_type": "code",
   "execution_count": 10,
   "metadata": {},
   "outputs": [],
   "source": [
    "def reduse_to_produv(ts_data:pd.DataFrame, chronom:pd.DataFrame) -> pd.DataFrame:\n",
    "    new_ts_data = pd.DataFrame()\n",
    "    for NPLV in produv.NPLV.unique():\n",
    "        curr_new_ts = ts_data[ts_data['NPLV'] == NPLV][(ts_data[ts_data['NPLV'] == NPLV].index > \n",
    "                                                          (chronom[(chronom['NPLV'] == NPLV) & \n",
    "                                                                   (chronom['NOP'] == 'Продувка')]['VR_NACH'].values[0])) & \n",
    "                                                         (ts_data[ts_data['NPLV'] == NPLV].index < \n",
    "                                                          (ts_data[(ts_data['NPLV'] == NPLV) & \n",
    "                                                                   (ts_data['NOP'] == 'Продувка')]['VR_KON'].values[0]))]\n",
    "        new_ts_data = pd.concat((new_ts_data,curr_new_ts))\n",
    "        \n",
    "    return new_ts_data"
   ]
  }
 ],
 "metadata": {
  "kernelspec": {
   "display_name": "Python 3",
   "language": "python",
   "name": "python3"
  },
  "language_info": {
   "codemirror_mode": {
    "name": "ipython",
    "version": 3
   },
   "file_extension": ".py",
   "mimetype": "text/x-python",
   "name": "python",
   "nbconvert_exporter": "python",
   "pygments_lexer": "ipython3",
   "version": "3.8.5"
  },
  "varInspector": {
   "cols": {
    "lenName": 16,
    "lenType": 16,
    "lenVar": 40
   },
   "kernels_config": {
    "python": {
     "delete_cmd_postfix": "",
     "delete_cmd_prefix": "del ",
     "library": "var_list.py",
     "varRefreshCmd": "print(var_dic_list())"
    },
    "r": {
     "delete_cmd_postfix": ") ",
     "delete_cmd_prefix": "rm(",
     "library": "var_list.r",
     "varRefreshCmd": "cat(var_dic_list()) "
    }
   },
   "types_to_exclude": [
    "module",
    "function",
    "builtin_function_or_method",
    "instance",
    "_Feature"
   ],
   "window_display": false
  }
 },
 "nbformat": 4,
 "nbformat_minor": 4
}
