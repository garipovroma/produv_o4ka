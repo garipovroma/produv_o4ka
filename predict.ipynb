{
 "cells": [
  {
   "cell_type": "code",
   "execution_count": 1,
   "id": "6bf4bc80-dc90-41a9-8717-27a4c5410816",
   "metadata": {},
   "outputs": [],
   "source": [
    "import pandas as pd\n",
    "import numpy as np\n",
    "import matplotlib.pyplot as plt\n",
    "from utils.preprocess import *\n",
    "from utils.model import *"
   ]
  },
  {
   "cell_type": "code",
   "execution_count": 2,
   "id": "13be9e71-c888-4868-9ed0-f03f5aabaee6",
   "metadata": {},
   "outputs": [],
   "source": [
    "test_data = read_data('test')"
   ]
  },
  {
   "cell_type": "code",
   "execution_count": 3,
   "id": "547b2ca4-8b14-4428-8a8c-c29bb34f36b5",
   "metadata": {},
   "outputs": [],
   "source": [
    "X_train, X_test = read_preprocessed_data()"
   ]
  },
  {
   "cell_type": "code",
   "execution_count": 4,
   "id": "eb027e24-6dd4-48d2-a731-fd63ad9e1d39",
   "metadata": {},
   "outputs": [],
   "source": [
    "model_tst, model_C = get_catboost_models()"
   ]
  },
  {
   "cell_type": "code",
   "execution_count": 5,
   "id": "03d67645-da77-4a71-b642-b2dcfb1ebf2e",
   "metadata": {},
   "outputs": [],
   "source": [
    "y = predict(X_test, model_tst, model_C)"
   ]
  },
  {
   "cell_type": "code",
   "execution_count": 6,
   "id": "80620ee1-bc12-4e72-8d40-a618a7e60be0",
   "metadata": {},
   "outputs": [],
   "source": [
    "save_to_csv(y)"
   ]
  },
  {
   "cell_type": "code",
   "execution_count": null,
   "id": "ec7da9ac-d2ca-4754-b9d3-c47aa1f50432",
   "metadata": {},
   "outputs": [],
   "source": []
  }
 ],
 "metadata": {
  "kernelspec": {
   "display_name": "Python 3 (ipykernel)",
   "language": "python",
   "name": "python3"
  },
  "language_info": {
   "codemirror_mode": {
    "name": "ipython",
    "version": 3
   },
   "file_extension": ".py",
   "mimetype": "text/x-python",
   "name": "python",
   "nbconvert_exporter": "python",
   "pygments_lexer": "ipython3",
   "version": "3.9.1"
  }
 },
 "nbformat": 4,
 "nbformat_minor": 5
}
