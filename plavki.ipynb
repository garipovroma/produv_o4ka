{
 "cells": [
  {
   "cell_type": "code",
   "execution_count": 1,
   "id": "96d0aee1-a646-4cea-b3e5-827e45bed828",
   "metadata": {},
   "outputs": [],
   "source": [
    "import pandas as pd\n",
    "import numpy as np\n",
    "import matplotlib.pyplot as plt\n",
    "from utils.preprocess import *\n",
    "from utils.model import *\n",
    "from category_encoders import TargetEncoder"
   ]
  },
  {
   "cell_type": "code",
   "execution_count": 2,
   "id": "3bd339d3-49c8-4eb1-8604-7db0b5aaa2e1",
   "metadata": {},
   "outputs": [],
   "source": [
    "target = read_target_train()\n",
    "train_data = read_data('train')\n",
    "test_data = read_data('test')"
   ]
  },
  {
   "cell_type": "code",
   "execution_count": 3,
   "id": "89c0ef49-5551-4850-93a6-79ef9a809765",
   "metadata": {},
   "outputs": [],
   "source": [
    "def first_preprocess_plavki(plavki):\n",
    "    numerics = ['int16', 'int32', 'int64', 'float16', 'float32', 'float64']\n",
    "    \n",
    "    plavki = plavki.copy()\n",
    "    \n",
    "    new_plavki = pd.DataFrame()\n",
    "    for NPLV in plavki.NPLV.unique():\n",
    "        cur_ts = plavki[plavki['NPLV'] == NPLV]\n",
    "        new_ts = cur_ts.iloc[0:1,:]\n",
    "        new_ts[new_ts.select_dtypes(include=numerics).columns] = pd.DataFrame(cur_ts[new_ts.select_dtypes(include=numerics).columns].mean(), columns = new_ts.index).T\n",
    "\n",
    "        new_plavki = pd.concat((new_plavki, new_ts))\n",
    "    new_plavki = new_plavki.reset_index().drop(['index'], axis = 1)\n",
    "    \n",
    "    new_plavki['plavka time'] = (pd.to_datetime(new_plavki['plavka_VR_KON']) - pd.to_datetime(new_plavki['plavka_VR_NACH'])).dt.seconds\n",
    "    new_plavki = new_plavki.drop(['plavka_VR_NACH', 'plavka_VR_KON'], axis = 1)\n",
    "    return new_plavki\n",
    "\n",
    "\n",
    "def preprocess_plavki(train_plavki, test_plavki):\n",
    "    new_plavki_train = first_preprocess_plavki(train_plavki)\n",
    "    new_plavki_test = first_preprocess_plavki(test_plavki)\n",
    "    \n",
    "    plavki_cat = ['plavka_NMZ', 'plavka_NAPR_ZAD', 'plavka_TIPE_FUR', 'plavka_TIPE_GOL']\n",
    "    for col in plavki_cat:\n",
    "        new_plavki_train[col + '_C'] = new_plavki_train[col]\n",
    "        new_plavki_test[col + '_C']  = new_plavki_test[col] \n",
    "        new_plavki_train[col + '_TST'] = new_plavki_train[col]\n",
    "        new_plavki_test[col + '_TST']  = new_plavki_test[col]\n",
    "        \n",
    "    target = read_target_train()\n",
    "    \n",
    "    encoder_C = TargetEncoder(cols = list(map(lambda x: x + '_C', plavki_cat)))\n",
    "    encoder_TST = TargetEncoder(cols = list(map(lambda x: x + '_TST', plavki_cat)))\n",
    "    encoder_C.fit(new_plavki_train, target['C'])\n",
    "    encoder_TST.fit(new_plavki_train, target['TST'])\n",
    "    \n",
    "    new_plavki_train = encoder_C.transform(new_plavki_train)\n",
    "    new_plavki_test = encoder_C.transform(new_plavki_test)\n",
    "    new_plavki_train = encoder_TST.transform(new_plavki_train)\n",
    "    new_plavki_test = encoder_TST.transform(new_plavki_test)\n",
    "    \n",
    "    return new_plavki_train, new_plavki_test"
   ]
  },
  {
   "cell_type": "code",
   "execution_count": 4,
   "id": "87a2746b-2226-48eb-b27b-2dc1e0318746",
   "metadata": {},
   "outputs": [],
   "source": [
    "new_plavki_train, new_plavki_test = preprocess_plavki(train_data['plavki'], test_data['plavki'])"
   ]
  },
  {
   "cell_type": "code",
   "execution_count": 5,
   "id": "b5375375-853c-4780-98cf-96c229fd3c3a",
   "metadata": {},
   "outputs": [],
   "source": [
    "new_plavki_train[config['cat_features_list']] = new_plavki_train[config['cat_features_list']].astype(str)\n",
    "new_plavki_test[config['cat_features_list']] = new_plavki_test[config['cat_features_list']].astype(str)\n",
    "\n",
    "# new_plavki_train = new_plavki_train.drop(config['cat_features_list'], axis=1)\n",
    "# new_plavki_test = new_plavki_test.drop(config['cat_features_list'], axis=1)"
   ]
  },
  {
   "cell_type": "code",
   "execution_count": 6,
   "id": "fa5b063c-7841-4ead-b110-a70d1aefb3e1",
   "metadata": {},
   "outputs": [],
   "source": [
    "new_plavki_train.to_csv(config['data_path'] + 'preprocessed_plavki_train.csv', index=False)\n",
    "new_plavki_test.to_csv(config['data_path'] + 'preprocessed_plavki_test.csv', index=False)"
   ]
  }
 ],
 "metadata": {
  "kernelspec": {
   "display_name": "Python 3 (ipykernel)",
   "language": "python",
   "name": "python3"
  },
  "language_info": {
   "codemirror_mode": {
    "name": "ipython",
    "version": 3
   },
   "file_extension": ".py",
   "mimetype": "text/x-python",
   "name": "python",
   "nbconvert_exporter": "python",
   "pygments_lexer": "ipython3",
   "version": "3.9.5"
  }
 },
 "nbformat": 4,
 "nbformat_minor": 5
}
