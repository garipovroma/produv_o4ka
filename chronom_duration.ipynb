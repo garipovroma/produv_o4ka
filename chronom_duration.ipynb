{
 "cells": [
  {
   "cell_type": "code",
   "execution_count": 1,
   "id": "d8b1c20c",
   "metadata": {},
   "outputs": [],
   "source": [
    "import pandas as pd\n",
    "import numpy as np\n",
    "import matplotlib.pyplot as plt\n",
    "from utils.preprocess import *\n",
    "from utils.model import *\n",
    "import datetime\n",
    "from tqdm import tqdm"
   ]
  },
  {
   "cell_type": "code",
   "execution_count": 2,
   "id": "2af51315",
   "metadata": {},
   "outputs": [],
   "source": [
    "train_data = read_data('train')\n",
    "test_data = read_data('test')\n",
    "\n",
    "train_y = read_target_train()"
   ]
  },
  {
   "cell_type": "markdown",
   "id": "ff81a9c4",
   "metadata": {},
   "source": [
    "## Получение данных о продолжительности различных операций"
   ]
  },
  {
   "cell_type": "code",
   "execution_count": 3,
   "id": "efd6f43c",
   "metadata": {},
   "outputs": [],
   "source": [
    "def cat_preprocess(df, drop_cols, encode_col):\n",
    "    df = df.drop(drop_cols, axis = 1)\n",
    "    df = pd.get_dummies(df, columns=[encode_col])\n",
    "    return df"
   ]
  },
  {
   "cell_type": "code",
   "execution_count": 4,
   "id": "214f27bf",
   "metadata": {},
   "outputs": [],
   "source": [
    "def cat_feat_extr(df, cols, ves_col):\n",
    "    for NPLV in tqdm(df.NPLV.unique()):\n",
    "        try:\n",
    "            for col in cols:\n",
    "                if not df[ves_col][df.index[(df['NPLV'] == NPLV) & (df[col] > 0)].to_list()].empty: \n",
    "                    for i in range(len(df[ves_col][df.index[(df['NPLV'] == NPLV) & (df[col] > 0)].to_list()])):\n",
    "                        df.at[df.index[(df['NPLV'] == NPLV) & (df[col] > 0)].to_list()[i], col] = \\\n",
    "                                df[ves_col][df.index[(df['NPLV'] == NPLV) & (df[col] > 0)].to_list()[i]]\n",
    "        except:\n",
    "            try:\n",
    "                for col in cols:\n",
    "                    if not df[ves_col][df.index[(df['NPLV'] == NPLV) & (df[col] > 0)].to_list()].empty: \n",
    "                        for i in range(len(df[ves_col][df.index[(df['NPLV'] == NPLV) & (df[col] > 0)].to_list()])):\n",
    "                            df.at[df.index[(df['NPLV'] == NPLV) & (df[col] > 0)].to_list()[i], col] = \\\n",
    "                                    df[ves_col][df.index[(df['NPLV'] == NPLV) & (df[col] > 0)].to_list()[i]]\n",
    "            except:\n",
    "                try:\n",
    "                    for col in cols:\n",
    "                        if not df[ves_col][df.index[(df['NPLV'] == NPLV) & (df[col] > 0)].to_list()].empty: \n",
    "                            for i in range(len(df[ves_col][df.index[(df['NPLV'] == NPLV) & (df[col] > 0)].to_list()])):\n",
    "                                df.at[df.index[(df['NPLV'] == NPLV) & (df[col] > 0)].to_list()[i], col] = \\\n",
    "                                        df[ves_col][df.index[(df['NPLV'] == NPLV) & (df[col] > 0)].to_list()[i]]\n",
    "                except:\n",
    "                    for col in cols:\n",
    "                        if not df[ves_col][df.index[(df['NPLV'] == NPLV) & (df[col] > 0)].to_list()].empty: \n",
    "                            for i in range(len(df[ves_col][df.index[(df['NPLV'] == NPLV) & (df[col] > 0)].to_list()])):\n",
    "                                df.at[df.index[(df['NPLV'] == NPLV) & (df[col] > 0)].to_list()[i], col] = \\\n",
    "                                        df[ves_col][df.index[(df['NPLV'] == NPLV) & (df[col] > 0)].to_list()[i]]\n",
    "                    \n",
    "    df = df.drop([ves_col], axis = 1).groupby('NPLV').agg('sum')\n",
    "    \n",
    "    return df"
   ]
  },
  {
   "cell_type": "markdown",
   "id": "bbd9916c",
   "metadata": {},
   "source": [
    "хронометраж - время начала и конца различных операций во время плавки"
   ]
  },
  {
   "cell_type": "code",
   "execution_count": 5,
   "id": "73442134",
   "metadata": {},
   "outputs": [],
   "source": [
    "train_data['chronom']['VR_NACH'] = pd.to_datetime(train_data['chronom']['VR_NACH'])\n",
    "train_data['chronom']['VR_KON'] = pd.to_datetime(train_data['chronom']['VR_KON'])\n",
    "train_data['chronom']['duration'] = (train_data['chronom']['VR_KON'] - train_data['chronom']['VR_NACH']).dt.total_seconds()\n",
    "\n",
    "test_data['chronom']['VR_NACH'] = pd.to_datetime(test_data['chronom']['VR_NACH'])\n",
    "test_data['chronom']['VR_KON'] = pd.to_datetime(test_data['chronom']['VR_KON'])\n",
    "test_data['chronom']['duration'] = (test_data['chronom']['VR_KON'] - test_data['chronom']['VR_NACH']).dt.total_seconds()"
   ]
  },
  {
   "cell_type": "code",
   "execution_count": 6,
   "id": "c1fc7579",
   "metadata": {},
   "outputs": [],
   "source": [
    "names_train_nop = train_data['chronom']['NOP'].value_counts()\n",
    "names_train_nop_stay = set(names_train_nop[names_train_nop > 100].to_dict().keys())\n",
    "names_train_nop = set(names_train_nop.to_dict().keys())\n",
    "\n",
    "names_test_nop = set(test_data['chronom']['NOP'].value_counts().to_dict().keys())\n",
    "\n",
    "name_to_stay = names_train_nop_stay.intersection(names_test_nop)"
   ]
  },
  {
   "cell_type": "code",
   "execution_count": 7,
   "id": "48b880e9",
   "metadata": {},
   "outputs": [],
   "source": [
    "names_to_del_train = names_train_nop.difference(name_to_stay)\n",
    "names_to_del_test = names_test_nop.difference(name_to_stay)"
   ]
  },
  {
   "cell_type": "code",
   "execution_count": 8,
   "id": "00476abf",
   "metadata": {},
   "outputs": [],
   "source": [
    "prep_chronom_train = cat_preprocess(train_data['chronom'], ['TYPE_OPER', 'VR_NACH', 'VR_KON', 'O2'], 'NOP')\n",
    "prep_chronom_test = cat_preprocess(test_data['chronom'], ['TYPE_OPER', 'VR_NACH', 'VR_KON', 'O2'], 'NOP')"
   ]
  },
  {
   "cell_type": "code",
   "execution_count": 9,
   "id": "86ab0ee9",
   "metadata": {},
   "outputs": [],
   "source": [
    "prep_chronom_train_cols = list(prep_chronom_train.columns.drop(['NPLV', 'duration']))\n",
    "prep_chronom_test_cols = list(prep_chronom_test.columns.drop(['NPLV', 'duration']))"
   ]
  },
  {
   "cell_type": "code",
   "execution_count": 10,
   "id": "05d09cb1",
   "metadata": {},
   "outputs": [],
   "source": [
    "prep_chronom_train = prep_chronom_train.fillna(0)\n",
    "prep_chronom_test = prep_chronom_test.fillna(0)\n",
    "\n",
    "prep_chronom_train['duration'] = prep_chronom_train['duration'].astype('int64')\n",
    "prep_chronom_test['duration'] = prep_chronom_test['duration'].astype('int64')"
   ]
  },
  {
   "cell_type": "code",
   "execution_count": 11,
   "id": "6a0ca76d",
   "metadata": {},
   "outputs": [],
   "source": [
    "prep_chronom_train[prep_chronom_train_cols] = prep_chronom_train[prep_chronom_train_cols].astype('int64')\n",
    "prep_chronom_test[prep_chronom_test_cols] = prep_chronom_test[prep_chronom_test_cols].astype('int64')"
   ]
  },
  {
   "cell_type": "code",
   "execution_count": 12,
   "id": "d8608e91",
   "metadata": {},
   "outputs": [
    {
     "name": "stderr",
     "output_type": "stream",
     "text": [
      "100%|███████████████████████████████████████████████████████████████████████████████████████████████████████████████████████████████████████████████████████████████████| 2063/2063 [01:37<00:00, 21.19it/s]\n",
      "100%|█████████████████████████████████████████████████████████████████████████████████████████████████████████████████████████████████████████████████████████████████████| 780/780 [00:23<00:00, 33.83it/s]\n"
     ]
    }
   ],
   "source": [
    "cat_chronom_train = cat_feat_extr(prep_chronom_train, prep_chronom_train_cols, 'duration')\n",
    "cat_chronom_test = cat_feat_extr(prep_chronom_test, prep_chronom_test_cols, 'duration')"
   ]
  },
  {
   "cell_type": "code",
   "execution_count": 13,
   "id": "c5bda18d",
   "metadata": {},
   "outputs": [],
   "source": [
    "for col in names_to_del_train:\n",
    "    col_ = 'NOP_' + col\n",
    "    del cat_chronom_train[col_]\n",
    "\n",
    "for col in names_to_del_test:\n",
    "    col_ = 'NOP_' + col\n",
    "    del cat_chronom_test[col_]"
   ]
  },
  {
   "cell_type": "code",
   "execution_count": 14,
   "id": "870a9333",
   "metadata": {},
   "outputs": [],
   "source": [
    "cat_chronom_train.to_csv('data_chronom/chronom_duration_train.csv')\n",
    "cat_chronom_test.to_csv('data_chronom/chronom_duration_test.csv')"
   ]
  }
 ],
 "metadata": {
  "kernelspec": {
   "display_name": "Python 3 (ipykernel)",
   "language": "python",
   "name": "python3"
  },
  "language_info": {
   "codemirror_mode": {
    "name": "ipython",
    "version": 3
   },
   "file_extension": ".py",
   "mimetype": "text/x-python",
   "name": "python",
   "nbconvert_exporter": "python",
   "pygments_lexer": "ipython3",
   "version": "3.9.5"
  }
 },
 "nbformat": 4,
 "nbformat_minor": 5
}
