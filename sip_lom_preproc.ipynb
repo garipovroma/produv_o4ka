{
 "cells": [
  {
   "cell_type": "code",
   "execution_count": 1,
   "metadata": {},
   "outputs": [],
   "source": [
    "import pandas as pd\n",
    "from utils.preprocess import *\n",
    "from utils.model import *\n",
    "from tqdm import tqdm"
   ]
  },
  {
   "cell_type": "code",
   "execution_count": 2,
   "metadata": {},
   "outputs": [],
   "source": [
    "def cat_preprocess(df, drop_cols, encode_col):\n",
    "    df = df.drop(drop_cols, axis = 1)\n",
    "    df = pd.get_dummies(df, columns=[encode_col])\n",
    "    return df"
   ]
  },
  {
   "cell_type": "code",
   "execution_count": 3,
   "metadata": {},
   "outputs": [],
   "source": [
    "def cat_feat_extr(df, cols, ves_col):\n",
    "    for NPLV in tqdm(df.NPLV.unique()):\n",
    "        for col in cols:\n",
    "            if not df[ves_col][df.index[(df['NPLV'] == NPLV) & (df[col] > 0)].to_list()].empty: \n",
    "                for i in range(len(df[ves_col][df.index[(df['NPLV'] == NPLV) & (df[col] > 0)].to_list()])):\n",
    "                    df.at[df.index[(df['NPLV'] == NPLV) & (df[col] > 0)].to_list()[i], col] = \\\n",
    "                            df[ves_col][df.index[(df['NPLV'] == NPLV) & (df[col] > 0)].to_list()[i]]\n",
    "                    \n",
    "    df = df.drop([ves_col], axis = 1).groupby('NPLV').agg('sum')\n",
    "    \n",
    "    return df"
   ]
  },
  {
   "cell_type": "code",
   "execution_count": 4,
   "metadata": {},
   "outputs": [],
   "source": [
    "lom_train = pd.read_csv(config['data_path'] + 'lom_train.csv')\n",
    "sip_train = pd.read_csv(config['data_path'] + 'sip_train.csv')\n",
    "lom_test = pd.read_csv(config['data_path'] + 'lom_test.csv')\n",
    "sip_test = pd.read_csv(config['data_path'] + 'sip_test.csv')"
   ]
  },
  {
   "cell_type": "code",
   "execution_count": 5,
   "metadata": {},
   "outputs": [],
   "source": [
    "prep_lom_train = cat_preprocess(lom_train, 'VDL', 'NML')\n",
    "prep_sip_train = cat_preprocess(sip_train, ['VDSYP','DAT_OTD'], 'NMSYP')\n",
    "prep_lom_test = cat_preprocess(lom_test, 'VDL', 'NML')\n",
    "prep_sip_test = cat_preprocess(sip_test, ['VDSYP','DAT_OTD'], 'NMSYP')"
   ]
  },
  {
   "cell_type": "code",
   "execution_count": 6,
   "metadata": {},
   "outputs": [],
   "source": [
    "prep_lom_train_cols = list(prep_lom_train.columns.drop(['NPLV', 'VES']))\n",
    "prep_sip_train_cols = list(prep_sip_train.columns.drop(['NPLV', 'VSSYP']))\n",
    "prep_lom_test_cols = list(prep_lom_test.columns.drop(['NPLV', 'VES']))\n",
    "prep_sip_test_cols = list(prep_sip_test.columns.drop(['NPLV', 'VSSYP']))"
   ]
  },
  {
   "cell_type": "code",
   "execution_count": 7,
   "metadata": {},
   "outputs": [],
   "source": [
    "prep_lom_train[prep_lom_train_cols] = prep_lom_train[prep_lom_train_cols].astype('int64')\n",
    "prep_sip_train[prep_sip_train_cols] = prep_sip_train[prep_sip_train_cols].astype('int64')\n",
    "prep_lom_test[prep_lom_test_cols] = prep_lom_test[prep_lom_test_cols].astype('int64')\n",
    "prep_sip_test[prep_sip_test_cols] = prep_sip_test[prep_sip_test_cols].astype('int64')"
   ]
  },
  {
   "cell_type": "code",
   "execution_count": 8,
   "metadata": {},
   "outputs": [
    {
     "name": "stderr",
     "output_type": "stream",
     "text": [
      "100%|██████████████████████████████████████████████████████████████████████████████████████████████████████████████████████████████████████████████████████████████████| 2063/2063 [00:16<00:00, 122.89it/s]\n",
      "100%|███████████████████████████████████████████████████████████████████████████████████████████████████████████████████████████████████████████████████████████████████| 2063/2063 [00:27<00:00, 75.02it/s]\n",
      "100%|████████████████████████████████████████████████████████████████████████████████████████████████████████████████████████████████████████████████████████████████████| 780/780 [00:05<00:00, 135.43it/s]\n",
      "100%|█████████████████████████████████████████████████████████████████████████████████████████████████████████████████████████████████████████████████████████████████████| 780/780 [00:09<00:00, 82.45it/s]\n"
     ]
    }
   ],
   "source": [
    "cat_lom_train = cat_feat_extr(prep_lom_train, prep_lom_train_cols, 'VES')\n",
    "cat_sip_train = cat_feat_extr(prep_sip_train, prep_sip_train_cols, 'VSSYP')\n",
    "cat_lom_test = cat_feat_extr(prep_lom_test, prep_lom_test_cols, 'VES')\n",
    "cat_sip_test = cat_feat_extr(prep_sip_test, prep_sip_test_cols, 'VSSYP')"
   ]
  },
  {
   "cell_type": "code",
   "execution_count": 9,
   "metadata": {},
   "outputs": [],
   "source": [
    "cat_lom_train = cat_lom_train.reset_index()\n",
    "cat_sip_train = cat_sip_train.reset_index()\n",
    "cat_lom_test = cat_lom_test.reset_index()\n",
    "cat_sip_test = cat_sip_test.reset_index()"
   ]
  },
  {
   "cell_type": "code",
   "execution_count": 10,
   "metadata": {},
   "outputs": [],
   "source": [
    "drop_lom_train = list(set(cat_lom_train.columns).difference(set(cat_lom_test.columns)))\n",
    "drop_sip_train = list(set(cat_sip_train.columns).difference(set(cat_sip_test.columns)))\n",
    "drop_lom_test = list(set(cat_lom_test.columns).difference(set(cat_lom_train.columns)))\n",
    "drop_sip_test = list(set(cat_sip_test.columns).difference(set(cat_sip_train.columns)))"
   ]
  },
  {
   "cell_type": "code",
   "execution_count": 11,
   "metadata": {},
   "outputs": [],
   "source": [
    "cat_lom_train = cat_lom_train.drop(drop_lom_train, axis=1)\n",
    "cat_lom_test = cat_lom_test.drop(drop_lom_test, axis=1)\n",
    "cat_sip_train = cat_sip_train.drop(drop_sip_train, axis=1)\n",
    "cat_sip_test = cat_sip_test.drop(drop_sip_test, axis=1)"
   ]
  },
  {
   "cell_type": "code",
   "execution_count": 12,
   "metadata": {},
   "outputs": [],
   "source": [
    "cat_lom_train.to_csv(config['data_path'] + 'cat_lom_train.csv', index=False)\n",
    "cat_sip_train.to_csv(config['data_path'] + 'cat_sip_train.csv', index=False)\n",
    "cat_lom_test.to_csv(config['data_path'] + 'cat_lom_test.csv', index=False)\n",
    "cat_sip_test.to_csv(config['data_path'] + 'cat_sip_test.csv', index=False)"
   ]
  }
 ],
 "metadata": {
  "kernelspec": {
   "display_name": "Python 3 (ipykernel)",
   "language": "python",
   "name": "python3"
  },
  "language_info": {
   "codemirror_mode": {
    "name": "ipython",
    "version": 3
   },
   "file_extension": ".py",
   "mimetype": "text/x-python",
   "name": "python",
   "nbconvert_exporter": "python",
   "pygments_lexer": "ipython3",
   "version": "3.9.5"
  },
  "varInspector": {
   "cols": {
    "lenName": 16,
    "lenType": 16,
    "lenVar": 40
   },
   "kernels_config": {
    "python": {
     "delete_cmd_postfix": "",
     "delete_cmd_prefix": "del ",
     "library": "var_list.py",
     "varRefreshCmd": "print(var_dic_list())"
    },
    "r": {
     "delete_cmd_postfix": ") ",
     "delete_cmd_prefix": "rm(",
     "library": "var_list.r",
     "varRefreshCmd": "cat(var_dic_list()) "
    }
   },
   "types_to_exclude": [
    "module",
    "function",
    "builtin_function_or_method",
    "instance",
    "_Feature"
   ],
   "window_display": false
  }
 },
 "nbformat": 4,
 "nbformat_minor": 4
}
