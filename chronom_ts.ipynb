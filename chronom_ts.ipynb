{
 "cells": [
  {
   "cell_type": "code",
   "execution_count": 1,
   "id": "6f21b05e-87fb-487a-a0c7-56b6922a4f22",
   "metadata": {},
   "outputs": [],
   "source": [
    "import pandas as pd\n",
    "import numpy as np\n",
    "import matplotlib.pyplot as plt\n",
    "from utils.preprocess import *\n",
    "from utils.model import *\n",
    "import datetime\n",
    "from tqdm import tqdm"
   ]
  },
  {
   "cell_type": "code",
   "execution_count": 2,
   "id": "a0b67ea8-3060-4f42-9269-4b1efb1e87df",
   "metadata": {},
   "outputs": [],
   "source": [
    "train_data = read_data('train')\n",
    "test_data = read_data('test')"
   ]
  },
  {
   "cell_type": "code",
   "execution_count": 3,
   "id": "9e9909a9-f6ff-460a-9870-03d1af79578b",
   "metadata": {},
   "outputs": [],
   "source": [
    "cat_chronom_train = pd.read_csv('data_chronom/chronom_duration_train.csv')\n",
    "cat_chronom_test = pd.read_csv('data_chronom/chronom_duration_test.csv')\n",
    "\n",
    "cat_chronom_train = cat_chronom_train.set_index('NPLV')\n",
    "cat_chronom_test = cat_chronom_test.set_index('NPLV')\n",
    "\n",
    "train_gas = pd.read_csv('data/gas_train.csv')\n",
    "test_gas = pd.read_csv('data/gas_test.csv')\n",
    "\n",
    "train_gas['Time'] = pd.to_datetime(train_gas['Time'])\n",
    "test_gas['Time'] = pd.to_datetime(test_gas['Time'])\n",
    "\n",
    "train_data['chronom']['VR_NACH'] = pd.to_datetime(train_data['chronom']['VR_NACH'])\n",
    "test_data['chronom']['VR_NACH'] = pd.to_datetime(test_data['chronom']['VR_NACH'])\n",
    "train_data['chronom']['VR_KON'] = pd.to_datetime(train_data['chronom']['VR_KON'])\n",
    "test_data['chronom']['VR_KON'] = pd.to_datetime(test_data['chronom']['VR_KON'])"
   ]
  },
  {
   "cell_type": "code",
   "execution_count": 4,
   "id": "1317be50-6465-4780-9834-022fcc96236d",
   "metadata": {},
   "outputs": [],
   "source": [
    "def make_state_gas(event='Продувка', i = 1):\n",
    "    row = train_data['chronom'][train_data['chronom']['NOP'] == event].set_index('NPLV')\n",
    "    start_train_nach = row['VR_NACH']\n",
    "    end_train_nach = row['VR_KON']\n",
    "\n",
    "    row = test_data['chronom'][test_data['chronom']['NOP'] == event].set_index('NPLV')\n",
    "    start_test_nach = row['VR_NACH']\n",
    "    end_test_nach = row['VR_KON']\n",
    "    \n",
    "    col_gas_feat = ['V', 'T', 'O2', 'N2', 'H2', 'CO2', 'CO', 'AR', 'O2_pressure']\n",
    "\n",
    "    type_oper = '_start_' + event\n",
    "    for col in col_gas_feat:\n",
    "        cat_chronom_train[col + type_oper] = 0.0\n",
    "        cat_chronom_test[col + type_oper] = 0.0\n",
    "\n",
    "    type_oper = '_end_' + event\n",
    "    for col in col_gas_feat:\n",
    "        cat_chronom_train[col + type_oper] = 0.0\n",
    "        cat_chronom_test[col + type_oper] = 0.0\n",
    "        \n",
    "        \n",
    "    for nplv_obj in tqdm(train_gas['NPLV'].unique()):\n",
    "        try:\n",
    "            df_nplv = train_gas[(train_gas['NPLV'] == nplv_obj) & \\\n",
    "                                ((train_gas['Time'] - start_train_nach[nplv_obj]).dt.total_seconds() <= 1) & \\\n",
    "                                ((train_gas['Time'] - start_train_nach[nplv_obj]).dt.total_seconds() >= 0)]\n",
    "            type_oper = '_start_' + event\n",
    "            for gas_feat in col_gas_feat:\n",
    "                cat_chronom_train.at[nplv_obj, gas_feat + type_oper] = df_nplv[gas_feat]\n",
    "        except:\n",
    "            pass\n",
    "        \n",
    "    for nplv_obj in tqdm(test_gas['NPLV'].unique()):\n",
    "        try:\n",
    "            df_nplv = test_gas[(test_gas['NPLV'] == nplv_obj) & \\\n",
    "                                ((test_gas['Time'] - start_test_nach[nplv_obj]).dt.total_seconds() <= 1) & \\\n",
    "                                ((test_gas['Time'] - start_test_nach[nplv_obj]).dt.total_seconds() >= 0)]\n",
    "            type_oper = '_start_' + event\n",
    "            for gas_feat in col_gas_feat:\n",
    "                cat_chronom_test.at[nplv_obj, gas_feat + type_oper] = df_nplv[gas_feat] \n",
    "        except:\n",
    "            pass\n",
    "        \n",
    "    for nplv_obj in tqdm(train_gas['NPLV'].unique()):\n",
    "        try:\n",
    "            df_nplv = train_gas[(train_gas['NPLV'] == nplv_obj) & \\\n",
    "                                ((end_train_nach[nplv_obj] - train_gas['Time']).dt.total_seconds() <= 1) & \\\n",
    "                                ((end_train_nach[nplv_obj] - train_gas['Time']).dt.total_seconds() >= 0)]\n",
    "            type_oper = '_end_' + event\n",
    "            for gas_feat in col_gas_feat:\n",
    "                cat_chronom_train.at[nplv_obj, gas_feat + type_oper] = df_nplv[gas_feat]\n",
    "        except:\n",
    "            pass \n",
    "    for nplv_obj in tqdm(test_gas['NPLV'].unique()):\n",
    "        try:\n",
    "            df_nplv = test_gas[(test_gas['NPLV'] == nplv_obj) & \\\n",
    "                                ((end_test_nach[nplv_obj] - test_gas['Time']).dt.total_seconds() <= 1) & \\\n",
    "                                ((end_test_nach[nplv_obj] - test_gas['Time']).dt.total_seconds() >= 0)]\n",
    "            type_oper = '_end_' + event\n",
    "            for gas_feat in col_gas_feat:\n",
    "                cat_chronom_test.at[nplv_obj, gas_feat + type_oper] = df_nplv[gas_feat] \n",
    "        except:\n",
    "            pass\n",
    "        \n",
    "    cat_chronom_train.to_csv('data_chronom/chronom_duration_train_new' + str(i) + '.csv')\n",
    "    cat_chronom_test.to_csv('data_chronom/chronom_duration_test_new' + str(i) + '.csv')"
   ]
  },
  {
   "cell_type": "code",
   "execution_count": 7,
   "id": "7cf38fce-86a9-4146-83ab-50ef5bef85da",
   "metadata": {},
   "outputs": [
    {
     "name": "stderr",
     "output_type": "stream",
     "text": [
      "100%|███████████████████████████████████████████████████████████████████████████████████████████████████████████████████████████████████████████████████████████████████| 2063/2063 [06:57<00:00,  4.94it/s]\n",
      "100%|█████████████████████████████████████████████████████████████████████████████████████████████████████████████████████████████████████████████████████████████████████| 780/780 [00:43<00:00, 17.98it/s]\n",
      "100%|███████████████████████████████████████████████████████████████████████████████████████████████████████████████████████████████████████████████████████████████████| 2063/2063 [06:16<00:00,  5.48it/s]\n",
      "100%|█████████████████████████████████████████████████████████████████████████████████████████████████████████████████████████████████████████████████████████████████████| 780/780 [00:46<00:00, 16.93it/s]\n"
     ]
    }
   ],
   "source": [
    "make_state_gas('Продувка', 1)"
   ]
  },
  {
   "cell_type": "code",
   "execution_count": 8,
   "id": "f339ae74-38f1-4421-a683-f9ef058b8423",
   "metadata": {},
   "outputs": [],
   "source": [
    "cat_chronom_train = pd.read_csv('data_chronom/chronom_duration_train_new1.csv')\n",
    "cat_chronom_test = pd.read_csv('data_chronom/chronom_duration_test_new1.csv')\n",
    "\n",
    "cat_chronom_train = cat_chronom_train.set_index('NPLV')\n",
    "cat_chronom_test = cat_chronom_test.set_index('NPLV')"
   ]
  },
  {
   "cell_type": "code",
   "execution_count": 9,
   "id": "2fbc51d5-a60a-4564-92d7-0dbb98273c65",
   "metadata": {},
   "outputs": [
    {
     "name": "stderr",
     "output_type": "stream",
     "text": [
      "100%|███████████████████████████████████████████████████████████████████████████████████████████████████████████████████████████████████████████████████████████████████| 2063/2063 [06:18<00:00,  5.44it/s]\n",
      "100%|█████████████████████████████████████████████████████████████████████████████████████████████████████████████████████████████████████████████████████████████████████| 780/780 [00:42<00:00, 18.21it/s]\n",
      "100%|███████████████████████████████████████████████████████████████████████████████████████████████████████████████████████████████████████████████████████████████████| 2063/2063 [06:20<00:00,  5.43it/s]\n",
      "100%|█████████████████████████████████████████████████████████████████████████████████████████████████████████████████████████████████████████████████████████████████████| 780/780 [00:46<00:00, 16.82it/s]\n"
     ]
    }
   ],
   "source": [
    "make_state_gas('Заливка чугуна', 2)"
   ]
  },
  {
   "cell_type": "code",
   "execution_count": 10,
   "id": "30b48b16-b7ac-4bad-bb3f-88b269ff3498",
   "metadata": {},
   "outputs": [],
   "source": [
    "cat_chronom_train = pd.read_csv('data_chronom/chronom_duration_train_new2.csv')\n",
    "cat_chronom_test = pd.read_csv('data_chronom/chronom_duration_test_new2.csv')\n",
    "\n",
    "cat_chronom_train = cat_chronom_train.set_index('NPLV')\n",
    "cat_chronom_test = cat_chronom_test.set_index('NPLV')"
   ]
  },
  {
   "cell_type": "code",
   "execution_count": 11,
   "id": "3cc38fd2-0408-46a3-ba67-54a5cca02af1",
   "metadata": {},
   "outputs": [
    {
     "name": "stderr",
     "output_type": "stream",
     "text": [
      "100%|███████████████████████████████████████████████████████████████████████████████████████████████████████████████████████████████████████████████████████████████████| 2063/2063 [06:22<00:00,  5.39it/s]\n",
      "100%|█████████████████████████████████████████████████████████████████████████████████████████████████████████████████████████████████████████████████████████████████████| 780/780 [00:42<00:00, 18.35it/s]\n",
      "100%|███████████████████████████████████████████████████████████████████████████████████████████████████████████████████████████████████████████████████████████████████| 2063/2063 [06:21<00:00,  5.40it/s]\n",
      "100%|█████████████████████████████████████████████████████████████████████████████████████████████████████████████████████████████████████████████████████████████████████| 780/780 [00:46<00:00, 16.81it/s]\n"
     ]
    }
   ],
   "source": [
    "make_state_gas('Завалка лома', 3)"
   ]
  }
 ],
 "metadata": {
  "kernelspec": {
   "display_name": "Python 3 (ipykernel)",
   "language": "python",
   "name": "python3"
  },
  "language_info": {
   "codemirror_mode": {
    "name": "ipython",
    "version": 3
   },
   "file_extension": ".py",
   "mimetype": "text/x-python",
   "name": "python",
   "nbconvert_exporter": "python",
   "pygments_lexer": "ipython3",
   "version": "3.9.5"
  }
 },
 "nbformat": 4,
 "nbformat_minor": 5
}
