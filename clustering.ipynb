{
 "cells": [
  {
   "cell_type": "code",
   "execution_count": 2,
   "metadata": {},
   "outputs": [],
   "source": [
    "import hdbscan\n",
    "import pandas as pd\n",
    "import tsfel\n",
    "import pickle\n",
    "from utils.preprocess import *"
   ]
  },
  {
   "cell_type": "code",
   "execution_count": 3,
   "metadata": {},
   "outputs": [],
   "source": [
    "def ts_extract_features(ts_df:pd.DataFrame) -> pd.DataFrame:\n",
    "    header_names = ts_df.drop(['NPLV'], axis = 1).columns\n",
    "    cfg_file = tsfel.get_features_by_domain('statistical')\n",
    "    extr_ts = pd.DataFrame()\n",
    "    for NPLV in tqdm(ts_df.NPLV.unique()):\n",
    "        curr_ts = ts_df[ts_df['NPLV'] == NPLV]\n",
    "        curr_ts = curr_ts.drop(['NPLV'], axis = 1)\n",
    "\n",
    "        feat_for_cts = tsfel.time_series_features_extractor(cfg_file, curr_ts, header_names = header_names, verbose=0)\n",
    "        feat_for_cts['NPLV'] = NPLV\n",
    "\n",
    "        extr_ts = pd.concat((extr_ts,feat_for_cts))\n",
    "    \n",
    "    return extr_ts\n"
   ]
  },
  {
   "cell_type": "code",
   "execution_count": 4,
   "metadata": {},
   "outputs": [],
   "source": [
    "lom_train = pd.read_csv('data/cat_lom_train.csv')\n",
    "lom_test = pd.read_csv('data/cat_lom_test.csv')\n",
    "sip_train = pd.read_csv('data/cat_sip_train.csv')\n",
    "sip_test = pd.read_csv('data/cat_sip_test.csv')"
   ]
  },
  {
   "cell_type": "code",
   "execution_count": 8,
   "metadata": {},
   "outputs": [],
   "source": [
    "drop_lom_train = list(set(lom_train.columns).difference(set(lom_test.columns)))\n",
    "drop_sip_train = list(set(sip_train.columns).difference(set(sip_test.columns)))\n",
    "drop_lom_test = list(set(lom_test.columns).difference(set(lom_train.columns)))\n",
    "drop_sip_test = list(set(sip_test.columns).difference(set(sip_train.columns)))"
   ]
  },
  {
   "cell_type": "code",
   "execution_count": 9,
   "metadata": {},
   "outputs": [],
   "source": [
    "lom_train = lom_train.drop(drop_lom_train, axis=1)\n",
    "lom_test = lom_test.drop(drop_lom_test, axis=1)\n",
    "sip_train = sip_train.drop(drop_sip_train, axis=1)\n",
    "sip_test = sip_test.drop(drop_sip_test, axis=1)"
   ]
  },
  {
   "cell_type": "code",
   "execution_count": 10,
   "metadata": {},
   "outputs": [],
   "source": [
    "produv_train = pd.read_csv('data/reduced_produv_train.csv')\n",
    "produv_test = pd.read_csv('data/reduced_produv_test.csv')"
   ]
  },
  {
   "cell_type": "code",
   "execution_count": 11,
   "metadata": {},
   "outputs": [],
   "source": [
    "preproc_produv_train = ts_preproc(produv_train, 'SEC')\n",
    "preproc_produv_test = ts_preproc(produv_test, 'SEC')"
   ]
  },
  {
   "cell_type": "code",
   "execution_count": 12,
   "metadata": {},
   "outputs": [
    {
     "name": "stderr",
     "output_type": "stream",
     "text": [
      "100%|██████████████████████████████████████████████████████████████████████████████████████████████████████████████████████████████████████████████████████████████████| 2063/2063 [00:20<00:00, 102.59it/s]\n",
      "100%|████████████████████████████████████████████████████████████████████████████████████████████████████████████████████████████████████████████████████████████████████| 780/780 [00:06<00:00, 117.15it/s]\n"
     ]
    }
   ],
   "source": [
    "extr_produv_train = ts_extract_features(preproc_produv_train)\n",
    "extr_produv_test = ts_extract_features(preproc_produv_test)"
   ]
  },
  {
   "cell_type": "code",
   "execution_count": 13,
   "metadata": {},
   "outputs": [],
   "source": [
    "select_produv_train, select_produv_test = ts_select_features(extr_produv_train, extr_produv_test)"
   ]
  },
  {
   "cell_type": "code",
   "execution_count": 14,
   "metadata": {},
   "outputs": [],
   "source": [
    "cluster_train = select_produv_train.merge(lom_train, on='NPLV', suffixes=('',f'_lom'))\n",
    "cluster_train = cluster_train.merge(sip_train, on='NPLV', suffixes=('',f'_sip'))"
   ]
  },
  {
   "cell_type": "code",
   "execution_count": 15,
   "metadata": {},
   "outputs": [],
   "source": [
    "cluster_test = select_produv_test.merge(lom_test, on='NPLV', suffixes=('',f'_lom'))\n",
    "cluster_test = cluster_test.merge(sip_test, on='NPLV', suffixes=('',f'_sip'))"
   ]
  },
  {
   "cell_type": "code",
   "execution_count": 16,
   "metadata": {},
   "outputs": [],
   "source": [
    "cluster = pd.concat((cluster_train, cluster_test))"
   ]
  },
  {
   "cell_type": "code",
   "execution_count": 17,
   "metadata": {},
   "outputs": [],
   "source": [
    "cluster = cluster.set_index('NPLV')"
   ]
  },
  {
   "cell_type": "code",
   "execution_count": 18,
   "metadata": {},
   "outputs": [],
   "source": [
    "clusterer = hdbscan.HDBSCAN(min_cluster_size=10)\n",
    "cluster_labels = clusterer.fit_predict(cluster)"
   ]
  },
  {
   "cell_type": "code",
   "execution_count": 21,
   "metadata": {},
   "outputs": [],
   "source": [
    "cluster_labels_train = cluster_labels[:2063]\n",
    "with open('clustering_train.pickle', 'wb') as f:\n",
    "        pickle.dump(cluster_labels_train, f)\n",
    "        \n",
    "cluster_labels_test = cluster_labels[2063:]\n",
    "with open('clustering_test.pickle', 'wb') as f:\n",
    "        pickle.dump(cluster_labels_test, f)"
   ]
  }
 ],
 "metadata": {
  "kernelspec": {
   "display_name": "Python 3 (ipykernel)",
   "language": "python",
   "name": "python3"
  },
  "language_info": {
   "codemirror_mode": {
    "name": "ipython",
    "version": 3
   },
   "file_extension": ".py",
   "mimetype": "text/x-python",
   "name": "python",
   "nbconvert_exporter": "python",
   "pygments_lexer": "ipython3",
   "version": "3.9.5"
  },
  "varInspector": {
   "cols": {
    "lenName": 16,
    "lenType": 16,
    "lenVar": 40
   },
   "kernels_config": {
    "python": {
     "delete_cmd_postfix": "",
     "delete_cmd_prefix": "del ",
     "library": "var_list.py",
     "varRefreshCmd": "print(var_dic_list())"
    },
    "r": {
     "delete_cmd_postfix": ") ",
     "delete_cmd_prefix": "rm(",
     "library": "var_list.r",
     "varRefreshCmd": "cat(var_dic_list()) "
    }
   },
   "types_to_exclude": [
    "module",
    "function",
    "builtin_function_or_method",
    "instance",
    "_Feature"
   ],
   "window_display": false
  }
 },
 "nbformat": 4,
 "nbformat_minor": 4
}
