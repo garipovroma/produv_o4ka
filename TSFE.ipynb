{
 "cells": [
  {
   "cell_type": "code",
   "execution_count": 53,
   "metadata": {},
   "outputs": [],
   "source": [
    "import pandas as pd\n",
    "import tsfel\n",
    "from sklearn.feature_selection import VarianceThreshold\n",
    "from tqdm import tqdm\n",
    "import warnings\n",
    "warnings.filterwarnings(\"ignore\")"
   ]
  },
  {
   "cell_type": "code",
   "execution_count": 54,
   "metadata": {},
   "outputs": [],
   "source": [
    "def ts_extract_features(ts_df:pd.DataFrame, header_names:list) -> pd.DataFrame:\n",
    "    cfg_file = tsfel.get_features_by_domain()\n",
    "    extr_ts = pd.DataFrame()\n",
    "    for NPLV in tqdm(produv.NPLV.unique()):\n",
    "        curr_ts = ts_df[ts_df['NPLV'] == NPLV]\n",
    "        curr_ts = curr_ts.drop('NPLV', axis =1)\n",
    "\n",
    "        feat_for_cts = tsfel.time_series_features_extractor(cfg_file, curr_ts, header_names = header_names, verbose=0)\n",
    "        feat_for_cts['NPLV'] = NPLV\n",
    "\n",
    "        extr_ts = pd.concat((extr_ts,feat_for_cts))\n",
    "    \n",
    "    return extr_ts"
   ]
  },
  {
   "cell_type": "code",
   "execution_count": 55,
   "metadata": {},
   "outputs": [],
   "source": [
    "def ts_select_features(feat_df_train:pd.DataFrame, feat_df_test:pd.DataFrame) -> pd.DataFrame:\n",
    "    corr_features = tsfel.correlated_features(feat_df_train)\n",
    "    feat_df_train.drop(corr_features, axis=1, inplace=True)\n",
    "    feat_df_test.drop(corr_features, axis=1, inplace=True)\n",
    "    \n",
    "    selector = VarianceThreshold()\n",
    "    feat_df_train = selector.fit_transform(feat_df_train)\n",
    "    feat_df_test = selector.transform(feat_df_train)\n",
    "    \n",
    "    return feat_df_train, feat_df_test"
   ]
  }
 ],
 "metadata": {
  "kernelspec": {
   "display_name": "Python 3",
   "language": "python",
   "name": "python3"
  },
  "varInspector": {
   "cols": {
    "lenName": 16,
    "lenType": 16,
    "lenVar": 40
   },
   "kernels_config": {
    "python": {
     "delete_cmd_postfix": "",
     "delete_cmd_prefix": "del ",
     "library": "var_list.py",
     "varRefreshCmd": "print(var_dic_list())"
    },
    "r": {
     "delete_cmd_postfix": ") ",
     "delete_cmd_prefix": "rm(",
     "library": "var_list.r",
     "varRefreshCmd": "cat(var_dic_list()) "
    }
   },
   "types_to_exclude": [
    "module",
    "function",
    "builtin_function_or_method",
    "instance",
    "_Feature"
   ],
   "window_display": false
  }
 },
 "nbformat": 4,
 "nbformat_minor": 4
}
