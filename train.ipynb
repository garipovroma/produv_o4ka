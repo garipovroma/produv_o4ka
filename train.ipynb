{
 "cells": [
  {
   "cell_type": "code",
   "execution_count": 1,
   "id": "0846599d-e709-438d-b7f7-92ca3e07f242",
   "metadata": {},
   "outputs": [],
   "source": [
    "import pandas as pd\n",
    "import numpy as np\n",
    "import matplotlib.pyplot as plt\n",
    "from utils.preprocess import *\n",
    "from utils.model import *"
   ]
  },
  {
   "cell_type": "markdown",
   "id": "726227fd-8b4c-4a48-88c2-f07dc33b5aa3",
   "metadata": {},
   "source": [
    "# Read data"
   ]
  },
  {
   "cell_type": "code",
   "execution_count": 2,
   "id": "563c3c45-b3e8-492b-a6af-df2d80de677c",
   "metadata": {},
   "outputs": [],
   "source": [
    "y = read_target_train()"
   ]
  },
  {
   "cell_type": "markdown",
   "id": "782d9ca3-c4fd-4cdf-a604-0477234c860a",
   "metadata": {
    "tags": []
   },
   "source": [
    "# Preprocess data"
   ]
  },
  {
   "cell_type": "code",
   "execution_count": 3,
   "id": "ef5f14c5-15c9-4971-a0a4-dbfdae987727",
   "metadata": {},
   "outputs": [],
   "source": [
    "X, X_test = read_preprocessed_data()"
   ]
  },
  {
   "cell_type": "code",
   "execution_count": 4,
   "id": "9fc1ef17-e4d6-4c63-9ff3-2156c9374d41",
   "metadata": {},
   "outputs": [
    {
     "data": {
      "text/plain": [
       "29"
      ]
     },
     "execution_count": 4,
     "metadata": {},
     "output_type": "execute_result"
    }
   ],
   "source": [
    "# X.select_dtypes(['bool'])\n",
    "len(get_cat_features_list(X_test))"
   ]
  },
  {
   "cell_type": "markdown",
   "id": "17fd75bd-fbc6-47b0-a76d-65ef66830d16",
   "metadata": {
    "tags": []
   },
   "source": [
    "# Train catboost"
   ]
  },
  {
   "cell_type": "code",
   "execution_count": 5,
   "id": "4a2a8dc9-cc79-4c41-b76e-e9000557de7b",
   "metadata": {},
   "outputs": [],
   "source": [
    "from catboost import CatBoostRegressor"
   ]
  },
  {
   "cell_type": "code",
   "execution_count": 6,
   "id": "712ac91d-7ec0-4edd-a95b-a83ccc121901",
   "metadata": {},
   "outputs": [
    {
     "data": {
      "text/plain": [
       "['Завалка лома_gr',\n",
       " 'Заливка чугуна_gr',\n",
       " 'Продувка_gr',\n",
       " 'Наведение гарнисажа_gr',\n",
       " 'Осмотр конвертера_gr',\n",
       " 'Отсутствие чугуна_gr',\n",
       " 'Обрыв горловины_gr',\n",
       " 'Наложение продувки_gr',\n",
       " 'Вхождение в гр.МНЛЗ_gr',\n",
       " 'Полусухое торкрет._gr',\n",
       " 'Отсутствие O2_gr',\n",
       " 'Неиспр. электр. обор_gr',\n",
       " 'Подварка  футеровки_gr',\n",
       " 'Ожидание стальковша_gr',\n",
       " 'Замер положения фурм_gr',\n",
       " 'Неиспр. механ. обор._gr',\n",
       " 'Отсутствие мет.шихты_gr',\n",
       " 'Замена фурмы_gr',\n",
       " 'ППР_gr',\n",
       " 'Ожидание шл.чаш_gr',\n",
       " 'Отсут. своб.разл.пл._gr',\n",
       " 'Ремонт летки_gr',\n",
       " 'Неиспр. энерг. обор_gr',\n",
       " 'Неиспр. АСУ и КИПиА_gr',\n",
       " 'plavka_NMZ',\n",
       " 'plavka_NAPR_ZAD',\n",
       " 'plavka_TIPE_FUR',\n",
       " 'plavka_TIPE_GOL',\n",
       " 'cluster_label']"
      ]
     },
     "execution_count": 6,
     "metadata": {},
     "output_type": "execute_result"
    }
   ],
   "source": [
    "get_cat_features_list(X)"
   ]
  },
  {
   "cell_type": "code",
   "execution_count": 15,
   "id": "2e577a33-45fb-4c6c-88d3-5e30735e4898",
   "metadata": {},
   "outputs": [],
   "source": [
    "model_tst = CatBoostRegressor(iterations = 2000, verbose = 100, random_state = config['random_state'], cat_features=get_cat_features_list(X))\n",
    "model_C = CatBoostRegressor(iterations = 2000, verbose = 100, random_state = config['random_state'], cat_features=get_cat_features_list(X))"
   ]
  },
  {
   "cell_type": "code",
   "execution_count": 16,
   "id": "948c6947-808e-4adb-aefa-7c10962b0f75",
   "metadata": {},
   "outputs": [
    {
     "name": "stdout",
     "output_type": "stream",
     "text": [
      "Learning rate set to 0.026218\n",
      "0:\tlearn: 30.3854857\ttotal: 126ms\tremaining: 4m 11s\n",
      "100:\tlearn: 20.9545127\ttotal: 6.48s\tremaining: 2m 1s\n",
      "200:\tlearn: 18.4347926\ttotal: 12.8s\tremaining: 1m 54s\n",
      "300:\tlearn: 16.6178109\ttotal: 19.2s\tremaining: 1m 48s\n",
      "400:\tlearn: 14.8578484\ttotal: 25.5s\tremaining: 1m 41s\n",
      "500:\tlearn: 13.4089619\ttotal: 31.9s\tremaining: 1m 35s\n",
      "600:\tlearn: 12.1874441\ttotal: 38.4s\tremaining: 1m 29s\n",
      "700:\tlearn: 11.1171931\ttotal: 44.7s\tremaining: 1m 22s\n",
      "800:\tlearn: 10.2112550\ttotal: 51.1s\tremaining: 1m 16s\n",
      "900:\tlearn: 9.3588059\ttotal: 57.5s\tremaining: 1m 10s\n",
      "1000:\tlearn: 8.6358611\ttotal: 1m 3s\tremaining: 1m 3s\n",
      "1100:\tlearn: 7.9611560\ttotal: 1m 10s\tremaining: 57.3s\n",
      "1200:\tlearn: 7.3584721\ttotal: 1m 16s\tremaining: 50.9s\n",
      "1300:\tlearn: 6.7847651\ttotal: 1m 22s\tremaining: 44.5s\n",
      "1400:\tlearn: 6.2610040\ttotal: 1m 29s\tremaining: 38.2s\n",
      "1500:\tlearn: 5.7711451\ttotal: 1m 35s\tremaining: 31.8s\n",
      "1600:\tlearn: 5.3295377\ttotal: 1m 42s\tremaining: 25.5s\n",
      "1700:\tlearn: 4.9291995\ttotal: 1m 48s\tremaining: 19.1s\n",
      "1800:\tlearn: 4.5615443\ttotal: 1m 55s\tremaining: 12.7s\n",
      "1900:\tlearn: 4.2119728\ttotal: 2m 1s\tremaining: 6.32s\n",
      "1999:\tlearn: 3.9344103\ttotal: 2m 7s\tremaining: 0us\n"
     ]
    },
    {
     "data": {
      "text/plain": [
       "<catboost.core.CatBoostRegressor at 0x7f7854409cd0>"
      ]
     },
     "execution_count": 16,
     "metadata": {},
     "output_type": "execute_result"
    }
   ],
   "source": [
    "model_tst.fit(X, y['TST'])"
   ]
  },
  {
   "cell_type": "code",
   "execution_count": 17,
   "id": "0063cb4c-068a-492f-b109-2559ad91c76b",
   "metadata": {},
   "outputs": [
    {
     "name": "stdout",
     "output_type": "stream",
     "text": [
      "Learning rate set to 0.026218\n",
      "0:\tlearn: 0.0990916\ttotal: 64.3ms\tremaining: 2m 8s\n",
      "100:\tlearn: 0.0440354\ttotal: 6.4s\tremaining: 2m\n",
      "200:\tlearn: 0.0317651\ttotal: 12.7s\tremaining: 1m 53s\n",
      "300:\tlearn: 0.0264121\ttotal: 19.1s\tremaining: 1m 47s\n",
      "400:\tlearn: 0.0224934\ttotal: 25.5s\tremaining: 1m 41s\n",
      "500:\tlearn: 0.0200877\ttotal: 31.8s\tremaining: 1m 35s\n",
      "600:\tlearn: 0.0181873\ttotal: 38.1s\tremaining: 1m 28s\n",
      "700:\tlearn: 0.0165398\ttotal: 44.4s\tremaining: 1m 22s\n",
      "800:\tlearn: 0.0151076\ttotal: 50.7s\tremaining: 1m 15s\n",
      "900:\tlearn: 0.0137211\ttotal: 57.1s\tremaining: 1m 9s\n",
      "1000:\tlearn: 0.0125233\ttotal: 1m 3s\tremaining: 1m 3s\n",
      "1100:\tlearn: 0.0114999\ttotal: 1m 9s\tremaining: 57s\n",
      "1200:\tlearn: 0.0105371\ttotal: 1m 16s\tremaining: 50.7s\n",
      "1300:\tlearn: 0.0096792\ttotal: 1m 22s\tremaining: 44.3s\n",
      "1400:\tlearn: 0.0088756\ttotal: 1m 28s\tremaining: 38s\n",
      "1500:\tlearn: 0.0081823\ttotal: 1m 35s\tremaining: 31.7s\n",
      "1600:\tlearn: 0.0075238\ttotal: 1m 41s\tremaining: 25.3s\n",
      "1700:\tlearn: 0.0069678\ttotal: 1m 48s\tremaining: 19s\n",
      "1800:\tlearn: 0.0064223\ttotal: 1m 54s\tremaining: 12.6s\n",
      "1900:\tlearn: 0.0059505\ttotal: 2m\tremaining: 6.29s\n",
      "1999:\tlearn: 0.0055273\ttotal: 2m 6s\tremaining: 0us\n"
     ]
    },
    {
     "data": {
      "text/plain": [
       "<catboost.core.CatBoostRegressor at 0x7f786c521760>"
      ]
     },
     "execution_count": 17,
     "metadata": {},
     "output_type": "execute_result"
    }
   ],
   "source": [
    "model_C.fit(X, y['C'])"
   ]
  },
  {
   "cell_type": "code",
   "execution_count": null,
   "id": "77a65f1c-1192-4c95-8151-7b64cb4211dd",
   "metadata": {},
   "outputs": [],
   "source": [
    "# X_T_copy = X.copy()\n",
    "# X_T_copy['TST'] = model_tst.predict(X)"
   ]
  },
  {
   "cell_type": "code",
   "execution_count": 18,
   "id": "23eea7d5-658b-4480-9f6e-598c925b1585",
   "metadata": {},
   "outputs": [],
   "source": [
    "save_catboost_models(model_tst, model_C)"
   ]
  },
  {
   "cell_type": "code",
   "execution_count": 19,
   "id": "602f5964-f102-4920-98a1-84d1f1f86e30",
   "metadata": {},
   "outputs": [
    {
     "data": {
      "text/plain": [
       "<BarContainer object of 15 artists>"
      ]
     },
     "execution_count": 19,
     "metadata": {},
     "output_type": "execute_result"
    },
    {
     "data": {
      "image/png": "[encoded data removed]",
      "text/plain": [
       "<Figure size 432x288 with 1 Axes>"
      ]
     },
     "metadata": {
      "needs_background": "light"
     },
     "output_type": "display_data"
    }
   ],
   "source": [
    "args = model_C.feature_importances_.argsort()[::-1][:15]\n",
    "plt.barh(np.array(model_C.feature_names_)[args], model_C.feature_importances_[args]) \n"
   ]
  },
  {
   "cell_type": "code",
   "execution_count": 36,
   "id": "6c676238-6833-4188-93d4-7565d190773c",
   "metadata": {},
   "outputs": [
    {
     "data": {
      "text/plain": [
       "{'08YU.z02/ЭТ    ',\n",
       " '09Г2С          ',\n",
       " '09Г2С.16       ',\n",
       " '20             ',\n",
       " '25Г2С          ',\n",
       " '28С            ',\n",
       " '28С.2          ',\n",
       " '35ГС           ',\n",
       " '3SP.z23/ЭТ     ',\n",
       " '3SP.z24/ЭТ     ',\n",
       " '4SP.z08/ЭТ     ',\n",
       " '5SP.z24/ЭТ     ',\n",
       " 'C071TM.z01/ЭТ  ',\n",
       " 'C091TM.z01/ЭТ  ',\n",
       " 'C121TM/ЭТ      ',\n",
       " 'GR60.z06/ЭТ    ',\n",
       " 'SC2/ЭТ         ',\n",
       " 'SC2M/ЭТ        ',\n",
       " 'СТ3ГПС.8       ',\n",
       " 'СТ3ГСП.2       ',\n",
       " 'СТ3ГСП.4       ',\n",
       " 'СТ3ПС.6        ',\n",
       " 'СТ3ПС.7        ',\n",
       " 'Ст1кп          ',\n",
       " 'Ст1пс          ',\n",
       " 'Ст1пс.z05/ЭТ   ',\n",
       " 'Ст2пс          ',\n",
       " 'Ст3Гпс         ',\n",
       " 'Ст3пс          ',\n",
       " 'Ст3пс/Э        ',\n",
       " 'Ст3сп          ',\n",
       " 'Ст3сп/Т        ',\n",
       " 'Ст3сп/Э        ',\n",
       " 'Ст3сп/ЭТ       ',\n",
       " 'Ст4сп          ',\n",
       " 'Ст4сп/ЭТ       ',\n",
       " 'Ст5сп          ',\n",
       " 'Ш2.1           ',\n",
       " 'Ш2.3           '}"
      ]
     },
     "execution_count": 36,
     "metadata": {},
     "output_type": "execute_result"
    }
   ],
   "source": [
    "set(X_test['plavka_NMZ'].values)"
   ]
  },
  {
   "cell_type": "code",
   "execution_count": null,
   "id": "67313340-0a84-4eb6-82c2-20468af3937f",
   "metadata": {},
   "outputs": [],
   "source": []
  }
 ],
 "metadata": {
  "kernelspec": {
   "display_name": "Python 3 (ipykernel)",
   "language": "python",
   "name": "python3"
  },
  "language_info": {
   "codemirror_mode": {
    "name": "ipython",
    "version": 3
   },
   "file_extension": ".py",
   "mimetype": "text/x-python",
   "name": "python",
   "nbconvert_exporter": "python",
   "pygments_lexer": "ipython3",
   "version": "3.9.5"
  }
 },
 "nbformat": 4,
 "nbformat_minor": 5
}
