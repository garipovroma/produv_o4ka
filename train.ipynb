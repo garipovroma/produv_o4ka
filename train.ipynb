{
 "cells": [
  {
   "cell_type": "code",
   "execution_count": 176,
   "id": "0846599d-e709-438d-b7f7-92ca3e07f242",
   "metadata": {},
   "outputs": [],
   "source": [
    "import pandas as pd\n",
    "import numpy as np\n",
    "import matplotlib.pyplot as plt\n",
    "from utils.preprocess import *\n",
    "from utils.model import *"
   ]
  },
  {
   "cell_type": "markdown",
   "id": "726227fd-8b4c-4a48-88c2-f07dc33b5aa3",
   "metadata": {},
   "source": [
    "# Read data"
   ]
  },
  {
   "cell_type": "code",
   "execution_count": 177,
   "id": "563c3c45-b3e8-492b-a6af-df2d80de677c",
   "metadata": {},
   "outputs": [],
   "source": [
    "y = read_target_train()"
   ]
  },
  {
   "cell_type": "markdown",
   "id": "782d9ca3-c4fd-4cdf-a604-0477234c860a",
   "metadata": {
    "tags": []
   },
   "source": [
    "# Preprocess data"
   ]
  },
  {
   "cell_type": "code",
   "execution_count": 178,
   "id": "ef5f14c5-15c9-4971-a0a4-dbfdae987727",
   "metadata": {},
   "outputs": [],
   "source": [
    "X, X_test = read_preprocessed_data()"
   ]
  },
  {
   "cell_type": "markdown",
   "id": "17fd75bd-fbc6-47b0-a76d-65ef66830d16",
   "metadata": {
    "tags": []
   },
   "source": [
    "# Train catboost"
   ]
  },
  {
   "cell_type": "code",
   "execution_count": 179,
   "id": "4a2a8dc9-cc79-4c41-b76e-e9000557de7b",
   "metadata": {},
   "outputs": [],
   "source": [
    "from catboost import CatBoostRegressor"
   ]
  },
  {
   "cell_type": "code",
   "execution_count": 180,
   "id": "2e577a33-45fb-4c6c-88d3-5e30735e4898",
   "metadata": {
    "tags": []
   },
   "outputs": [],
   "source": [
    "model_tst = CatBoostRegressor(iterations = 300, verbose = 50, depth = 3, random_state = config['random_state'], cat_features=get_cat_features_list(X), loss_function='MAE')\n",
    "model_C = CatBoostRegressor(iterations = 300, verbose = 50, depth = 3, random_state = config['random_state'], cat_features=get_cat_features_list(X), loss_function='MAE')"
   ]
  },
  {
   "cell_type": "code",
   "execution_count": 181,
   "id": "948c6947-808e-4adb-aefa-7c10962b0f75",
   "metadata": {},
   "outputs": [
    {
     "name": "stdout",
     "output_type": "stream",
     "text": [
      "0:\tlearn: 23.6516422\ttotal: 14.3ms\tremaining: 4.26s\n",
      "50:\tlearn: 18.6522370\ttotal: 681ms\tremaining: 3.32s\n",
      "100:\tlearn: 17.2961875\ttotal: 1.34s\tremaining: 2.64s\n",
      "150:\tlearn: 16.5263993\ttotal: 2s\tremaining: 1.97s\n",
      "200:\tlearn: 15.8562281\ttotal: 2.65s\tremaining: 1.31s\n",
      "250:\tlearn: 15.3130964\ttotal: 3.31s\tremaining: 647ms\n",
      "299:\tlearn: 14.8388852\ttotal: 3.97s\tremaining: 0us\n"
     ]
    },
    {
     "data": {
      "text/plain": [
       "<catboost.core.CatBoostRegressor at 0x7f8bdcc9e100>"
      ]
     },
     "execution_count": 181,
     "metadata": {},
     "output_type": "execute_result"
    }
   ],
   "source": [
    "model_tst.fit(X, y['TST'])"
   ]
  },
  {
   "cell_type": "code",
   "execution_count": 182,
   "id": "0063cb4c-068a-492f-b109-2559ad91c76b",
   "metadata": {},
   "outputs": [
    {
     "name": "stdout",
     "output_type": "stream",
     "text": [
      "0:\tlearn: 0.0386563\ttotal: 14.5ms\tremaining: 4.33s\n",
      "50:\tlearn: 0.0311469\ttotal: 699ms\tremaining: 3.41s\n",
      "100:\tlearn: 0.0274317\ttotal: 1.36s\tremaining: 2.69s\n",
      "150:\tlearn: 0.0237275\ttotal: 2.03s\tremaining: 2s\n",
      "200:\tlearn: 0.0216954\ttotal: 2.7s\tremaining: 1.33s\n",
      "250:\tlearn: 0.0210527\ttotal: 3.36s\tremaining: 655ms\n",
      "299:\tlearn: 0.0203235\ttotal: 4s\tremaining: 0us\n"
     ]
    },
    {
     "data": {
      "text/plain": [
       "<catboost.core.CatBoostRegressor at 0x7f8bdcc9e0d0>"
      ]
     },
     "execution_count": 182,
     "metadata": {},
     "output_type": "execute_result"
    }
   ],
   "source": [
    "model_C.fit(X, y['C'])"
   ]
  },
  {
   "cell_type": "code",
   "execution_count": 115,
   "id": "23eea7d5-658b-4480-9f6e-598c925b1585",
   "metadata": {},
   "outputs": [],
   "source": [
    "save_catboost_models(model_tst, model_C)"
   ]
  },
  {
   "cell_type": "code",
   "execution_count": 183,
   "id": "602f5964-f102-4920-98a1-84d1f1f86e30",
   "metadata": {},
   "outputs": [],
   "source": [
    "args = model_C.feature_importances_.argsort()[::-1][:250]\n",
    "# plt.barh(np.array(model_C.feature_names_)[args], model_C.feature_importances_[args]) \n",
    "C_args = np.array(model_C.feature_names_)[args]"
   ]
  },
  {
   "cell_type": "code",
   "execution_count": 184,
   "id": "a45053e0-d13c-4ce5-aa87-795511fb47f7",
   "metadata": {},
   "outputs": [],
   "source": [
    "args = model_tst.feature_importances_.argsort()[::-1][:250]\n",
    "# plt.barh(np.array(model_tst.feature_names_)[args], model_tst.feature_importances_[args]) \n",
    "tst_args = np.array(model_tst.feature_names_)[args]"
   ]
  },
  {
   "cell_type": "code",
   "execution_count": 174,
   "id": "5e37b454-fc59-4c91-8615-e22cfbd93159",
   "metadata": {},
   "outputs": [
    {
     "data": {
      "text/plain": [
       "array(['plavka_NMZ_C', 'RAS_sum', 'plavka_NMZ_TST', 'NMSYP_изв_ЦОИ',\n",
       "       'VES', 'AR_last', 'O2_sum', 'AR_end_Продувка', 'AR_amax',\n",
       "       'CO2_last', 'plavka_NAPR_ZAD_TST', 'O2_end_Продувка',\n",
       "       'CO2_end_Продувка', 'NMSYP_изв_ЦОИ_amax', 'CO_last'], dtype='<U32')"
      ]
     },
     "execution_count": 174,
     "metadata": {},
     "output_type": "execute_result"
    }
   ],
   "source": [
    "C_args"
   ]
  },
  {
   "cell_type": "code",
   "execution_count": 175,
   "id": "c9394ecf-15a3-4aaa-92e2-175659e3d080",
   "metadata": {},
   "outputs": [
    {
     "data": {
      "text/plain": [
       "array(['O2_sum', 'RAS_sum', 'plavka_NMZ_TST', 'O2_amin', 'O2_mean',\n",
       "       'O2_first', 'CO2_start_Заливка чугуна', 'O2_idxmin', 'H2_mean',\n",
       "       'O2_median', 'O2_last', 'T', 'CO2_median', 'O2_idxmax',\n",
       "       'AR_end_Продувка'], dtype='<U32')"
      ]
     },
     "execution_count": 175,
     "metadata": {},
     "output_type": "execute_result"
    }
   ],
   "source": [
    "tst_args"
   ]
  },
  {
   "cell_type": "code",
   "execution_count": 185,
   "id": "b9645b71-52ec-4ce3-a18f-b605de5f516b",
   "metadata": {},
   "outputs": [],
   "source": [
    "model_tst_3 = CatBoostRegressor(iterations = 400, verbose = 50, depth = 3, random_state = config['random_state'], cat_features=list(set(tst_args).intersection(get_cat_features_list(X))), loss_function='MAE')\n",
    "model_C_3 = CatBoostRegressor(iterations = 400, verbose = 50, depth = 3, random_state = config['random_state'], cat_features=list(set(C_args).intersection(get_cat_features_list(X))), loss_function='MAE')"
   ]
  },
  {
   "cell_type": "code",
   "execution_count": 186,
   "id": "710e0063-44af-4fd6-b82f-f445162a98c3",
   "metadata": {},
   "outputs": [
    {
     "name": "stdout",
     "output_type": "stream",
     "text": [
      "0:\tlearn: 23.6949481\ttotal: 9.71ms\tremaining: 3.87s\n",
      "50:\tlearn: 18.4934200\ttotal: 460ms\tremaining: 3.15s\n",
      "100:\tlearn: 17.1904224\ttotal: 905ms\tremaining: 2.68s\n",
      "150:\tlearn: 16.3539364\ttotal: 1.35s\tremaining: 2.23s\n",
      "200:\tlearn: 15.7915749\ttotal: 1.8s\tremaining: 1.78s\n",
      "250:\tlearn: 15.2860249\ttotal: 2.24s\tremaining: 1.33s\n",
      "300:\tlearn: 14.7781685\ttotal: 2.71s\tremaining: 892ms\n",
      "350:\tlearn: 14.3064741\ttotal: 3.16s\tremaining: 441ms\n",
      "399:\tlearn: 13.9358016\ttotal: 3.6s\tremaining: 0us\n"
     ]
    },
    {
     "data": {
      "text/plain": [
       "<catboost.core.CatBoostRegressor at 0x7f8b934d7040>"
      ]
     },
     "execution_count": 186,
     "metadata": {},
     "output_type": "execute_result"
    }
   ],
   "source": [
    "model_tst_3.fit(X[tst_args], y['TST'])"
   ]
  },
  {
   "cell_type": "code",
   "execution_count": 187,
   "id": "df33658e-bf79-48cd-aec7-b8605ff154f5",
   "metadata": {},
   "outputs": [
    {
     "name": "stdout",
     "output_type": "stream",
     "text": [
      "0:\tlearn: 0.0387026\ttotal: 9.66ms\tremaining: 3.85s\n",
      "50:\tlearn: 0.0308913\ttotal: 474ms\tremaining: 3.25s\n",
      "100:\tlearn: 0.0267857\ttotal: 930ms\tremaining: 2.75s\n",
      "150:\tlearn: 0.0239372\ttotal: 1.39s\tremaining: 2.29s\n",
      "200:\tlearn: 0.0218012\ttotal: 1.84s\tremaining: 1.82s\n",
      "250:\tlearn: 0.0209387\ttotal: 2.3s\tremaining: 1.36s\n",
      "300:\tlearn: 0.0203927\ttotal: 2.75s\tremaining: 906ms\n",
      "350:\tlearn: 0.0199086\ttotal: 3.21s\tremaining: 448ms\n",
      "399:\tlearn: 0.0195841\ttotal: 3.66s\tremaining: 0us\n"
     ]
    },
    {
     "data": {
      "text/plain": [
       "<catboost.core.CatBoostRegressor at 0x7f8b93700820>"
      ]
     },
     "execution_count": 187,
     "metadata": {},
     "output_type": "execute_result"
    }
   ],
   "source": [
    "model_C_3.fit(X[C_args], y['C'])"
   ]
  },
  {
   "cell_type": "code",
   "execution_count": 188,
   "id": "edb739fb-2efd-483e-a049-f514a55a433f",
   "metadata": {},
   "outputs": [],
   "source": [
    "save_catboost_models(model_tst_3, model_C_3)"
   ]
  },
  {
   "cell_type": "markdown",
   "id": "4446d003-542e-4578-a91c-0372339d8fd9",
   "metadata": {},
   "source": [
    "### Model Validation"
   ]
  },
  {
   "cell_type": "code",
   "execution_count": 15,
   "id": "67313340-0a84-4eb6-82c2-20468af3937f",
   "metadata": {},
   "outputs": [
    {
     "data": {
      "application/vnd.jupyter.widget-view+json": {
       "model_id": "085df3a47f484aed972bf20df2a1e0e6",
       "version_major": 2,
       "version_minor": 0
      },
      "text/plain": [
       "MetricVisualizer(layout=Layout(align_self='stretch', height='500px'))"
      ]
     },
     "metadata": {},
     "output_type": "display_data"
    },
    {
     "name": "stdout",
     "output_type": "stream",
     "text": [
      "0:\tlearn: 1599.5939094\ttest: 1599.5938682\tbest: 1599.5938682 (0)\n",
      "50:\tlearn: 347.0403156\ttest: 347.1365096\tbest: 347.1365096 (50)\n",
      "100:\tlearn: 74.4821040\ttest: 74.5827869\tbest: 74.5827869 (100)\n",
      "150:\tlearn: 24.6276175\ttest: 25.1763558\tbest: 25.1763558 (150)\n",
      "200:\tlearn: 17.9234498\ttest: 18.7811106\tbest: 18.7811106 (200)\n",
      "250:\tlearn: 16.4739094\ttest: 17.6340312\tbest: 17.6340312 (250)\n",
      "300:\tlearn: 15.5654434\ttest: 17.1245746\tbest: 17.1245746 (300)\n",
      "350:\tlearn: 14.8655151\ttest: 16.7734657\tbest: 16.7734657 (350)\n",
      "400:\tlearn: 14.3049505\ttest: 16.5672728\tbest: 16.5672728 (400)\n",
      "450:\tlearn: 13.8289447\ttest: 16.3868281\tbest: 16.3868281 (450)\n",
      "500:\tlearn: 13.4337461\ttest: 16.2706617\tbest: 16.2706617 (500)\n",
      "550:\tlearn: 13.0775700\ttest: 16.1667441\tbest: 16.1667441 (550)\n",
      "600:\tlearn: 12.7744884\ttest: 16.0859224\tbest: 16.0859224 (600)\n",
      "650:\tlearn: 12.5049079\ttest: 16.0171485\tbest: 16.0171485 (650)\n",
      "700:\tlearn: 12.2642187\ttest: 15.9708838\tbest: 15.9708838 (700)\n",
      "750:\tlearn: 12.0471381\ttest: 15.9240092\tbest: 15.9240092 (750)\n",
      "800:\tlearn: 11.8379122\ttest: 15.8784877\tbest: 15.8784877 (800)\n",
      "850:\tlearn: 11.6405749\ttest: 15.8573550\tbest: 15.8573550 (850)\n",
      "900:\tlearn: 11.4531615\ttest: 15.8155730\tbest: 15.8155730 (900)\n",
      "950:\tlearn: 11.2814514\ttest: 15.7845105\tbest: 15.7845105 (950)\n",
      "1000:\tlearn: 11.1261899\ttest: 15.7654449\tbest: 15.7654449 (1000)\n",
      "1050:\tlearn: 10.9714216\ttest: 15.7309507\tbest: 15.7309507 (1050)\n",
      "1100:\tlearn: 10.8362019\ttest: 15.7005641\tbest: 15.7005641 (1100)\n",
      "1150:\tlearn: 10.7003401\ttest: 15.6863166\tbest: 15.6863166 (1150)\n",
      "1199:\tlearn: 10.5792386\ttest: 15.6740364\tbest: 15.6732494 (1198)\ttotal: 1m 34s\tremaining: 0us\n"
     ]
    }
   ],
   "source": [
    "from catboost import Pool, cv\n",
    "\n",
    "cv_data = X_tst_copy\n",
    "\n",
    "labels = y['TST']\n",
    "\n",
    "cat_features = get_cat_features_list(X)\n",
    "\n",
    "cv_dataset = Pool(data=cv_data,\n",
    "                  label=labels,\n",
    "                  cat_features=cat_features)\n",
    "\n",
    "params = {\"iterations\": 1200,\n",
    "          \"depth\": 3,\n",
    "          \"loss_function\": \"MAE\",\n",
    "          \"verbose\": 50}\n",
    "\n",
    "scores = cv(cv_dataset,\n",
    "            params,\n",
    "            fold_count=5,\n",
    "            plot=\"True\")"
   ]
  },
  {
   "cell_type": "code",
   "execution_count": 16,
   "id": "3f224dba-ccf5-423f-a2b3-ffa0e8045907",
   "metadata": {},
   "outputs": [
    {
     "data": {
      "application/vnd.jupyter.widget-view+json": {
       "model_id": "f4fcc01bd59048909f583d32571c3da2",
       "version_major": 2,
       "version_minor": 0
      },
      "text/plain": [
       "MetricVisualizer(layout=Layout(align_self='stretch', height='500px'))"
      ]
     },
     "metadata": {},
     "output_type": "display_data"
    },
    {
     "name": "stdout",
     "output_type": "stream",
     "text": [
      "0:\tlearn: 0.0806666\ttest: 0.0806686\tbest: 0.0806686 (0)\n",
      "50:\tlearn: 0.0389950\ttest: 0.0390236\tbest: 0.0390236 (50)\n",
      "100:\tlearn: 0.0307673\ttest: 0.0311081\tbest: 0.0311081 (100)\n",
      "150:\tlearn: 0.0269163\ttest: 0.0279508\tbest: 0.0279508 (150)\n",
      "200:\tlearn: 0.0236489\ttest: 0.0251957\tbest: 0.0251957 (200)\n",
      "250:\tlearn: 0.0215524\ttest: 0.0234192\tbest: 0.0234192 (250)\n",
      "300:\tlearn: 0.0203976\ttest: 0.0226952\tbest: 0.0226952 (300)\n",
      "350:\tlearn: 0.0198179\ttest: 0.0224798\tbest: 0.0224798 (350)\n",
      "400:\tlearn: 0.0193994\ttest: 0.0223277\tbest: 0.0223277 (400)\n",
      "450:\tlearn: 0.0191088\ttest: 0.0222438\tbest: 0.0222415 (448)\n",
      "500:\tlearn: 0.0188521\ttest: 0.0221751\tbest: 0.0221751 (500)\n",
      "550:\tlearn: 0.0186167\ttest: 0.0221277\tbest: 0.0221277 (550)\n",
      "600:\tlearn: 0.0183732\ttest: 0.0220687\tbest: 0.0220687 (600)\n",
      "650:\tlearn: 0.0181762\ttest: 0.0220394\tbest: 0.0220394 (650)\n",
      "700:\tlearn: 0.0179898\ttest: 0.0220126\tbest: 0.0220119 (696)\n",
      "750:\tlearn: 0.0178034\ttest: 0.0219813\tbest: 0.0219813 (750)\n",
      "800:\tlearn: 0.0176286\ttest: 0.0219294\tbest: 0.0219294 (800)\n",
      "850:\tlearn: 0.0174724\ttest: 0.0218955\tbest: 0.0218949 (846)\n",
      "900:\tlearn: 0.0173277\ttest: 0.0218742\tbest: 0.0218742 (900)\n",
      "950:\tlearn: 0.0171834\ttest: 0.0218550\tbest: 0.0218548 (947)\n",
      "1000:\tlearn: 0.0170069\ttest: 0.0218149\tbest: 0.0218149 (1000)\n",
      "1050:\tlearn: 0.0168721\ttest: 0.0217884\tbest: 0.0217884 (1050)\n",
      "1100:\tlearn: 0.0167611\ttest: 0.0217905\tbest: 0.0217865 (1059)\n",
      "1150:\tlearn: 0.0166332\ttest: 0.0217877\tbest: 0.0217826 (1125)\n",
      "1199:\tlearn: 0.0165353\ttest: 0.0217830\tbest: 0.0217823 (1197)\ttotal: 1m 24s\tremaining: 0us\n"
     ]
    }
   ],
   "source": [
    "from catboost import Pool, cv\n",
    "\n",
    "cv_data = X_C_copy\n",
    "\n",
    "labels = y['C']\n",
    "\n",
    "cat_features = get_cat_features_list(X)\n",
    "\n",
    "cv_dataset = Pool(data=cv_data,\n",
    "                  label=labels,\n",
    "                  cat_features=cat_features)\n",
    "\n",
    "params = {\"iterations\": 1200,\n",
    "          \"depth\": 3,\n",
    "#           \"l2_leaf_reg\" : 4,\n",
    "          \"loss_function\": \"MAE\",\n",
    "          \"verbose\": 50}\n",
    "\n",
    "scores = cv(cv_dataset,\n",
    "            params,\n",
    "            fold_count=5, \n",
    "            plot=\"True\")"
   ]
  },
  {
   "cell_type": "code",
   "execution_count": null,
   "id": "8684ad45-99f5-4279-885a-80db33d31a1e",
   "metadata": {},
   "outputs": [],
   "source": []
  }
 ],
 "metadata": {
  "kernelspec": {
   "display_name": "Python 3 (ipykernel)",
   "language": "python",
   "name": "python3"
  },
  "language_info": {
   "codemirror_mode": {
    "name": "ipython",
    "version": 3
   },
   "file_extension": ".py",
   "mimetype": "text/x-python",
   "name": "python",
   "nbconvert_exporter": "python",
   "pygments_lexer": "ipython3",
   "version": "3.9.5"
  }
 },
 "nbformat": 4,
 "nbformat_minor": 5
}
