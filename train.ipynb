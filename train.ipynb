{
 "cells": [
  {
   "cell_type": "code",
   "execution_count": 1,
   "id": "0846599d-e709-438d-b7f7-92ca3e07f242",
   "metadata": {},
   "outputs": [],
   "source": [
    "import pandas as pd\n",
    "import numpy as np\n",
    "import matplotlib.pyplot as plt\n",
    "from utils.preprocess import *\n",
    "from utils.model import *"
   ]
  },
  {
   "cell_type": "markdown",
   "id": "726227fd-8b4c-4a48-88c2-f07dc33b5aa3",
   "metadata": {},
   "source": [
    "# Read data"
   ]
  },
  {
   "cell_type": "code",
   "execution_count": 2,
   "id": "563c3c45-b3e8-492b-a6af-df2d80de677c",
   "metadata": {},
   "outputs": [],
   "source": [
    "y = read_target_train()"
   ]
  },
  {
   "cell_type": "markdown",
   "id": "782d9ca3-c4fd-4cdf-a604-0477234c860a",
   "metadata": {
    "tags": []
   },
   "source": [
    "# Preprocess data"
   ]
  },
  {
   "cell_type": "code",
   "execution_count": 3,
   "id": "ef5f14c5-15c9-4971-a0a4-dbfdae987727",
   "metadata": {},
   "outputs": [],
   "source": [
    "X, X_test = read_preprocessed_data()"
   ]
  },
  {
   "cell_type": "markdown",
   "id": "17fd75bd-fbc6-47b0-a76d-65ef66830d16",
   "metadata": {
    "tags": []
   },
   "source": [
    "# Train catboost"
   ]
  },
  {
   "cell_type": "code",
   "execution_count": 4,
   "id": "4a2a8dc9-cc79-4c41-b76e-e9000557de7b",
   "metadata": {},
   "outputs": [],
   "source": [
    "from catboost import CatBoostRegressor"
   ]
  },
  {
   "cell_type": "code",
   "execution_count": 5,
   "id": "2e577a33-45fb-4c6c-88d3-5e30735e4898",
   "metadata": {
    "tags": []
   },
   "outputs": [],
   "source": [
    "model_tst = CatBoostRegressor(iterations = 400, verbose = 50, depth = 3, random_state = config['random_state'], cat_features=get_cat_features_list(X), loss_function='MAE')\n",
    "model_C = CatBoostRegressor(iterations = 400, verbose = 50, depth = 3, random_state = config['random_state'], cat_features=get_cat_features_list(X), loss_function='MAE')"
   ]
  },
  {
   "cell_type": "code",
   "execution_count": 6,
   "id": "948c6947-808e-4adb-aefa-7c10962b0f75",
   "metadata": {},
   "outputs": [
    {
     "name": "stdout",
     "output_type": "stream",
     "text": [
      "0:\tlearn: 23.6791847\ttotal: 61.8ms\tremaining: 24.7s\n",
      "50:\tlearn: 18.6059626\ttotal: 722ms\tremaining: 4.94s\n",
      "100:\tlearn: 17.2868372\ttotal: 1.38s\tremaining: 4.08s\n",
      "150:\tlearn: 16.4806965\ttotal: 2.03s\tremaining: 3.35s\n",
      "200:\tlearn: 15.8925848\ttotal: 2.68s\tremaining: 2.66s\n",
      "250:\tlearn: 15.3768116\ttotal: 3.34s\tremaining: 1.98s\n",
      "300:\tlearn: 14.8784112\ttotal: 3.99s\tremaining: 1.31s\n",
      "350:\tlearn: 14.3951568\ttotal: 4.64s\tremaining: 648ms\n",
      "399:\tlearn: 14.0092125\ttotal: 5.29s\tremaining: 0us\n"
     ]
    },
    {
     "data": {
      "text/plain": [
       "<catboost.core.CatBoostRegressor at 0x7f36a43ed040>"
      ]
     },
     "execution_count": 6,
     "metadata": {},
     "output_type": "execute_result"
    }
   ],
   "source": [
    "model_tst.fit(X, y['TST'])"
   ]
  },
  {
   "cell_type": "code",
   "execution_count": 7,
   "id": "0063cb4c-068a-492f-b109-2559ad91c76b",
   "metadata": {},
   "outputs": [
    {
     "name": "stdout",
     "output_type": "stream",
     "text": [
      "0:\tlearn: 0.0386910\ttotal: 14.1ms\tremaining: 5.63s\n",
      "50:\tlearn: 0.0310657\ttotal: 685ms\tremaining: 4.68s\n",
      "100:\tlearn: 0.0272749\ttotal: 1.34s\tremaining: 3.96s\n",
      "150:\tlearn: 0.0232801\ttotal: 1.99s\tremaining: 3.27s\n",
      "200:\tlearn: 0.0218192\ttotal: 2.63s\tremaining: 2.61s\n",
      "250:\tlearn: 0.0209442\ttotal: 3.29s\tremaining: 1.95s\n",
      "300:\tlearn: 0.0203070\ttotal: 3.94s\tremaining: 1.29s\n",
      "350:\tlearn: 0.0199564\ttotal: 4.6s\tremaining: 642ms\n",
      "399:\tlearn: 0.0196693\ttotal: 5.24s\tremaining: 0us\n"
     ]
    },
    {
     "data": {
      "text/plain": [
       "<catboost.core.CatBoostRegressor at 0x7f36a43eddc0>"
      ]
     },
     "execution_count": 7,
     "metadata": {},
     "output_type": "execute_result"
    }
   ],
   "source": [
    "model_C.fit(X, y['C'])"
   ]
  },
  {
   "cell_type": "code",
   "execution_count": 8,
   "id": "23eea7d5-658b-4480-9f6e-598c925b1585",
   "metadata": {},
   "outputs": [],
   "source": [
    "save_catboost_models(model_tst, model_C)"
   ]
  },
  {
   "cell_type": "markdown",
   "id": "4446d003-542e-4578-a91c-0372339d8fd9",
   "metadata": {},
   "source": [
    "### Model Validation"
   ]
  },
  {
   "cell_type": "code",
   "execution_count": 9,
   "id": "67313340-0a84-4eb6-82c2-20468af3937f",
   "metadata": {},
   "outputs": [
    {
     "data": {
      "application/vnd.jupyter.widget-view+json": {
       "model_id": "c715a2c52ba8470db767f699d50f080e",
       "version_major": 2,
       "version_minor": 0
      },
      "text/plain": [
       "MetricVisualizer(layout=Layout(align_self='stretch', height='500px'))"
      ]
     },
     "metadata": {},
     "output_type": "display_data"
    },
    {
     "name": "stdout",
     "output_type": "stream",
     "text": [
      "0:\tlearn: 1599.5837018\ttest: 1599.5819651\tbest: 1599.5819651 (0)\n",
      "50:\tlearn: 347.2068191\ttest: 347.4235684\tbest: 347.4235684 (50)\n",
      "100:\tlearn: 74.6744672\ttest: 74.9504856\tbest: 74.9504856 (100)\n",
      "150:\tlearn: 24.6377079\ttest: 25.1747337\tbest: 25.1747337 (150)\n"
     ]
    },
    {
     "ename": "KeyboardInterrupt",
     "evalue": "",
     "output_type": "error",
     "traceback": [
      "\u001b[0;31m---------------------------------------------------------------------------\u001b[0m",
      "\u001b[0;31mKeyboardInterrupt\u001b[0m                         Traceback (most recent call last)",
      "\u001b[0;32m/tmp/ipykernel_4776/1244372411.py\u001b[0m in \u001b[0;36m<module>\u001b[0;34m\u001b[0m\n\u001b[1;32m     16\u001b[0m           \"verbose\": 50}\n\u001b[1;32m     17\u001b[0m \u001b[0;34m\u001b[0m\u001b[0m\n\u001b[0;32m---> 18\u001b[0;31m scores = cv(cv_dataset,\n\u001b[0m\u001b[1;32m     19\u001b[0m             \u001b[0mparams\u001b[0m\u001b[0;34m,\u001b[0m\u001b[0;34m\u001b[0m\u001b[0;34m\u001b[0m\u001b[0m\n\u001b[1;32m     20\u001b[0m             \u001b[0mfold_count\u001b[0m\u001b[0;34m=\u001b[0m\u001b[0;36m5\u001b[0m\u001b[0;34m,\u001b[0m\u001b[0;34m\u001b[0m\u001b[0;34m\u001b[0m\u001b[0m\n",
      "\u001b[0;32m~/.miniconda3/lib/python3.9/site-packages/catboost/core.py\u001b[0m in \u001b[0;36mcv\u001b[0;34m(pool, params, dtrain, iterations, num_boost_round, fold_count, nfold, inverted, partition_random_seed, seed, shuffle, logging_level, stratified, as_pandas, metric_period, verbose, verbose_eval, plot, early_stopping_rounds, save_snapshot, snapshot_file, snapshot_interval, metric_update_interval, folds, type, return_models, log_cout, log_cerr)\u001b[0m\n\u001b[1;32m   6138\u001b[0m     \u001b[0;32mwith\u001b[0m \u001b[0mlog_fixup\u001b[0m\u001b[0;34m(\u001b[0m\u001b[0mlog_cout\u001b[0m\u001b[0;34m,\u001b[0m \u001b[0mlog_cerr\u001b[0m\u001b[0;34m)\u001b[0m\u001b[0;34m,\u001b[0m \u001b[0mplot_wrapper\u001b[0m\u001b[0;34m(\u001b[0m\u001b[0mplot\u001b[0m\u001b[0;34m,\u001b[0m \u001b[0;34m[\u001b[0m\u001b[0m_get_train_dir\u001b[0m\u001b[0;34m(\u001b[0m\u001b[0mparams\u001b[0m\u001b[0;34m)\u001b[0m\u001b[0;34m]\u001b[0m\u001b[0;34m)\u001b[0m\u001b[0;34m:\u001b[0m\u001b[0;34m\u001b[0m\u001b[0;34m\u001b[0m\u001b[0m\n\u001b[1;32m   6139\u001b[0m         \u001b[0;32mif\u001b[0m \u001b[0;32mnot\u001b[0m \u001b[0mreturn_models\u001b[0m\u001b[0;34m:\u001b[0m\u001b[0;34m\u001b[0m\u001b[0;34m\u001b[0m\u001b[0m\n\u001b[0;32m-> 6140\u001b[0;31m             return _cv(params, pool, fold_count, inverted, partition_random_seed, shuffle, stratified,\n\u001b[0m\u001b[1;32m   6141\u001b[0m                     metric_update_interval, as_pandas, folds, type, return_models)\n\u001b[1;32m   6142\u001b[0m         \u001b[0;32melse\u001b[0m\u001b[0;34m:\u001b[0m\u001b[0;34m\u001b[0m\u001b[0;34m\u001b[0m\u001b[0m\n",
      "\u001b[0;32m_catboost.pyx\u001b[0m in \u001b[0;36m_catboost._cv\u001b[0;34m()\u001b[0m\n",
      "\u001b[0;32m_catboost.pyx\u001b[0m in \u001b[0;36m_catboost._cv\u001b[0;34m()\u001b[0m\n",
      "\u001b[0;31mKeyboardInterrupt\u001b[0m: "
     ]
    }
   ],
   "source": [
    "from catboost import Pool, cv\n",
    "\n",
    "cv_data = X\n",
    "\n",
    "labels = y['TST']\n",
    "\n",
    "cat_features = get_cat_features_list(X)\n",
    "\n",
    "cv_dataset = Pool(data=cv_data,\n",
    "                  label=labels,\n",
    "                  cat_features=cat_features)\n",
    "\n",
    "params = {\"iterations\": 1200,\n",
    "          \"depth\": 3,\n",
    "          \"loss_function\": \"MAE\",\n",
    "          \"verbose\": 50}\n",
    "\n",
    "scores = cv(cv_dataset,\n",
    "            params,\n",
    "            fold_count=5,\n",
    "            plot=\"True\")"
   ]
  },
  {
   "cell_type": "code",
   "execution_count": null,
   "id": "3f224dba-ccf5-423f-a2b3-ffa0e8045907",
   "metadata": {},
   "outputs": [],
   "source": [
    "from catboost import Pool, cv\n",
    "\n",
    "cv_data = X\n",
    "\n",
    "labels = y['C']\n",
    "\n",
    "cat_features = get_cat_features_list(X)\n",
    "\n",
    "cv_dataset = Pool(data=cv_data,\n",
    "                  label=labels,\n",
    "                  cat_features=cat_features)\n",
    "\n",
    "params = {\"iterations\": 1200,\n",
    "          \"depth\": 3,\n",
    "#           \"l2_leaf_reg\" : 4,\n",
    "          \"loss_function\": \"MAE\",\n",
    "          \"verbose\": 50}\n",
    "\n",
    "scores = cv(cv_dataset,\n",
    "            params,\n",
    "            fold_count=5, \n",
    "            plot=\"True\")"
   ]
  },
  {
   "cell_type": "code",
   "execution_count": null,
   "id": "8684ad45-99f5-4279-885a-80db33d31a1e",
   "metadata": {},
   "outputs": [],
   "source": []
  }
 ],
 "metadata": {
  "kernelspec": {
   "display_name": "Python 3 (ipykernel)",
   "language": "python",
   "name": "python3"
  },
  "language_info": {
   "codemirror_mode": {
    "name": "ipython",
    "version": 3
   },
   "file_extension": ".py",
   "mimetype": "text/x-python",
   "name": "python",
   "nbconvert_exporter": "python",
   "pygments_lexer": "ipython3",
   "version": "3.9.5"
  }
 },
 "nbformat": 4,
 "nbformat_minor": 5
}
