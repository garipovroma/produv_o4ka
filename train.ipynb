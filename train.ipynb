{
 "cells": [
  {
   "cell_type": "code",
   "execution_count": 1,
   "id": "0846599d-e709-438d-b7f7-92ca3e07f242",
   "metadata": {},
   "outputs": [],
   "source": [
    "import pandas as pd\n",
    "import numpy as np\n",
    "import matplotlib.pyplot as plt\n",
    "from utils.preprocess import *\n",
    "from utils.model import *"
   ]
  },
  {
   "cell_type": "markdown",
   "id": "726227fd-8b4c-4a48-88c2-f07dc33b5aa3",
   "metadata": {},
   "source": [
    "# Read data"
   ]
  },
  {
   "cell_type": "code",
   "execution_count": 2,
   "id": "563c3c45-b3e8-492b-a6af-df2d80de677c",
   "metadata": {},
   "outputs": [],
   "source": [
    "y = read_target_train()"
   ]
  },
  {
   "cell_type": "markdown",
   "id": "782d9ca3-c4fd-4cdf-a604-0477234c860a",
   "metadata": {
    "tags": []
   },
   "source": [
    "# Preprocess data"
   ]
  },
  {
   "cell_type": "code",
   "execution_count": 3,
   "id": "ef5f14c5-15c9-4971-a0a4-dbfdae987727",
   "metadata": {},
   "outputs": [],
   "source": [
    "X, X_test = read_preprocessed_data()"
   ]
  },
  {
   "cell_type": "code",
   "execution_count": 4,
   "id": "9fc1ef17-e4d6-4c63-9ff3-2156c9374d41",
   "metadata": {},
   "outputs": [
    {
     "data": {
      "text/plain": [
       "29"
      ]
     },
     "execution_count": 4,
     "metadata": {},
     "output_type": "execute_result"
    }
   ],
   "source": [
    "# X.select_dtypes(['bool'])\n",
    "len(get_cat_features_list(X_test))"
   ]
  },
  {
   "cell_type": "markdown",
   "id": "17fd75bd-fbc6-47b0-a76d-65ef66830d16",
   "metadata": {
    "tags": []
   },
   "source": [
    "# Train catboost"
   ]
  },
  {
   "cell_type": "code",
   "execution_count": 5,
   "id": "4a2a8dc9-cc79-4c41-b76e-e9000557de7b",
   "metadata": {},
   "outputs": [],
   "source": [
    "from catboost import CatBoostRegressor"
   ]
  },
  {
   "cell_type": "code",
   "execution_count": 6,
   "id": "712ac91d-7ec0-4edd-a95b-a83ccc121901",
   "metadata": {},
   "outputs": [
    {
     "data": {
      "text/plain": [
       "['Завалка лома_gr',\n",
       " 'Заливка чугуна_gr',\n",
       " 'Продувка_gr',\n",
       " 'Наведение гарнисажа_gr',\n",
       " 'Осмотр конвертера_gr',\n",
       " 'Отсутствие чугуна_gr',\n",
       " 'Обрыв горловины_gr',\n",
       " 'Наложение продувки_gr',\n",
       " 'Вхождение в гр.МНЛЗ_gr',\n",
       " 'Полусухое торкрет._gr',\n",
       " 'Отсутствие O2_gr',\n",
       " 'Неиспр. электр. обор_gr',\n",
       " 'Подварка  футеровки_gr',\n",
       " 'Ожидание стальковша_gr',\n",
       " 'Замер положения фурм_gr',\n",
       " 'Неиспр. механ. обор._gr',\n",
       " 'Отсутствие мет.шихты_gr',\n",
       " 'Замена фурмы_gr',\n",
       " 'ППР_gr',\n",
       " 'Ожидание шл.чаш_gr',\n",
       " 'Отсут. своб.разл.пл._gr',\n",
       " 'Ремонт летки_gr',\n",
       " 'Неиспр. энерг. обор_gr',\n",
       " 'Неиспр. АСУ и КИПиА_gr',\n",
       " 'plavka_NMZ',\n",
       " 'plavka_NAPR_ZAD',\n",
       " 'plavka_TIPE_FUR',\n",
       " 'plavka_TIPE_GOL',\n",
       " 'cluster_label']"
      ]
     },
     "execution_count": 6,
     "metadata": {},
     "output_type": "execute_result"
    }
   ],
   "source": [
    "get_cat_features_list(X)"
   ]
  },
  {
   "cell_type": "code",
   "execution_count": 60,
   "id": "2e577a33-45fb-4c6c-88d3-5e30735e4898",
   "metadata": {
    "tags": []
   },
   "outputs": [],
   "source": [
    "model_tst = CatBoostRegressor(iterations = 600, verbose = 50, depth = 3, random_state = config['random_state'], cat_features=get_cat_features_list(X), loss_function='MAE')\n",
    "model_C = CatBoostRegressor(iterations = 600, verbose = 50, depth = 3, random_state = config['random_state'], cat_features=get_cat_features_list(X), loss_function='MAE')"
   ]
  },
  {
   "cell_type": "code",
   "execution_count": 61,
   "id": "948c6947-808e-4adb-aefa-7c10962b0f75",
   "metadata": {},
   "outputs": [
    {
     "name": "stdout",
     "output_type": "stream",
     "text": [
      "0:\tlearn: 23.6805807\ttotal: 16.1ms\tremaining: 9.62s\n",
      "50:\tlearn: 18.5486397\ttotal: 787ms\tremaining: 8.47s\n",
      "100:\tlearn: 17.2510113\ttotal: 1.56s\tremaining: 7.69s\n",
      "150:\tlearn: 16.4938801\ttotal: 2.32s\tremaining: 6.89s\n",
      "200:\tlearn: 15.9023896\ttotal: 3.07s\tremaining: 6.09s\n",
      "250:\tlearn: 15.3837650\ttotal: 3.83s\tremaining: 5.33s\n",
      "300:\tlearn: 14.8903103\ttotal: 4.58s\tremaining: 4.55s\n",
      "350:\tlearn: 14.4347743\ttotal: 5.34s\tremaining: 3.79s\n",
      "400:\tlearn: 14.0692840\ttotal: 6.1s\tremaining: 3.03s\n",
      "450:\tlearn: 13.7458546\ttotal: 6.86s\tremaining: 2.27s\n",
      "500:\tlearn: 13.4499156\ttotal: 7.61s\tremaining: 1.5s\n",
      "550:\tlearn: 13.1931598\ttotal: 8.37s\tremaining: 745ms\n",
      "599:\tlearn: 12.9599174\ttotal: 9.12s\tremaining: 0us\n"
     ]
    },
    {
     "data": {
      "text/plain": [
       "<catboost.core.CatBoostRegressor at 0x7f78236a8430>"
      ]
     },
     "execution_count": 61,
     "metadata": {},
     "output_type": "execute_result"
    }
   ],
   "source": [
    "model_tst.fit(X, y['TST'])"
   ]
  },
  {
   "cell_type": "code",
   "execution_count": 62,
   "id": "0063cb4c-068a-492f-b109-2559ad91c76b",
   "metadata": {},
   "outputs": [
    {
     "name": "stdout",
     "output_type": "stream",
     "text": [
      "0:\tlearn: 0.0386671\ttotal: 16.6ms\tremaining: 9.96s\n",
      "50:\tlearn: 0.0312395\ttotal: 798ms\tremaining: 8.59s\n",
      "100:\tlearn: 0.0276866\ttotal: 1.56s\tremaining: 7.73s\n",
      "150:\tlearn: 0.0236960\ttotal: 2.31s\tremaining: 6.88s\n",
      "200:\tlearn: 0.0219146\ttotal: 3.07s\tremaining: 6.09s\n",
      "250:\tlearn: 0.0210261\ttotal: 3.82s\tremaining: 5.31s\n",
      "300:\tlearn: 0.0204296\ttotal: 4.57s\tremaining: 4.54s\n",
      "350:\tlearn: 0.0199816\ttotal: 5.32s\tremaining: 3.78s\n",
      "400:\tlearn: 0.0197101\ttotal: 6.08s\tremaining: 3.02s\n",
      "450:\tlearn: 0.0194412\ttotal: 6.84s\tremaining: 2.26s\n",
      "500:\tlearn: 0.0192616\ttotal: 7.63s\tremaining: 1.51s\n",
      "550:\tlearn: 0.0190247\ttotal: 8.39s\tremaining: 746ms\n",
      "599:\tlearn: 0.0188545\ttotal: 9.14s\tremaining: 0us\n"
     ]
    },
    {
     "data": {
      "text/plain": [
       "<catboost.core.CatBoostRegressor at 0x7f78121ff670>"
      ]
     },
     "execution_count": 62,
     "metadata": {},
     "output_type": "execute_result"
    }
   ],
   "source": [
    "model_C.fit(X, y['C'])"
   ]
  },
  {
   "cell_type": "code",
   "execution_count": null,
   "id": "77a65f1c-1192-4c95-8151-7b64cb4211dd",
   "metadata": {},
   "outputs": [],
   "source": [
    "# X_T_copy = X.copy()\n",
    "# X_T_copy['TST'] = model_tst.predict(X)"
   ]
  },
  {
   "cell_type": "code",
   "execution_count": 63,
   "id": "23eea7d5-658b-4480-9f6e-598c925b1585",
   "metadata": {},
   "outputs": [],
   "source": [
    "save_catboost_models(model_tst, model_C)"
   ]
  },
  {
   "cell_type": "code",
   "execution_count": 64,
   "id": "602f5964-f102-4920-98a1-84d1f1f86e30",
   "metadata": {},
   "outputs": [
    {
     "data": {
      "text/plain": [
       "<BarContainer object of 15 artists>"
      ]
     },
     "execution_count": 64,
     "metadata": {},
     "output_type": "execute_result"
    },
    {
     "data": {
      "image/png": "[encoded data removed]",
      "text/plain": [
       "<Figure size 432x288 with 1 Axes>"
      ]
     },
     "metadata": {
      "needs_background": "light"
     },
     "output_type": "display_data"
    }
   ],
   "source": [
    "args = model_C.feature_importances_.argsort()[::-1][:15]\n",
    "plt.barh(np.array(model_C.feature_names_)[args], model_C.feature_importances_[args]) \n"
   ]
  },
  {
   "cell_type": "code",
   "execution_count": 36,
   "id": "6c676238-6833-4188-93d4-7565d190773c",
   "metadata": {},
   "outputs": [
    {
     "data": {
      "text/plain": [
       "{'08YU.z02/ЭТ    ',\n",
       " '09Г2С          ',\n",
       " '09Г2С.16       ',\n",
       " '20             ',\n",
       " '25Г2С          ',\n",
       " '28С            ',\n",
       " '28С.2          ',\n",
       " '35ГС           ',\n",
       " '3SP.z23/ЭТ     ',\n",
       " '3SP.z24/ЭТ     ',\n",
       " '4SP.z08/ЭТ     ',\n",
       " '5SP.z24/ЭТ     ',\n",
       " 'C071TM.z01/ЭТ  ',\n",
       " 'C091TM.z01/ЭТ  ',\n",
       " 'C121TM/ЭТ      ',\n",
       " 'GR60.z06/ЭТ    ',\n",
       " 'SC2/ЭТ         ',\n",
       " 'SC2M/ЭТ        ',\n",
       " 'СТ3ГПС.8       ',\n",
       " 'СТ3ГСП.2       ',\n",
       " 'СТ3ГСП.4       ',\n",
       " 'СТ3ПС.6        ',\n",
       " 'СТ3ПС.7        ',\n",
       " 'Ст1кп          ',\n",
       " 'Ст1пс          ',\n",
       " 'Ст1пс.z05/ЭТ   ',\n",
       " 'Ст2пс          ',\n",
       " 'Ст3Гпс         ',\n",
       " 'Ст3пс          ',\n",
       " 'Ст3пс/Э        ',\n",
       " 'Ст3сп          ',\n",
       " 'Ст3сп/Т        ',\n",
       " 'Ст3сп/Э        ',\n",
       " 'Ст3сп/ЭТ       ',\n",
       " 'Ст4сп          ',\n",
       " 'Ст4сп/ЭТ       ',\n",
       " 'Ст5сп          ',\n",
       " 'Ш2.1           ',\n",
       " 'Ш2.3           '}"
      ]
     },
     "execution_count": 36,
     "metadata": {},
     "output_type": "execute_result"
    }
   ],
   "source": [
    "set(X_test['plavka_NMZ'].values)"
   ]
  },
  {
   "cell_type": "code",
   "execution_count": 59,
   "id": "67313340-0a84-4eb6-82c2-20468af3937f",
   "metadata": {},
   "outputs": [
    {
     "name": "stderr",
     "output_type": "stream",
     "text": [
      "Custom logger is already specified. Specify more than one logger at same time is not thread safe."
     ]
    },
    {
     "data": {
      "application/vnd.jupyter.widget-view+json": {
       "model_id": "f96eec13ade1423281a3c538a2a2fb3d",
       "version_major": 2,
       "version_minor": 0
      },
      "text/plain": [
       "MetricVisualizer(layout=Layout(align_self='stretch', height='500px'))"
      ]
     },
     "metadata": {},
     "output_type": "display_data"
    },
    {
     "name": "stdout",
     "output_type": "stream",
     "text": [
      "0:\tlearn: 1599.5834510\ttest: 1599.6304130\tbest: 1599.6304130 (0)\n",
      "50:\tlearn: 346.9981061\ttest: 347.3661793\tbest: 347.3661793 (50)\n",
      "100:\tlearn: 74.4867882\ttest: 74.8809454\tbest: 74.8809454 (100)\n",
      "150:\tlearn: 24.5047020\ttest: 25.3216333\tbest: 25.3216333 (150)\n",
      "200:\tlearn: 17.3811731\ttest: 18.7497675\tbest: 18.7497675 (200)\n",
      "250:\tlearn: 15.6541971\ttest: 17.5896800\tbest: 17.5896800 (250)\n",
      "300:\tlearn: 14.5829770\ttest: 17.1217139\tbest: 17.1217139 (300)\ttotal: 34.2s\tremaining: 1m 42s\n",
      "350:\tlearn: 13.7762880\ttest: 16.8494539\tbest: 16.8494539 (350)\n",
      "400:\tlearn: 13.1426713\ttest: 16.6421113\tbest: 16.6421113 (400)\n",
      "450:\tlearn: 12.6309103\ttest: 16.5105297\tbest: 16.5105297 (450)\n",
      "500:\tlearn: 12.2130224\ttest: 16.4041090\tbest: 16.4041090 (500)\n",
      "550:\tlearn: 11.8752608\ttest: 16.3308717\tbest: 16.3304839 (548)\n",
      "600:\tlearn: 11.5418254\ttest: 16.2544516\tbest: 16.2544516 (600)\n",
      "650:\tlearn: 11.2588215\ttest: 16.1963595\tbest: 16.1963595 (650)\n",
      "700:\tlearn: 11.0069660\ttest: 16.1398686\tbest: 16.1398686 (700)\n",
      "750:\tlearn: 10.7855627\ttest: 16.0945422\tbest: 16.0945422 (750)\n",
      "800:\tlearn: 10.5763925\ttest: 16.0636995\tbest: 16.0636995 (800)\n",
      "850:\tlearn: 10.3926302\ttest: 16.0399200\tbest: 16.0399200 (850)\n",
      "900:\tlearn: 10.2220583\ttest: 16.0057621\tbest: 16.0055867 (899)\n",
      "950:\tlearn: 10.0566645\ttest: 15.9801240\tbest: 15.9801240 (950)\n",
      "1000:\tlearn: 9.9068645\ttest: 15.9554310\tbest: 15.9554310 (1000)\n",
      "1050:\tlearn: 9.7664398\ttest: 15.9239030\tbest: 15.9239030 (1050)\n",
      "1100:\tlearn: 9.6376611\ttest: 15.9028250\tbest: 15.9028250 (1100)\n",
      "1150:\tlearn: 9.5164437\ttest: 15.8853880\tbest: 15.8853880 (1150)\n",
      "1199:\tlearn: 9.3976985\ttest: 15.8724962\tbest: 15.8722880 (1197)\ttotal: 2m 19s\tremaining: 0us\n"
     ]
    }
   ],
   "source": [
    "from catboost import Pool, cv\n",
    "\n",
    "cv_data = X\n",
    "\n",
    "labels = y['TST']\n",
    "\n",
    "cat_features = get_cat_features_list(X)\n",
    "\n",
    "cv_dataset = Pool(data=cv_data,\n",
    "                  label=labels,\n",
    "                  cat_features=cat_features)\n",
    "\n",
    "params = {\"iterations\": 1200,\n",
    "          \"depth\": 3,\n",
    "          \"loss_function\": \"MAE\",\n",
    "          'grow_policy': 'Lossguide',\n",
    "          \"verbose\": 50}\n",
    "\n",
    "scores = cv(cv_dataset,\n",
    "            params,\n",
    "            fold_count=4,\n",
    "            plot=\"True\")"
   ]
  },
  {
   "cell_type": "code",
   "execution_count": 50,
   "id": "3f224dba-ccf5-423f-a2b3-ffa0e8045907",
   "metadata": {},
   "outputs": [
    {
     "data": {
      "application/vnd.jupyter.widget-view+json": {
       "model_id": "d47769a6b52549139bd09e5fa0021cd8",
       "version_major": 2,
       "version_minor": 0
      },
      "text/plain": [
       "MetricVisualizer(layout=Layout(align_self='stretch', height='500px'))"
      ]
     },
     "metadata": {},
     "output_type": "display_data"
    },
    {
     "name": "stdout",
     "output_type": "stream",
     "text": [
      "0:\tlearn: 0.0806784\ttest: 0.0806811\tbest: 0.0806811 (0)\n",
      "50:\tlearn: 0.0388708\ttest: 0.0390668\tbest: 0.0390668 (50)\n",
      "100:\tlearn: 0.0304531\ttest: 0.0310770\tbest: 0.0310770 (100)\n",
      "150:\tlearn: 0.0261900\ttest: 0.0274867\tbest: 0.0274867 (150)\n",
      "200:\tlearn: 0.0228071\ttest: 0.0250227\tbest: 0.0250227 (200)\n",
      "250:\tlearn: 0.0203139\ttest: 0.0234344\tbest: 0.0234344 (250)\n",
      "300:\tlearn: 0.0190515\ttest: 0.0228107\tbest: 0.0228107 (300)\n",
      "350:\tlearn: 0.0183360\ttest: 0.0226265\tbest: 0.0226265 (350)\n",
      "400:\tlearn: 0.0178160\ttest: 0.0224804\tbest: 0.0224788 (398)\n",
      "450:\tlearn: 0.0174227\ttest: 0.0224245\tbest: 0.0224245 (450)\n",
      "500:\tlearn: 0.0169999\ttest: 0.0223082\tbest: 0.0223066 (499)\n",
      "550:\tlearn: 0.0166461\ttest: 0.0222499\tbest: 0.0222499 (550)\n",
      "600:\tlearn: 0.0163142\ttest: 0.0222513\tbest: 0.0222445 (561)\ttotal: 59.9s\tremaining: 59.7s\n",
      "650:\tlearn: 0.0160087\ttest: 0.0222088\tbest: 0.0222016 (639)\n",
      "700:\tlearn: 0.0157426\ttest: 0.0221776\tbest: 0.0221776 (700)\n",
      "750:\tlearn: 0.0154929\ttest: 0.0221343\tbest: 0.0221296 (748)\n",
      "800:\tlearn: 0.0152732\ttest: 0.0221448\tbest: 0.0221279 (784)\n",
      "850:\tlearn: 0.0150267\ttest: 0.0220933\tbest: 0.0220865 (849)\n",
      "900:\tlearn: 0.0148137\ttest: 0.0220505\tbest: 0.0220505 (900)\n",
      "950:\tlearn: 0.0146299\ttest: 0.0220471\tbest: 0.0220408 (938)\n",
      "1000:\tlearn: 0.0144375\ttest: 0.0220296\tbest: 0.0220219 (976)\n",
      "1050:\tlearn: 0.0142515\ttest: 0.0220243\tbest: 0.0220183 (1005)\n",
      "1100:\tlearn: 0.0140834\ttest: 0.0220222\tbest: 0.0220148 (1077)\n",
      "1150:\tlearn: 0.0139269\ttest: 0.0220095\tbest: 0.0220085 (1138)\n",
      "1199:\tlearn: 0.0137812\ttest: 0.0220081\tbest: 0.0220023 (1160)\ttotal: 2m 1s\tremaining: 0us\n"
     ]
    }
   ],
   "source": [
    "from catboost import Pool, cv\n",
    "\n",
    "cv_data = X\n",
    "\n",
    "labels = y['C']\n",
    "\n",
    "cat_features = get_cat_features_list(X)\n",
    "\n",
    "cv_dataset = Pool(data=cv_data,\n",
    "                  label=labels,\n",
    "                  cat_features=cat_features)\n",
    "\n",
    "params = {\"iterations\": 1200,\n",
    "          \"depth\": 4,\n",
    "#           \"l2_leaf_reg\" : 4,\n",
    "          \"loss_function\": \"MAE\",\n",
    "          \"verbose\": 50}\n",
    "\n",
    "scores = cv(cv_dataset,\n",
    "            params,\n",
    "            fold_count=4, \n",
    "            plot=\"True\")"
   ]
  },
  {
   "cell_type": "code",
   "execution_count": null,
   "id": "8684ad45-99f5-4279-885a-80db33d31a1e",
   "metadata": {},
   "outputs": [],
   "source": []
  }
 ],
 "metadata": {
  "kernelspec": {
   "display_name": "Python 3 (ipykernel)",
   "language": "python",
   "name": "python3"
  },
  "language_info": {
   "codemirror_mode": {
    "name": "ipython",
    "version": 3
   },
   "file_extension": ".py",
   "mimetype": "text/x-python",
   "name": "python",
   "nbconvert_exporter": "python",
   "pygments_lexer": "ipython3",
   "version": "3.9.5"
  }
 },
 "nbformat": 4,
 "nbformat_minor": 5
}
