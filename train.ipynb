{
 "cells": [
  {
   "cell_type": "code",
   "execution_count": 1,
   "id": "0846599d-e709-438d-b7f7-92ca3e07f242",
   "metadata": {},
   "outputs": [],
   "source": [
    "import pandas as pd\n",
    "import numpy as np\n",
    "import matplotlib.pyplot as plt\n",
    "from utils.preprocess import *\n",
    "from utils.model import *"
   ]
  },
  {
   "cell_type": "markdown",
   "id": "726227fd-8b4c-4a48-88c2-f07dc33b5aa3",
   "metadata": {},
   "source": [
    "# Read data"
   ]
  },
  {
   "cell_type": "code",
   "execution_count": 2,
   "id": "563c3c45-b3e8-492b-a6af-df2d80de677c",
   "metadata": {},
   "outputs": [],
   "source": [
    "y = read_target_train()"
   ]
  },
  {
   "cell_type": "code",
   "execution_count": 3,
   "id": "0fca0a41-3cf8-47fb-8c1b-5cde802a49d3",
   "metadata": {},
   "outputs": [],
   "source": [
    "train_data = read_data('train')"
   ]
  },
  {
   "cell_type": "code",
   "execution_count": 4,
   "id": "ceefeb69-e861-4825-9f79-1f05f40357a1",
   "metadata": {},
   "outputs": [],
   "source": [
    "test_data = read_data('test')"
   ]
  },
  {
   "cell_type": "markdown",
   "id": "782d9ca3-c4fd-4cdf-a604-0477234c860a",
   "metadata": {},
   "source": [
    "# Preprocess data"
   ]
  },
  {
   "cell_type": "code",
   "execution_count": 5,
   "id": "4f289779-60b3-48f2-acfb-ade72f788597",
   "metadata": {},
   "outputs": [],
   "source": [
    "X = preprocess_data(train_data)"
   ]
  },
  {
   "cell_type": "code",
   "execution_count": 6,
   "id": "ef5f14c5-15c9-4971-a0a4-dbfdae987727",
   "metadata": {},
   "outputs": [
    {
     "data": {
      "text/html": [
       "<div>\n",
       "<style scoped>\n",
       "    .dataframe tbody tr th:only-of-type {\n",
       "        vertical-align: middle;\n",
       "    }\n",
       "\n",
       "    .dataframe tbody tr th {\n",
       "        vertical-align: top;\n",
       "    }\n",
       "\n",
       "    .dataframe thead th {\n",
       "        text-align: right;\n",
       "    }\n",
       "</style>\n",
       "<table border=\"1\" class=\"dataframe\">\n",
       "  <thead>\n",
       "    <tr style=\"text-align: right;\">\n",
       "      <th></th>\n",
       "      <th>NPLV</th>\n",
       "      <th>VES</th>\n",
       "      <th>T</th>\n",
       "      <th>SI</th>\n",
       "      <th>MN</th>\n",
       "      <th>S</th>\n",
       "      <th>P</th>\n",
       "      <th>CR</th>\n",
       "      <th>NI</th>\n",
       "      <th>CU</th>\n",
       "      <th>...</th>\n",
       "      <th>POL_amin</th>\n",
       "      <th>POL_amax</th>\n",
       "      <th>VDSYP_mean</th>\n",
       "      <th>VDSYP_sum</th>\n",
       "      <th>VDSYP_amin</th>\n",
       "      <th>VDSYP_amax</th>\n",
       "      <th>VSSYP_mean</th>\n",
       "      <th>VSSYP_sum</th>\n",
       "      <th>VSSYP_amin</th>\n",
       "      <th>VSSYP_amax</th>\n",
       "    </tr>\n",
       "  </thead>\n",
       "  <tbody>\n",
       "    <tr>\n",
       "      <th>0</th>\n",
       "      <td>510008</td>\n",
       "      <td>263700.0</td>\n",
       "      <td>1396.0</td>\n",
       "      <td>0.44</td>\n",
       "      <td>0.22</td>\n",
       "      <td>0.023</td>\n",
       "      <td>0.097</td>\n",
       "      <td>0.03</td>\n",
       "      <td>0.01</td>\n",
       "      <td>0.03</td>\n",
       "      <td>...</td>\n",
       "      <td>0.77</td>\n",
       "      <td>7.07</td>\n",
       "      <td>365.250000</td>\n",
       "      <td>4383</td>\n",
       "      <td>171</td>\n",
       "      <td>442</td>\n",
       "      <td>1747.500000</td>\n",
       "      <td>20970</td>\n",
       "      <td>220</td>\n",
       "      <td>7300</td>\n",
       "    </tr>\n",
       "    <tr>\n",
       "      <th>1</th>\n",
       "      <td>510009</td>\n",
       "      <td>264500.0</td>\n",
       "      <td>1419.0</td>\n",
       "      <td>0.68</td>\n",
       "      <td>0.20</td>\n",
       "      <td>0.017</td>\n",
       "      <td>0.087</td>\n",
       "      <td>0.02</td>\n",
       "      <td>0.01</td>\n",
       "      <td>0.03</td>\n",
       "      <td>...</td>\n",
       "      <td>0.63</td>\n",
       "      <td>4.76</td>\n",
       "      <td>351.266667</td>\n",
       "      <td>5269</td>\n",
       "      <td>104</td>\n",
       "      <td>408</td>\n",
       "      <td>1585.333333</td>\n",
       "      <td>23780</td>\n",
       "      <td>10</td>\n",
       "      <td>9950</td>\n",
       "    </tr>\n",
       "    <tr>\n",
       "      <th>2</th>\n",
       "      <td>510010</td>\n",
       "      <td>263800.0</td>\n",
       "      <td>1384.0</td>\n",
       "      <td>0.56</td>\n",
       "      <td>0.26</td>\n",
       "      <td>0.017</td>\n",
       "      <td>0.096</td>\n",
       "      <td>0.03</td>\n",
       "      <td>0.01</td>\n",
       "      <td>0.03</td>\n",
       "      <td>...</td>\n",
       "      <td>0.65</td>\n",
       "      <td>4.08</td>\n",
       "      <td>345.153846</td>\n",
       "      <td>4487</td>\n",
       "      <td>104</td>\n",
       "      <td>442</td>\n",
       "      <td>1851.538462</td>\n",
       "      <td>24070</td>\n",
       "      <td>10</td>\n",
       "      <td>5050</td>\n",
       "    </tr>\n",
       "    <tr>\n",
       "      <th>3</th>\n",
       "      <td>510011</td>\n",
       "      <td>264000.0</td>\n",
       "      <td>1401.0</td>\n",
       "      <td>0.48</td>\n",
       "      <td>0.27</td>\n",
       "      <td>0.018</td>\n",
       "      <td>0.091</td>\n",
       "      <td>0.03</td>\n",
       "      <td>0.01</td>\n",
       "      <td>0.02</td>\n",
       "      <td>...</td>\n",
       "      <td>0.79</td>\n",
       "      <td>11.18</td>\n",
       "      <td>342.538462</td>\n",
       "      <td>4453</td>\n",
       "      <td>104</td>\n",
       "      <td>408</td>\n",
       "      <td>2100.000000</td>\n",
       "      <td>27300</td>\n",
       "      <td>320</td>\n",
       "      <td>5020</td>\n",
       "    </tr>\n",
       "    <tr>\n",
       "      <th>4</th>\n",
       "      <td>510012</td>\n",
       "      <td>263300.0</td>\n",
       "      <td>1422.0</td>\n",
       "      <td>0.47</td>\n",
       "      <td>0.23</td>\n",
       "      <td>0.018</td>\n",
       "      <td>0.096</td>\n",
       "      <td>0.02</td>\n",
       "      <td>0.01</td>\n",
       "      <td>0.03</td>\n",
       "      <td>...</td>\n",
       "      <td>0.67</td>\n",
       "      <td>5.00</td>\n",
       "      <td>347.812500</td>\n",
       "      <td>5565</td>\n",
       "      <td>104</td>\n",
       "      <td>442</td>\n",
       "      <td>1783.750000</td>\n",
       "      <td>28540</td>\n",
       "      <td>40</td>\n",
       "      <td>4980</td>\n",
       "    </tr>\n",
       "  </tbody>\n",
       "</table>\n",
       "<p>5 rows × 96 columns</p>\n",
       "</div>"
      ],
      "text/plain": [
       "     NPLV       VES       T    SI    MN      S      P    CR    NI    CU  ...  \\\n",
       "0  510008  263700.0  1396.0  0.44  0.22  0.023  0.097  0.03  0.01  0.03  ...   \n",
       "1  510009  264500.0  1419.0  0.68  0.20  0.017  0.087  0.02  0.01  0.03  ...   \n",
       "2  510010  263800.0  1384.0  0.56  0.26  0.017  0.096  0.03  0.01  0.03  ...   \n",
       "3  510011  264000.0  1401.0  0.48  0.27  0.018  0.091  0.03  0.01  0.02  ...   \n",
       "4  510012  263300.0  1422.0  0.47  0.23  0.018  0.096  0.02  0.01  0.03  ...   \n",
       "\n",
       "   POL_amin  POL_amax  VDSYP_mean  VDSYP_sum  VDSYP_amin  VDSYP_amax  \\\n",
       "0      0.77      7.07  365.250000       4383         171         442   \n",
       "1      0.63      4.76  351.266667       5269         104         408   \n",
       "2      0.65      4.08  345.153846       4487         104         442   \n",
       "3      0.79     11.18  342.538462       4453         104         408   \n",
       "4      0.67      5.00  347.812500       5565         104         442   \n",
       "\n",
       "    VSSYP_mean  VSSYP_sum  VSSYP_amin  VSSYP_amax  \n",
       "0  1747.500000      20970         220        7300  \n",
       "1  1585.333333      23780          10        9950  \n",
       "2  1851.538462      24070          10        5050  \n",
       "3  2100.000000      27300         320        5020  \n",
       "4  1783.750000      28540          40        4980  \n",
       "\n",
       "[5 rows x 96 columns]"
      ]
     },
     "execution_count": 6,
     "metadata": {},
     "output_type": "execute_result"
    }
   ],
   "source": [
    "X.head()"
   ]
  },
  {
   "cell_type": "markdown",
   "id": "17fd75bd-fbc6-47b0-a76d-65ef66830d16",
   "metadata": {},
   "source": [
    "# Train catboost"
   ]
  },
  {
   "cell_type": "code",
   "execution_count": 7,
   "id": "4a2a8dc9-cc79-4c41-b76e-e9000557de7b",
   "metadata": {},
   "outputs": [],
   "source": [
    "from catboost import CatBoostRegressor"
   ]
  },
  {
   "cell_type": "code",
   "execution_count": 7,
   "id": "2e577a33-45fb-4c6c-88d3-5e30735e4898",
   "metadata": {},
   "outputs": [],
   "source": [
    "model_tst = CatBoostRegressor(iterations = 100, verbose = 1000, random_state = config['random_state'])\n",
    "model_C = CatBoostRegressor(iterations = 100, verbose = 1000, random_state = config['random_state'])"
   ]
  },
  {
   "cell_type": "code",
   "execution_count": 9,
   "id": "3fe72308-9965-42d0-b773-f4e253341f8f",
   "metadata": {},
   "outputs": [
    {
     "name": "stdout",
     "output_type": "stream",
     "text": [
      "Learning rate set to 0.245535\n",
      "0:\tlearn: 27.8295749\ttotal: 78.2ms\tremaining: 7.74s\n",
      "99:\tlearn: 9.2638233\ttotal: 2.33s\tremaining: 0us\n",
      "Learning rate set to 0.245535\n",
      "0:\tlearn: 0.0900959\ttotal: 28.7ms\tremaining: 2.84s\n",
      "99:\tlearn: 0.0149930\ttotal: 2.12s\tremaining: 0us\n",
      "Learning rate set to 0.245535\n",
      "0:\tlearn: 28.4376078\ttotal: 21.8ms\tremaining: 2.16s\n"
     ]
    },
    {
     "name": "stderr",
     "output_type": "stream",
     "text": [
      "C:\\Users\\S\\Documents\\Education\\Data Analysis\\Competitions\\evraz chugun\\produv_o4ka\\utils\\model.py:24: SettingWithCopyWarning: \n",
      "A value is trying to be set on a copy of a slice from a DataFrame.\n",
      "Try using .loc[row_indexer,col_indexer] = value instead\n",
      "\n",
      "See the caveats in the documentation: https://pandas.pydata.org/pandas-docs/stable/user_guide/indexing.html#returning-a-view-versus-a-copy\n",
      "  y_pred['TST'] = model_tst.predict(test_data)\n",
      "C:\\Users\\S\\Documents\\Education\\Data Analysis\\Competitions\\evraz chugun\\produv_o4ka\\utils\\model.py:25: SettingWithCopyWarning: \n",
      "A value is trying to be set on a copy of a slice from a DataFrame.\n",
      "Try using .loc[row_indexer,col_indexer] = value instead\n",
      "\n",
      "See the caveats in the documentation: https://pandas.pydata.org/pandas-docs/stable/user_guide/indexing.html#returning-a-view-versus-a-copy\n",
      "  y_pred['C'] = model_C.predict(test_data)\n"
     ]
    },
    {
     "name": "stdout",
     "output_type": "stream",
     "text": [
      "99:\tlearn: 9.9292115\ttotal: 2.37s\tremaining: 0us\n",
      "Learning rate set to 0.245535\n",
      "0:\tlearn: 0.0907682\ttotal: 23.6ms\tremaining: 2.34s\n",
      "99:\tlearn: 0.0139789\ttotal: 2.37s\tremaining: 0us\n",
      "Learning rate set to 0.245535\n",
      "0:\tlearn: 28.5243557\ttotal: 27.6ms\tremaining: 2.74s\n",
      "99:\tlearn: 9.5322244\ttotal: 2.14s\tremaining: 0us\n",
      "Learning rate set to 0.245535\n",
      "0:\tlearn: 0.0902107\ttotal: 26.6ms\tremaining: 2.64s\n",
      "99:\tlearn: 0.0149355\ttotal: 2.17s\tremaining: 0us\n",
      "Learning rate set to 0.245561\n",
      "0:\tlearn: 28.2547745\ttotal: 22.1ms\tremaining: 2.19s\n",
      "99:\tlearn: 9.7298569\ttotal: 2.1s\tremaining: 0us\n",
      "Learning rate set to 0.245561\n",
      "0:\tlearn: 0.0927052\ttotal: 24ms\tremaining: 2.37s\n",
      "99:\tlearn: 0.0147913\ttotal: 2.31s\tremaining: 0us\n",
      "Learning rate set to 0.245561\n",
      "0:\tlearn: 28.0469339\ttotal: 24.8ms\tremaining: 2.45s\n",
      "99:\tlearn: 9.5437482\ttotal: 2.06s\tremaining: 0us\n",
      "Learning rate set to 0.245561\n",
      "0:\tlearn: 0.0889498\ttotal: 25ms\tremaining: 2.48s\n",
      "99:\tlearn: 0.0135623\ttotal: 2.17s\tremaining: 0us\n"
     ]
    },
    {
     "data": {
      "text/plain": [
       "[(0.9127272727272727, 0.6852300242130751),\n",
       " (0.9163636363636364, 0.6888619854721549),\n",
       " (0.9136363636363637, 0.6743341404358354),\n",
       " (0.9112658994548758, 0.6856796116504854),\n",
       " (0.920351302241066, 0.6638349514563107)]"
      ]
     },
     "execution_count": 9,
     "metadata": {},
     "output_type": "execute_result"
    }
   ],
   "source": [
    "cross_val(X, y, model_tst, model_C)"
   ]
  },
  {
   "cell_type": "code",
   "execution_count": 10,
   "id": "948c6947-808e-4adb-aefa-7c10962b0f75",
   "metadata": {},
   "outputs": [
    {
     "name": "stdout",
     "output_type": "stream",
     "text": [
      "Learning rate set to 0.255495\n",
      "0:\tlearn: 28.2097417\ttotal: 68.2ms\tremaining: 6.75s\n",
      "99:\tlearn: 10.2479851\ttotal: 2.37s\tremaining: 0us\n"
     ]
    },
    {
     "data": {
      "text/plain": [
       "<catboost.core.CatBoostRegressor at 0x2d5981387f0>"
      ]
     },
     "execution_count": 10,
     "metadata": {},
     "output_type": "execute_result"
    }
   ],
   "source": [
    "model_tst.fit(X, y['TST'])"
   ]
  },
  {
   "cell_type": "code",
   "execution_count": 11,
   "id": "0063cb4c-068a-492f-b109-2559ad91c76b",
   "metadata": {},
   "outputs": [
    {
     "name": "stdout",
     "output_type": "stream",
     "text": [
      "Learning rate set to 0.255495\n",
      "0:\tlearn: 0.0896764\ttotal: 24.2ms\tremaining: 2.4s\n",
      "99:\tlearn: 0.0158407\ttotal: 2.36s\tremaining: 0us\n"
     ]
    },
    {
     "data": {
      "text/plain": [
       "<catboost.core.CatBoostRegressor at 0x2d598138790>"
      ]
     },
     "execution_count": 11,
     "metadata": {},
     "output_type": "execute_result"
    }
   ],
   "source": [
    "model_C.fit(X, y['C'])"
   ]
  },
  {
   "cell_type": "code",
   "execution_count": 12,
   "id": "23eea7d5-658b-4480-9f6e-598c925b1585",
   "metadata": {},
   "outputs": [],
   "source": [
    "save_catboost_models(model_tst, model_C)"
   ]
  },
  {
   "cell_type": "code",
   "execution_count": null,
   "id": "602f5964-f102-4920-98a1-84d1f1f86e30",
   "metadata": {},
   "outputs": [],
   "source": []
  }
 ],
 "metadata": {
  "kernelspec": {
   "display_name": "Python 3 (ipykernel)",
   "language": "python",
   "name": "python3"
  },
  "language_info": {
   "codemirror_mode": {
    "name": "ipython",
    "version": 3
   },
   "file_extension": ".py",
   "mimetype": "text/x-python",
   "name": "python",
   "nbconvert_exporter": "python",
   "pygments_lexer": "ipython3",
   "version": "3.9.1"
  }
 },
 "nbformat": 4,
 "nbformat_minor": 5
}
