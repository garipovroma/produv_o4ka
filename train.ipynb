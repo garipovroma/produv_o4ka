{
 "cells": [
  {
   "cell_type": "code",
   "execution_count": 13,
   "id": "0846599d-e709-438d-b7f7-92ca3e07f242",
   "metadata": {},
   "outputs": [],
   "source": [
    "import pandas as pd\n",
    "import numpy as np\n",
    "import matplotlib.pyplot as plt\n",
    "from utils.preprocess import *\n",
    "from utils.model import *"
   ]
  },
  {
   "cell_type": "markdown",
   "id": "726227fd-8b4c-4a48-88c2-f07dc33b5aa3",
   "metadata": {},
   "source": [
    "# Read data"
   ]
  },
  {
   "cell_type": "code",
   "execution_count": 2,
   "id": "563c3c45-b3e8-492b-a6af-df2d80de677c",
   "metadata": {},
   "outputs": [],
   "source": [
    "y = read_target_train()"
   ]
  },
  {
   "cell_type": "code",
   "execution_count": 3,
   "id": "0fca0a41-3cf8-47fb-8c1b-5cde802a49d3",
   "metadata": {},
   "outputs": [],
   "source": [
    "train_data = read_data('train')"
   ]
  },
  {
   "cell_type": "code",
   "execution_count": 4,
   "id": "ceefeb69-e861-4825-9f79-1f05f40357a1",
   "metadata": {},
   "outputs": [],
   "source": [
    "test_data = read_data('test')"
   ]
  },
  {
   "cell_type": "markdown",
   "id": "782d9ca3-c4fd-4cdf-a604-0477234c860a",
   "metadata": {},
   "source": [
    "# Preprocess data"
   ]
  },
  {
   "cell_type": "code",
   "execution_count": 5,
   "id": "4f289779-60b3-48f2-acfb-ade72f788597",
   "metadata": {},
   "outputs": [],
   "source": [
    "X = preprocess_data(train_data)"
   ]
  },
  {
   "cell_type": "code",
   "execution_count": 6,
   "id": "ef5f14c5-15c9-4971-a0a4-dbfdae987727",
   "metadata": {},
   "outputs": [
    {
     "data": {
      "text/html": [
       "<div>\n",
       "<style scoped>\n",
       "    .dataframe tbody tr th:only-of-type {\n",
       "        vertical-align: middle;\n",
       "    }\n",
       "\n",
       "    .dataframe tbody tr th {\n",
       "        vertical-align: top;\n",
       "    }\n",
       "\n",
       "    .dataframe thead th {\n",
       "        text-align: right;\n",
       "    }\n",
       "</style>\n",
       "<table border=\"1\" class=\"dataframe\">\n",
       "  <thead>\n",
       "    <tr style=\"text-align: right;\">\n",
       "      <th></th>\n",
       "      <th>NPLV</th>\n",
       "      <th>VES</th>\n",
       "      <th>T</th>\n",
       "      <th>SI</th>\n",
       "      <th>MN</th>\n",
       "      <th>S</th>\n",
       "      <th>P</th>\n",
       "      <th>CR</th>\n",
       "      <th>NI</th>\n",
       "      <th>CU</th>\n",
       "      <th>...</th>\n",
       "      <th>O2_pressure</th>\n",
       "      <th>VDL</th>\n",
       "      <th>VES_lom</th>\n",
       "      <th>plavka_STFUT</th>\n",
       "      <th>plavka_ST_FURM</th>\n",
       "      <th>plavka_ST_GOL</th>\n",
       "      <th>RAS</th>\n",
       "      <th>POL</th>\n",
       "      <th>VDSYP</th>\n",
       "      <th>VSSYP</th>\n",
       "    </tr>\n",
       "  </thead>\n",
       "  <tbody>\n",
       "    <tr>\n",
       "      <th>0</th>\n",
       "      <td>510008</td>\n",
       "      <td>263700.0</td>\n",
       "      <td>1396.0</td>\n",
       "      <td>0.44</td>\n",
       "      <td>0.22</td>\n",
       "      <td>0.023</td>\n",
       "      <td>0.097</td>\n",
       "      <td>0.03</td>\n",
       "      <td>0.01</td>\n",
       "      <td>0.03</td>\n",
       "      <td>...</td>\n",
       "      <td>13.356058</td>\n",
       "      <td>8.333333</td>\n",
       "      <td>25400.000000</td>\n",
       "      <td>971.0</td>\n",
       "      <td>11.0</td>\n",
       "      <td>11.0</td>\n",
       "      <td>408.181995</td>\n",
       "      <td>4.116603</td>\n",
       "      <td>365.250000</td>\n",
       "      <td>1747.500000</td>\n",
       "    </tr>\n",
       "    <tr>\n",
       "      <th>1</th>\n",
       "      <td>510009</td>\n",
       "      <td>264500.0</td>\n",
       "      <td>1419.0</td>\n",
       "      <td>0.68</td>\n",
       "      <td>0.20</td>\n",
       "      <td>0.017</td>\n",
       "      <td>0.087</td>\n",
       "      <td>0.02</td>\n",
       "      <td>0.01</td>\n",
       "      <td>0.03</td>\n",
       "      <td>...</td>\n",
       "      <td>13.950163</td>\n",
       "      <td>8.333333</td>\n",
       "      <td>26200.000000</td>\n",
       "      <td>972.0</td>\n",
       "      <td>12.0</td>\n",
       "      <td>12.0</td>\n",
       "      <td>437.750429</td>\n",
       "      <td>3.223137</td>\n",
       "      <td>351.266667</td>\n",
       "      <td>1585.333333</td>\n",
       "    </tr>\n",
       "    <tr>\n",
       "      <th>2</th>\n",
       "      <td>510010</td>\n",
       "      <td>263800.0</td>\n",
       "      <td>1384.0</td>\n",
       "      <td>0.56</td>\n",
       "      <td>0.26</td>\n",
       "      <td>0.017</td>\n",
       "      <td>0.096</td>\n",
       "      <td>0.03</td>\n",
       "      <td>0.01</td>\n",
       "      <td>0.03</td>\n",
       "      <td>...</td>\n",
       "      <td>14.022366</td>\n",
       "      <td>12.000000</td>\n",
       "      <td>19075.000000</td>\n",
       "      <td>973.0</td>\n",
       "      <td>13.0</td>\n",
       "      <td>13.0</td>\n",
       "      <td>433.941227</td>\n",
       "      <td>3.188833</td>\n",
       "      <td>345.153846</td>\n",
       "      <td>1851.538462</td>\n",
       "    </tr>\n",
       "    <tr>\n",
       "      <th>3</th>\n",
       "      <td>510011</td>\n",
       "      <td>264000.0</td>\n",
       "      <td>1401.0</td>\n",
       "      <td>0.48</td>\n",
       "      <td>0.27</td>\n",
       "      <td>0.018</td>\n",
       "      <td>0.091</td>\n",
       "      <td>0.03</td>\n",
       "      <td>0.01</td>\n",
       "      <td>0.02</td>\n",
       "      <td>...</td>\n",
       "      <td>14.250926</td>\n",
       "      <td>8.333333</td>\n",
       "      <td>28033.333333</td>\n",
       "      <td>974.0</td>\n",
       "      <td>14.0</td>\n",
       "      <td>14.0</td>\n",
       "      <td>392.992501</td>\n",
       "      <td>6.287681</td>\n",
       "      <td>342.538462</td>\n",
       "      <td>2100.000000</td>\n",
       "    </tr>\n",
       "    <tr>\n",
       "      <th>4</th>\n",
       "      <td>510012</td>\n",
       "      <td>263300.0</td>\n",
       "      <td>1422.0</td>\n",
       "      <td>0.47</td>\n",
       "      <td>0.23</td>\n",
       "      <td>0.018</td>\n",
       "      <td>0.096</td>\n",
       "      <td>0.02</td>\n",
       "      <td>0.01</td>\n",
       "      <td>0.03</td>\n",
       "      <td>...</td>\n",
       "      <td>14.259779</td>\n",
       "      <td>8.333333</td>\n",
       "      <td>25366.666667</td>\n",
       "      <td>975.0</td>\n",
       "      <td>15.0</td>\n",
       "      <td>15.0</td>\n",
       "      <td>396.448585</td>\n",
       "      <td>3.717656</td>\n",
       "      <td>347.812500</td>\n",
       "      <td>1783.750000</td>\n",
       "    </tr>\n",
       "  </tbody>\n",
       "</table>\n",
       "<p>5 rows × 34 columns</p>\n",
       "</div>"
      ],
      "text/plain": [
       "     NPLV       VES       T    SI    MN      S      P    CR    NI    CU  ...  \\\n",
       "0  510008  263700.0  1396.0  0.44  0.22  0.023  0.097  0.03  0.01  0.03  ...   \n",
       "1  510009  264500.0  1419.0  0.68  0.20  0.017  0.087  0.02  0.01  0.03  ...   \n",
       "2  510010  263800.0  1384.0  0.56  0.26  0.017  0.096  0.03  0.01  0.03  ...   \n",
       "3  510011  264000.0  1401.0  0.48  0.27  0.018  0.091  0.03  0.01  0.02  ...   \n",
       "4  510012  263300.0  1422.0  0.47  0.23  0.018  0.096  0.02  0.01  0.03  ...   \n",
       "\n",
       "   O2_pressure        VDL       VES_lom  plavka_STFUT  plavka_ST_FURM  \\\n",
       "0    13.356058   8.333333  25400.000000         971.0            11.0   \n",
       "1    13.950163   8.333333  26200.000000         972.0            12.0   \n",
       "2    14.022366  12.000000  19075.000000         973.0            13.0   \n",
       "3    14.250926   8.333333  28033.333333         974.0            14.0   \n",
       "4    14.259779   8.333333  25366.666667         975.0            15.0   \n",
       "\n",
       "   plavka_ST_GOL         RAS       POL       VDSYP        VSSYP  \n",
       "0           11.0  408.181995  4.116603  365.250000  1747.500000  \n",
       "1           12.0  437.750429  3.223137  351.266667  1585.333333  \n",
       "2           13.0  433.941227  3.188833  345.153846  1851.538462  \n",
       "3           14.0  392.992501  6.287681  342.538462  2100.000000  \n",
       "4           15.0  396.448585  3.717656  347.812500  1783.750000  \n",
       "\n",
       "[5 rows x 34 columns]"
      ]
     },
     "execution_count": 6,
     "metadata": {},
     "output_type": "execute_result"
    }
   ],
   "source": [
    "X.head()"
   ]
  },
  {
   "cell_type": "markdown",
   "id": "17fd75bd-fbc6-47b0-a76d-65ef66830d16",
   "metadata": {},
   "source": [
    "# Train catboost"
   ]
  },
  {
   "cell_type": "code",
   "execution_count": 7,
   "id": "4a2a8dc9-cc79-4c41-b76e-e9000557de7b",
   "metadata": {},
   "outputs": [],
   "source": [
    "from catboost import CatBoostRegressor"
   ]
  },
  {
   "cell_type": "code",
   "execution_count": 8,
   "id": "2e577a33-45fb-4c6c-88d3-5e30735e4898",
   "metadata": {},
   "outputs": [],
   "source": [
    "model_tst = CatBoostRegressor(verbose = 100)\n",
    "model_C = CatBoostRegressor(verbose = 100)"
   ]
  },
  {
   "cell_type": "code",
   "execution_count": 9,
   "id": "948c6947-808e-4adb-aefa-7c10962b0f75",
   "metadata": {},
   "outputs": [
    {
     "name": "stdout",
     "output_type": "stream",
     "text": [
      "Learning rate set to 0.0444\n",
      "0:\tlearn: 30.5401658\ttotal: 79.4ms\tremaining: 1m 19s\n",
      "100:\tlearn: 24.3868228\ttotal: 948ms\tremaining: 8.44s\n",
      "200:\tlearn: 21.5978736\ttotal: 1.7s\tremaining: 6.77s\n",
      "300:\tlearn: 19.2505956\ttotal: 2.58s\tremaining: 6s\n",
      "400:\tlearn: 17.5158507\ttotal: 3.67s\tremaining: 5.48s\n",
      "500:\tlearn: 15.8992048\ttotal: 4.59s\tremaining: 4.58s\n",
      "600:\tlearn: 14.3808707\ttotal: 5.61s\tremaining: 3.73s\n",
      "700:\tlearn: 13.0627214\ttotal: 6.78s\tremaining: 2.89s\n",
      "800:\tlearn: 11.9560683\ttotal: 7.61s\tremaining: 1.89s\n",
      "900:\tlearn: 10.9436735\ttotal: 8.9s\tremaining: 978ms\n",
      "999:\tlearn: 10.0378697\ttotal: 9.77s\tremaining: 0us\n"
     ]
    },
    {
     "data": {
      "text/plain": [
       "<catboost.core.CatBoostRegressor at 0x2ae28e28880>"
      ]
     },
     "execution_count": 9,
     "metadata": {},
     "output_type": "execute_result"
    }
   ],
   "source": [
    "model_tst.fit(X, y['TST'])"
   ]
  },
  {
   "cell_type": "code",
   "execution_count": 10,
   "id": "0063cb4c-068a-492f-b109-2559ad91c76b",
   "metadata": {},
   "outputs": [
    {
     "name": "stdout",
     "output_type": "stream",
     "text": [
      "Learning rate set to 0.0444\n",
      "0:\tlearn: 0.0989792\ttotal: 15ms\tremaining: 15s\n",
      "100:\tlearn: 0.0507163\ttotal: 835ms\tremaining: 7.43s\n",
      "200:\tlearn: 0.0423704\ttotal: 1.59s\tremaining: 6.31s\n",
      "300:\tlearn: 0.0358899\ttotal: 2.32s\tremaining: 5.39s\n",
      "400:\tlearn: 0.0308594\ttotal: 3.12s\tremaining: 4.66s\n",
      "500:\tlearn: 0.0270219\ttotal: 3.88s\tremaining: 3.86s\n",
      "600:\tlearn: 0.0239525\ttotal: 4.63s\tremaining: 3.08s\n",
      "700:\tlearn: 0.0212911\ttotal: 5.38s\tremaining: 2.3s\n",
      "800:\tlearn: 0.0190005\ttotal: 6.27s\tremaining: 1.56s\n",
      "900:\tlearn: 0.0171725\ttotal: 7.01s\tremaining: 771ms\n",
      "999:\tlearn: 0.0155170\ttotal: 7.74s\tremaining: 0us\n"
     ]
    },
    {
     "data": {
      "text/plain": [
       "<catboost.core.CatBoostRegressor at 0x2ae28b6fe80>"
      ]
     },
     "execution_count": 10,
     "metadata": {},
     "output_type": "execute_result"
    }
   ],
   "source": [
    "model_C.fit(X, y['C'].fillna(y['C'].mean()))"
   ]
  },
  {
   "cell_type": "code",
   "execution_count": 14,
   "id": "23eea7d5-658b-4480-9f6e-598c925b1585",
   "metadata": {},
   "outputs": [],
   "source": [
    "save_catboost_models(model_tst, model_C)"
   ]
  }
 ],
 "metadata": {
  "kernelspec": {
   "display_name": "Python 3 (ipykernel)",
   "language": "python",
   "name": "python3"
  },
  "language_info": {
   "codemirror_mode": {
    "name": "ipython",
    "version": 3
   },
   "file_extension": ".py",
   "mimetype": "text/x-python",
   "name": "python",
   "nbconvert_exporter": "python",
   "pygments_lexer": "ipython3",
   "version": "3.9.1"
  }
 },
 "nbformat": 4,
 "nbformat_minor": 5
}
