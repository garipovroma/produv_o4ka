{
 "cells": [
  {
   "cell_type": "code",
   "execution_count": 1,
   "id": "d8b1c20c",
   "metadata": {},
   "outputs": [],
   "source": [
    "import pandas as pd\n",
    "import numpy as np\n",
    "import matplotlib.pyplot as plt\n",
    "from utils.preprocess import *\n",
    "from utils.model import *\n",
    "import datetime\n",
    "import tqdm"
   ]
  },
  {
   "cell_type": "code",
   "execution_count": 2,
   "id": "d9e795b9",
   "metadata": {},
   "outputs": [],
   "source": [
    "train_data = read_data('train')\n",
    "test_data = read_data('test')\n",
    "\n",
    "train_y = read_target_train()"
   ]
  },
  {
   "cell_type": "markdown",
   "id": "ff81a9c4",
   "metadata": {},
   "source": [
    "## Получение данных о продолжительности различных операций"
   ]
  },
  {
   "cell_type": "code",
   "execution_count": 2,
   "id": "efd6f43c",
   "metadata": {},
   "outputs": [],
   "source": [
    "def cat_preprocess(df, drop_cols, encode_col):\n",
    "    df = df.drop(drop_cols, axis = 1)\n",
    "    df = pd.get_dummies(df, columns=[encode_col])\n",
    "    return df"
   ]
  },
  {
   "cell_type": "code",
   "execution_count": 5,
   "id": "214f27bf",
   "metadata": {},
   "outputs": [],
   "source": [
    "def cat_feat_extr(df, cols, ves_col):\n",
    "    for NPLV in tqdm(df.NPLV.unique()):\n",
    "        try:\n",
    "            for col in cols:\n",
    "                if not df[ves_col][df.index[(df['NPLV'] == NPLV) & (df[col] > 0)].to_list()].empty: \n",
    "                    for i in range(len(df[ves_col][df.index[(df['NPLV'] == NPLV) & (df[col] > 0)].to_list()])):\n",
    "                        df.at[df.index[(df['NPLV'] == NPLV) & (df[col] > 0)].to_list()[i], col] = \\\n",
    "                                df[ves_col][df.index[(df['NPLV'] == NPLV) & (df[col] > 0)].to_list()[i]]\n",
    "        except:\n",
    "            try:\n",
    "                for col in cols:\n",
    "                    if not df[ves_col][df.index[(df['NPLV'] == NPLV) & (df[col] > 0)].to_list()].empty: \n",
    "                        for i in range(len(df[ves_col][df.index[(df['NPLV'] == NPLV) & (df[col] > 0)].to_list()])):\n",
    "                            df.at[df.index[(df['NPLV'] == NPLV) & (df[col] > 0)].to_list()[i], col] = \\\n",
    "                                    df[ves_col][df.index[(df['NPLV'] == NPLV) & (df[col] > 0)].to_list()[i]]\n",
    "            except:\n",
    "                try:\n",
    "                    for col in cols:\n",
    "                        if not df[ves_col][df.index[(df['NPLV'] == NPLV) & (df[col] > 0)].to_list()].empty: \n",
    "                            for i in range(len(df[ves_col][df.index[(df['NPLV'] == NPLV) & (df[col] > 0)].to_list()])):\n",
    "                                df.at[df.index[(df['NPLV'] == NPLV) & (df[col] > 0)].to_list()[i], col] = \\\n",
    "                                        df[ves_col][df.index[(df['NPLV'] == NPLV) & (df[col] > 0)].to_list()[i]]\n",
    "                except:\n",
    "                    for col in cols:\n",
    "                        if not df[ves_col][df.index[(df['NPLV'] == NPLV) & (df[col] > 0)].to_list()].empty: \n",
    "                            for i in range(len(df[ves_col][df.index[(df['NPLV'] == NPLV) & (df[col] > 0)].to_list()])):\n",
    "                                df.at[df.index[(df['NPLV'] == NPLV) & (df[col] > 0)].to_list()[i], col] = \\\n",
    "                                        df[ves_col][df.index[(df['NPLV'] == NPLV) & (df[col] > 0)].to_list()[i]]\n",
    "                    \n",
    "    df = df.drop([ves_col], axis = 1).groupby('NPLV').agg('sum')\n",
    "    \n",
    "    return df"
   ]
  },
  {
   "cell_type": "markdown",
   "id": "bbd9916c",
   "metadata": {},
   "source": [
    "хронометраж - время начала и конца различных операций во время плавки"
   ]
  },
  {
   "cell_type": "code",
   "execution_count": 11,
   "id": "73442134",
   "metadata": {},
   "outputs": [
    {
     "data": {
      "text/html": [
       "<div>\n",
       "<style scoped>\n",
       "    .dataframe tbody tr th:only-of-type {\n",
       "        vertical-align: middle;\n",
       "    }\n",
       "\n",
       "    .dataframe tbody tr th {\n",
       "        vertical-align: top;\n",
       "    }\n",
       "\n",
       "    .dataframe thead th {\n",
       "        text-align: right;\n",
       "    }\n",
       "</style>\n",
       "<table border=\"1\" class=\"dataframe\">\n",
       "  <thead>\n",
       "    <tr style=\"text-align: right;\">\n",
       "      <th></th>\n",
       "      <th>NPLV</th>\n",
       "      <th>TYPE_OPER</th>\n",
       "      <th>NOP</th>\n",
       "      <th>VR_NACH</th>\n",
       "      <th>VR_KON</th>\n",
       "      <th>O2</th>\n",
       "      <th>duration</th>\n",
       "    </tr>\n",
       "  </thead>\n",
       "  <tbody>\n",
       "    <tr>\n",
       "      <th>0</th>\n",
       "      <td>510008</td>\n",
       "      <td>межпл.прост.</td>\n",
       "      <td>межпл. простой</td>\n",
       "      <td>2011-01-01 10:28:13</td>\n",
       "      <td>2011-01-01 10:32:15</td>\n",
       "      <td>NaN</td>\n",
       "      <td>242.0</td>\n",
       "    </tr>\n",
       "    <tr>\n",
       "      <th>1</th>\n",
       "      <td>510008</td>\n",
       "      <td>межпл.прост.</td>\n",
       "      <td>межпл. простой</td>\n",
       "      <td>2021-01-01 03:01:07</td>\n",
       "      <td>2021-01-01 03:08:11</td>\n",
       "      <td>NaN</td>\n",
       "      <td>424.0</td>\n",
       "    </tr>\n",
       "    <tr>\n",
       "      <th>2</th>\n",
       "      <td>510008</td>\n",
       "      <td>межпл.прост.</td>\n",
       "      <td>Осмотр конвертера</td>\n",
       "      <td>2021-01-01 03:01:19</td>\n",
       "      <td>2021-01-01 03:03:43</td>\n",
       "      <td>NaN</td>\n",
       "      <td>144.0</td>\n",
       "    </tr>\n",
       "    <tr>\n",
       "      <th>3</th>\n",
       "      <td>510008</td>\n",
       "      <td>межпл.прост.</td>\n",
       "      <td>Наведение гарнисажа</td>\n",
       "      <td>2021-01-01 03:03:43</td>\n",
       "      <td>2021-01-01 03:05:23</td>\n",
       "      <td>NaN</td>\n",
       "      <td>100.0</td>\n",
       "    </tr>\n",
       "    <tr>\n",
       "      <th>4</th>\n",
       "      <td>510008</td>\n",
       "      <td>межпл.прост.</td>\n",
       "      <td>Слив шлака</td>\n",
       "      <td>2021-01-01 03:05:23</td>\n",
       "      <td>2021-01-01 03:06:09</td>\n",
       "      <td>NaN</td>\n",
       "      <td>46.0</td>\n",
       "    </tr>\n",
       "  </tbody>\n",
       "</table>\n",
       "</div>"
      ],
      "text/plain": [
       "     NPLV     TYPE_OPER                  NOP             VR_NACH  \\\n",
       "0  510008  межпл.прост.       межпл. простой 2011-01-01 10:28:13   \n",
       "1  510008  межпл.прост.       межпл. простой 2021-01-01 03:01:07   \n",
       "2  510008  межпл.прост.    Осмотр конвертера 2021-01-01 03:01:19   \n",
       "3  510008  межпл.прост.  Наведение гарнисажа 2021-01-01 03:03:43   \n",
       "4  510008  межпл.прост.           Слив шлака 2021-01-01 03:05:23   \n",
       "\n",
       "               VR_KON  O2  duration  \n",
       "0 2011-01-01 10:32:15 NaN     242.0  \n",
       "1 2021-01-01 03:08:11 NaN     424.0  \n",
       "2 2021-01-01 03:03:43 NaN     144.0  \n",
       "3 2021-01-01 03:05:23 NaN     100.0  \n",
       "4 2021-01-01 03:06:09 NaN      46.0  "
      ]
     },
     "execution_count": 11,
     "metadata": {},
     "output_type": "execute_result"
    }
   ],
   "source": [
    "train_data['chronom']['VR_NACH'] = pd.to_datetime(train_data['chronom']['VR_NACH'])\n",
    "train_data['chronom']['VR_KON'] = pd.to_datetime(train_data['chronom']['VR_KON'])\n",
    "train_data['chronom']['duration'] = (train_data['chronom']['VR_KON'] - train_data['chronom']['VR_NACH']).dt.total_seconds()\n",
    "\n",
    "test_data['chronom']['VR_NACH'] = pd.to_datetime(test_data['chronom']['VR_NACH'])\n",
    "test_data['chronom']['VR_KON'] = pd.to_datetime(test_data['chronom']['VR_KON'])\n",
    "test_data['chronom']['duration'] = (test_data['chronom']['VR_KON'] - test_data['chronom']['VR_NACH']).dt.total_seconds()"
   ]
  },
  {
   "cell_type": "code",
   "execution_count": 12,
   "id": "c1fc7579",
   "metadata": {},
   "outputs": [],
   "source": [
    "names_train_nop = train_data['chronom']['NOP'].value_counts()\n",
    "names_train_nop_stay = set(names_train_nop[names_train_nop > 100].to_dict().keys())\n",
    "names_train_nop = set(names_train_nop.to_dict().keys())\n",
    "\n",
    "names_test_nop = set(test_data['chronom']['NOP'].value_counts().to_dict().keys())\n",
    "\n",
    "name_to_stay = names_train_nop_stay.intersection(names_test_nop)"
   ]
  },
  {
   "cell_type": "code",
   "execution_count": 13,
   "id": "48b880e9",
   "metadata": {},
   "outputs": [],
   "source": [
    "names_to_del_train = names_train_nop.difference(name_to_stay)\n",
    "names_to_del_test = names_test_nop.difference(name_to_stay)"
   ]
  },
  {
   "cell_type": "code",
   "execution_count": 14,
   "id": "00476abf",
   "metadata": {},
   "outputs": [],
   "source": [
    "prep_chronom_train = cat_preprocess(train_data['chronom'], ['TYPE_OPER', 'VR_NACH', 'VR_KON', 'O2'], 'NOP')\n",
    "prep_chronom_test = cat_preprocess(test_data['chronom'], ['TYPE_OPER', 'VR_NACH', 'VR_KON', 'O2'], 'NOP')"
   ]
  },
  {
   "cell_type": "code",
   "execution_count": 15,
   "id": "86ab0ee9",
   "metadata": {},
   "outputs": [],
   "source": [
    "prep_chronom_train_cols = list(prep_chronom_train.columns.drop(['NPLV', 'duration']))\n",
    "prep_chronom_test_cols = list(prep_chronom_test.columns.drop(['NPLV', 'duration']))"
   ]
  },
  {
   "cell_type": "code",
   "execution_count": 16,
   "id": "05d09cb1",
   "metadata": {},
   "outputs": [],
   "source": [
    "prep_chronom_train = prep_chronom_train.fillna(0)\n",
    "prep_chronom_test = prep_chronom_test.fillna(0)\n",
    "\n",
    "prep_chronom_train['duration'] = prep_chronom_train['duration'].astype('int64')\n",
    "prep_chronom_test['duration'] = prep_chronom_test['duration'].astype('int64')"
   ]
  },
  {
   "cell_type": "code",
   "execution_count": 17,
   "id": "6a0ca76d",
   "metadata": {},
   "outputs": [],
   "source": [
    "prep_chronom_train[prep_chronom_train_cols] = prep_chronom_train[prep_chronom_train_cols].astype('int64')\n",
    "prep_chronom_test[prep_chronom_test_cols] = prep_chronom_test[prep_chronom_test_cols].astype('int64')"
   ]
  },
  {
   "cell_type": "code",
   "execution_count": 22,
   "id": "d8608e91",
   "metadata": {},
   "outputs": [
    {
     "name": "stderr",
     "output_type": "stream",
     "text": [
      "100%|███████████████████████████████████████████████████████████████████████████████████████████████████████████████████████████████████████████████████████████████████| 2063/2063 [01:33<00:00, 22.01it/s]\n",
      "100%|█████████████████████████████████████████████████████████████████████████████████████████████████████████████████████████████████████████████████████████████████████| 780/780 [00:18<00:00, 41.55it/s]\n"
     ]
    }
   ],
   "source": [
    "cat_chronom_train = cat_feat_extr(prep_chronom_train, prep_chronom_train_cols, 'duration')\n",
    "cat_chronom_test = cat_feat_extr(prep_chronom_test, prep_chronom_test_cols, 'duration')"
   ]
  },
  {
   "cell_type": "code",
   "execution_count": 23,
   "id": "c5bda18d",
   "metadata": {},
   "outputs": [],
   "source": [
    "for col in names_to_del_train:\n",
    "    col_ = 'NOP_' + col\n",
    "    del cat_chronom_train[col_]\n",
    "\n",
    "for col in names_to_del_test:\n",
    "    col_ = 'NOP_' + col\n",
    "    del cat_chronom_test[col_]"
   ]
  },
  {
   "cell_type": "code",
   "execution_count": 26,
   "id": "870a9333",
   "metadata": {},
   "outputs": [],
   "source": [
    "cat_chronom_train.to_csv('data_chronom/chronom_duration_train.csv')\n",
    "cat_chronom_test.to_csv('data_chronom/chronom_duration_test.csv')"
   ]
  },
  {
   "cell_type": "markdown",
   "id": "613d0814",
   "metadata": {},
   "source": [
    "### Конец получения фичей chronom_duration"
   ]
  },
  {
   "cell_type": "markdown",
   "id": "c3b5fc83",
   "metadata": {},
   "source": [
    "### Фиксируем количество газов во время начала и конца продувки, можно запускать независимо от предыдущей части"
   ]
  },
  {
   "cell_type": "code",
   "execution_count": 3,
   "id": "f1c114b4",
   "metadata": {},
   "outputs": [],
   "source": [
    "cat_chronom_train = pd.read_csv('data_chronom/chronom_duration_train.csv')\n",
    "cat_chronom_test = pd.read_csv('data_chronom/chronom_duration_test.csv')\n",
    "\n",
    "cat_chronom_train = cat_chronom_train.set_index('NPLV')\n",
    "cat_chronom_test = cat_chronom_test.set_index('NPLV')"
   ]
  },
  {
   "cell_type": "code",
   "execution_count": 4,
   "id": "ff4548ca",
   "metadata": {},
   "outputs": [],
   "source": [
    "train_gas = pd.read_csv('data/gas_train.csv')\n",
    "test_gas = pd.read_csv('data/gas_test.csv')"
   ]
  },
  {
   "cell_type": "code",
   "execution_count": 5,
   "id": "6ed33ed9",
   "metadata": {},
   "outputs": [],
   "source": [
    "train_gas['Time'] = pd.to_datetime(train_gas['Time'])\n",
    "test_gas['Time'] = pd.to_datetime(test_gas['Time'])\n",
    "\n",
    "train_data['chronom']['VR_NACH'] = pd.to_datetime(train_data['chronom']['VR_NACH'])\n",
    "test_data['chronom']['VR_NACH'] = pd.to_datetime(test_data['chronom']['VR_NACH'])\n",
    "train_data['chronom']['VR_KON'] = pd.to_datetime(train_data['chronom']['VR_KON'])\n",
    "test_data['chronom']['VR_KON'] = pd.to_datetime(test_data['chronom']['VR_KON'])"
   ]
  },
  {
   "cell_type": "code",
   "execution_count": 6,
   "id": "68180065",
   "metadata": {},
   "outputs": [],
   "source": [
    "row = train_data['chronom'][train_data['chronom']['NOP'] == 'Продувка'].set_index('NPLV')\n",
    "start_train_nach = row['VR_NACH']\n",
    "end_train_nach = row['VR_KON']\n",
    "\n",
    "row = test_data['chronom'][test_data['chronom']['NOP'] == 'Продувка'].set_index('NPLV')\n",
    "start_test_nach = row['VR_NACH']\n",
    "end_test_nach = row['VR_KON']"
   ]
  },
  {
   "cell_type": "code",
   "execution_count": 18,
   "id": "4d1fd368",
   "metadata": {},
   "outputs": [],
   "source": [
    "col_gas_feat = ['V', 'T', 'O2', 'N2', 'H2', 'CO2', 'CO', 'AR', 'O2_pressure']\n",
    "\n",
    "type_oper = '_start_Продувка'\n",
    "for col in col_gas_feat:\n",
    "    cat_chronom_train[col + type_oper] = 0.0\n",
    "    cat_chronom_test[col + type_oper] = 0.0\n",
    "    \n",
    "type_oper = '_end_Продувка'\n",
    "for col in col_gas_feat:\n",
    "    cat_chronom_train[col + type_oper] = 0.0\n",
    "    cat_chronom_test[col + type_oper] = 0.0"
   ]
  },
  {
   "cell_type": "code",
   "execution_count": 28,
   "id": "17e2df66",
   "metadata": {},
   "outputs": [
    {
     "name": "stderr",
     "output_type": "stream",
     "text": [
      "100%|███████████████████████████████████████████████████████████████████████████████████████| 2063/2063 [14:36<00:00,  2.35it/s]"
     ]
    },
    {
     "name": "stdout",
     "output_type": "stream",
     "text": [
      "Wall time: 14min 36s\n"
     ]
    },
    {
     "name": "stderr",
     "output_type": "stream",
     "text": [
      "\n"
     ]
    }
   ],
   "source": [
    "%%time\n",
    "\n",
    "for nplv_obj in tqdm.tqdm(train_gas['NPLV'].unique()):\n",
    "    try:\n",
    "        df_nplv = train_gas[(train_gas['NPLV'] == nplv_obj) & \\\n",
    "                            ((train_gas['Time'] - start_train_nach[nplv_obj]).dt.total_seconds() <= 1) & \\\n",
    "                            ((train_gas['Time'] - start_train_nach[nplv_obj]).dt.total_seconds() >= 0)]\n",
    "        type_oper = '_start_Продувка'\n",
    "        for gas_feat in col_gas_feat:\n",
    "            cat_chronom_train.at[nplv_obj, gas_feat + type_oper] = df_nplv[gas_feat]\n",
    "    except:\n",
    "        pass"
   ]
  },
  {
   "cell_type": "code",
   "execution_count": 45,
   "id": "bbf07359",
   "metadata": {},
   "outputs": [
    {
     "name": "stderr",
     "output_type": "stream",
     "text": [
      "100%|█████████████████████████████████████████████████████████████████████████████████████████| 780/780 [02:14<00:00,  5.79it/s]\n"
     ]
    }
   ],
   "source": [
    "for nplv_obj in tqdm.tqdm(test_gas['NPLV'].unique()):\n",
    "    try:\n",
    "        df_nplv = test_gas[(test_gas['NPLV'] == nplv_obj) & \\\n",
    "                            ((test_gas['Time'] - start_test_nach[nplv_obj]).dt.total_seconds() <= 1) & \\\n",
    "                            ((test_gas['Time'] - start_test_nach[nplv_obj]).dt.total_seconds() >= 0)]\n",
    "        type_oper = '_start_Продувка'\n",
    "        for gas_feat in col_gas_feat:\n",
    "            cat_chronom_test.at[nplv_obj, gas_feat + type_oper] = df_nplv[gas_feat] \n",
    "    except:\n",
    "        pass"
   ]
  },
  {
   "cell_type": "code",
   "execution_count": 34,
   "id": "6b0810ec",
   "metadata": {},
   "outputs": [
    {
     "name": "stderr",
     "output_type": "stream",
     "text": [
      "100%|███████████████████████████████████████████████████████████████████████████████████████| 2063/2063 [16:28<00:00,  2.09it/s]\n"
     ]
    }
   ],
   "source": [
    "for nplv_obj in tqdm.tqdm(train_gas['NPLV'].unique()):\n",
    "    try:\n",
    "        df_nplv = train_gas[(train_gas['NPLV'] == nplv_obj) & \\\n",
    "                            ((end_train_nach[nplv_obj] - train_gas['Time']).dt.total_seconds() <= 1) & \\\n",
    "                            ((end_train_nach[nplv_obj] - train_gas['Time']).dt.total_seconds() >= 0)]\n",
    "        type_oper = '_end_Продувка'\n",
    "        for gas_feat in col_gas_feat:\n",
    "            cat_chronom_train.at[nplv_obj, gas_feat + type_oper] = df_nplv[gas_feat]\n",
    "    except:\n",
    "        pass "
   ]
  },
  {
   "cell_type": "code",
   "execution_count": 47,
   "id": "291d1d82",
   "metadata": {},
   "outputs": [
    {
     "name": "stderr",
     "output_type": "stream",
     "text": [
      "100%|█████████████████████████████████████████████████████████████████████████████████████████| 780/780 [02:30<00:00,  5.17it/s]\n"
     ]
    }
   ],
   "source": [
    "for nplv_obj in tqdm.tqdm(test_gas['NPLV'].unique()):\n",
    "    try:\n",
    "        df_nplv = test_gas[(test_gas['NPLV'] == nplv_obj) & \\\n",
    "                            ((end_test_nach[nplv_obj] - test_gas['Time']).dt.total_seconds() <= 1) & \\\n",
    "                            ((end_test_nach[nplv_obj] - test_gas['Time']).dt.total_seconds() >= 0)]\n",
    "        type_oper = '_end_Продувка'\n",
    "        for gas_feat in col_gas_feat:\n",
    "            cat_chronom_test.at[nplv_obj, gas_feat + type_oper] = df_nplv[gas_feat] \n",
    "    except:\n",
    "        pass"
   ]
  },
  {
   "cell_type": "code",
   "execution_count": 49,
   "id": "27c8c3b7",
   "metadata": {},
   "outputs": [],
   "source": [
    "cat_chronom_train.to_csv('data_chronom/chronom_duration_train_new.csv')\n",
    "cat_chronom_test.to_csv('data_chronom/chronom_duration_test_new.csv')"
   ]
  },
  {
   "cell_type": "markdown",
   "id": "d7f95664",
   "metadata": {},
   "source": [
    "### Конец получения фичей количество газов во время начала и конца продувки"
   ]
  }
 ],
 "metadata": {
  "kernelspec": {
   "display_name": "Python 3",
   "language": "python",
   "name": "python3"
  },
  "language_info": {
   "codemirror_mode": {
    "name": "ipython",
    "version": 3
   },
   "file_extension": ".py",
   "mimetype": "text/x-python",
   "name": "python",
   "nbconvert_exporter": "python",
   "pygments_lexer": "ipython3",
   "version": "3.8.8"
  }
 },
 "nbformat": 4,
 "nbformat_minor": 5
}
