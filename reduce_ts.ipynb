{
 "cells": [
  {
   "cell_type": "code",
   "execution_count": 1,
   "id": "6891a30c-9fbd-4c5e-ba5a-2e2029c5f3f1",
   "metadata": {},
   "outputs": [],
   "source": [
    "import pandas as pd\n",
    "import numpy as np\n",
    "import matplotlib.pyplot as plt\n",
    "import pickle\n",
    "from utils.preprocess import *\n",
    "from utils.model import *"
   ]
  },
  {
   "cell_type": "code",
   "execution_count": null,
   "id": "90c88d74-94cc-4460-8c75-8a17beecc45b",
   "metadata": {},
   "outputs": [],
   "source": [
    "produv_train = pd.read_csv(config['data_path'] + 'produv_train.csv')\n",
    "gas_train = pd.read_csv(config['data_path'] + 'gas_train.csv')\n",
    "chronom_train = pd.read_csv(config['data_path'] + 'chronom_train.csv')\n",
    "\n",
    "produv_test = pd.read_csv(config['data_path'] + 'produv_test.csv')\n",
    "gas_test = pd.read_csv(config['data_path'] + 'gas_test.csv')\n",
    "chronom_test = pd.read_csv(config['data_path'] + 'chronom_test.csv')"
   ]
  },
  {
   "cell_type": "code",
   "execution_count": null,
   "id": "c3524b0f-c47c-49c4-874e-d2770ce7caf9",
   "metadata": {},
   "outputs": [],
   "source": [
    "reduce_ts(ts_preproc(gas_train, 'Time'), chronom_train).to_csv(config['data_path'] + 'reduced_gas_train.csv')\n",
    "reduce_ts(ts_preproc(produv_train, 'SEC'), chronom_train).to_csv(config['data_path'] + 'reduced_produv_train.csv')\n",
    "reduce_ts(ts_preproc(gas_test, 'Time'), chronom_test).to_csv(config['data_path'] + 'reduced_gas_test.csv')\n",
    "reduce_ts(ts_preproc(produv_test, 'SEC'), chronom_test).to_csv(config['data_path'] + 'reduced_produv_test.csv')"
   ]
  }
 ],
 "metadata": {
  "kernelspec": {
   "display_name": "Python 3 (ipykernel)",
   "language": "python",
   "name": "python3"
  },
  "language_info": {
   "codemirror_mode": {
    "name": "ipython",
    "version": 3
   },
   "file_extension": ".py",
   "mimetype": "text/x-python",
   "name": "python",
   "nbconvert_exporter": "python",
   "pygments_lexer": "ipython3",
   "version": "3.9.5"
  }
 },
 "nbformat": 4,
 "nbformat_minor": 5
}
