{
 "cells": [
  {
   "cell_type": "code",
   "execution_count": 1,
   "id": "29d7085f-998f-48f1-b6f4-e3138bdc2717",
   "metadata": {},
   "outputs": [],
   "source": [
    "import pandas as pd\n",
    "import numpy as np\n",
    "import matplotlib.pyplot as plt\n",
    "from utils.preprocess import *\n",
    "from utils.model import *"
   ]
  },
  {
   "cell_type": "code",
   "execution_count": 2,
   "id": "c4ab78aa-1d75-412f-9841-a3f6da4b5d4f",
   "metadata": {},
   "outputs": [],
   "source": [
    "train_data = read_data('train')"
   ]
  },
  {
   "cell_type": "code",
   "execution_count": 6,
   "id": "aa84dd7a-edfd-4e14-8645-3ef7c04df00e",
   "metadata": {},
   "outputs": [],
   "source": [
    "y = read_target_train()"
   ]
  },
  {
   "cell_type": "code",
   "execution_count": 7,
   "id": "cfb0ef24-a8a3-4e2d-8520-e5ee11ea732f",
   "metadata": {},
   "outputs": [
    {
     "data": {
      "text/plain": [
       "dict_keys(['chronom', 'chugun', 'reduced_gas', 'lom', 'plavki', 'reduced_produv', 'sip'])"
      ]
     },
     "execution_count": 7,
     "metadata": {},
     "output_type": "execute_result"
    }
   ],
   "source": [
    "train_data.keys()"
   ]
  },
  {
   "cell_type": "code",
   "execution_count": 16,
   "id": "edef05ad-d20e-4615-bf8e-e52e8b209dca",
   "metadata": {},
   "outputs": [
    {
     "data": {
      "text/html": [
       "<div>\n",
       "<style scoped>\n",
       "    .dataframe tbody tr th:only-of-type {\n",
       "        vertical-align: middle;\n",
       "    }\n",
       "\n",
       "    .dataframe tbody tr th {\n",
       "        vertical-align: top;\n",
       "    }\n",
       "\n",
       "    .dataframe thead th {\n",
       "        text-align: right;\n",
       "    }\n",
       "</style>\n",
       "<table border=\"1\" class=\"dataframe\">\n",
       "  <thead>\n",
       "    <tr style=\"text-align: right;\">\n",
       "      <th></th>\n",
       "      <th>NPLV</th>\n",
       "      <th>plavka_VR_NACH</th>\n",
       "      <th>plavka_VR_KON</th>\n",
       "      <th>plavka_NMZ</th>\n",
       "      <th>plavka_NAPR_ZAD</th>\n",
       "      <th>plavka_STFUT</th>\n",
       "      <th>plavka_TIPE_FUR</th>\n",
       "      <th>plavka_ST_FURM</th>\n",
       "      <th>plavka_TIPE_GOL</th>\n",
       "      <th>plavka_ST_GOL</th>\n",
       "    </tr>\n",
       "  </thead>\n",
       "  <tbody>\n",
       "    <tr>\n",
       "      <th>0</th>\n",
       "      <td>510008</td>\n",
       "      <td>2021-01-01 03:08:11</td>\n",
       "      <td>2021-01-01 03:51:10</td>\n",
       "      <td>С255</td>\n",
       "      <td>МНЛЗ</td>\n",
       "      <td>971</td>\n",
       "      <td>цилиндрическая</td>\n",
       "      <td>11</td>\n",
       "      <td>5 сопловая</td>\n",
       "      <td>11</td>\n",
       "    </tr>\n",
       "    <tr>\n",
       "      <th>1</th>\n",
       "      <td>510009</td>\n",
       "      <td>2021-01-01 04:00:44</td>\n",
       "      <td>2021-01-01 05:07:28</td>\n",
       "      <td>С255</td>\n",
       "      <td>МНЛЗ</td>\n",
       "      <td>972</td>\n",
       "      <td>цилиндрическая</td>\n",
       "      <td>12</td>\n",
       "      <td>5 сопловая</td>\n",
       "      <td>12</td>\n",
       "    </tr>\n",
       "    <tr>\n",
       "      <th>2</th>\n",
       "      <td>510010</td>\n",
       "      <td>2021-01-01 05:12:29</td>\n",
       "      <td>2021-01-01 06:00:53</td>\n",
       "      <td>Ст3пс/Э</td>\n",
       "      <td>Изл</td>\n",
       "      <td>973</td>\n",
       "      <td>цилиндрическая</td>\n",
       "      <td>13</td>\n",
       "      <td>5 сопловая</td>\n",
       "      <td>13</td>\n",
       "    </tr>\n",
       "    <tr>\n",
       "      <th>3</th>\n",
       "      <td>510011</td>\n",
       "      <td>2021-01-01 06:13:48</td>\n",
       "      <td>2021-01-01 07:08:39</td>\n",
       "      <td>Св-08А.z02</td>\n",
       "      <td>Изл</td>\n",
       "      <td>974</td>\n",
       "      <td>цилиндрическая</td>\n",
       "      <td>14</td>\n",
       "      <td>5 сопловая</td>\n",
       "      <td>14</td>\n",
       "    </tr>\n",
       "    <tr>\n",
       "      <th>4</th>\n",
       "      <td>510012</td>\n",
       "      <td>2021-01-01 07:13:44</td>\n",
       "      <td>2021-01-01 08:01:59</td>\n",
       "      <td>SC2M/ЭТ</td>\n",
       "      <td>МНЛС</td>\n",
       "      <td>975</td>\n",
       "      <td>цилиндрическая</td>\n",
       "      <td>15</td>\n",
       "      <td>5 сопловая</td>\n",
       "      <td>15</td>\n",
       "    </tr>\n",
       "    <tr>\n",
       "      <th>...</th>\n",
       "      <td>...</td>\n",
       "      <td>...</td>\n",
       "      <td>...</td>\n",
       "      <td>...</td>\n",
       "      <td>...</td>\n",
       "      <td>...</td>\n",
       "      <td>...</td>\n",
       "      <td>...</td>\n",
       "      <td>...</td>\n",
       "      <td>...</td>\n",
       "    </tr>\n",
       "    <tr>\n",
       "      <th>2132</th>\n",
       "      <td>512318</td>\n",
       "      <td>2021-04-26 13:04:26</td>\n",
       "      <td>2021-04-26 13:55:50</td>\n",
       "      <td>C071TM.z01/ЭТ</td>\n",
       "      <td>МНЛС</td>\n",
       "      <td>3281</td>\n",
       "      <td>коническая</td>\n",
       "      <td>22</td>\n",
       "      <td>5 сопловая</td>\n",
       "      <td>56</td>\n",
       "    </tr>\n",
       "    <tr>\n",
       "      <th>2133</th>\n",
       "      <td>512319</td>\n",
       "      <td>2021-04-26 14:10:20</td>\n",
       "      <td>2021-04-26 15:14:23</td>\n",
       "      <td>C071TM.z01/ЭТ</td>\n",
       "      <td>МНЛС</td>\n",
       "      <td>3282</td>\n",
       "      <td>коническая</td>\n",
       "      <td>23</td>\n",
       "      <td>5 сопловая</td>\n",
       "      <td>57</td>\n",
       "    </tr>\n",
       "    <tr>\n",
       "      <th>2134</th>\n",
       "      <td>512320</td>\n",
       "      <td>2021-04-26 15:21:37</td>\n",
       "      <td>2021-04-26 16:16:42</td>\n",
       "      <td>40Х.1</td>\n",
       "      <td>МНЛЗ</td>\n",
       "      <td>3283</td>\n",
       "      <td>коническая</td>\n",
       "      <td>24</td>\n",
       "      <td>5 сопловая</td>\n",
       "      <td>58</td>\n",
       "    </tr>\n",
       "    <tr>\n",
       "      <th>2135</th>\n",
       "      <td>512321</td>\n",
       "      <td>2021-04-26 16:22:37</td>\n",
       "      <td>2021-04-26 17:23:37</td>\n",
       "      <td>40Х.1</td>\n",
       "      <td>МНЛЗ</td>\n",
       "      <td>3284</td>\n",
       "      <td>коническая</td>\n",
       "      <td>25</td>\n",
       "      <td>5 сопловая</td>\n",
       "      <td>59</td>\n",
       "    </tr>\n",
       "    <tr>\n",
       "      <th>2136</th>\n",
       "      <td>512322</td>\n",
       "      <td>2021-04-26 17:28:00</td>\n",
       "      <td>2021-04-26 18:48:40</td>\n",
       "      <td>40Х.1</td>\n",
       "      <td>МНЛЗ</td>\n",
       "      <td>3285</td>\n",
       "      <td>коническая</td>\n",
       "      <td>26</td>\n",
       "      <td>5 сопловая</td>\n",
       "      <td>60</td>\n",
       "    </tr>\n",
       "  </tbody>\n",
       "</table>\n",
       "<p>2137 rows × 10 columns</p>\n",
       "</div>"
      ],
      "text/plain": [
       "        NPLV       plavka_VR_NACH        plavka_VR_KON       plavka_NMZ  \\\n",
       "0     510008  2021-01-01 03:08:11  2021-01-01 03:51:10  С255              \n",
       "1     510009  2021-01-01 04:00:44  2021-01-01 05:07:28  С255              \n",
       "2     510010  2021-01-01 05:12:29  2021-01-01 06:00:53  Ст3пс/Э           \n",
       "3     510011  2021-01-01 06:13:48  2021-01-01 07:08:39  Св-08А.z02        \n",
       "4     510012  2021-01-01 07:13:44  2021-01-01 08:01:59  SC2M/ЭТ           \n",
       "...      ...                  ...                  ...              ...   \n",
       "2132  512318  2021-04-26 13:04:26  2021-04-26 13:55:50  C071TM.z01/ЭТ     \n",
       "2133  512319  2021-04-26 14:10:20  2021-04-26 15:14:23  C071TM.z01/ЭТ     \n",
       "2134  512320  2021-04-26 15:21:37  2021-04-26 16:16:42  40Х.1             \n",
       "2135  512321  2021-04-26 16:22:37  2021-04-26 17:23:37  40Х.1             \n",
       "2136  512322  2021-04-26 17:28:00  2021-04-26 18:48:40  40Х.1             \n",
       "\n",
       "     plavka_NAPR_ZAD  plavka_STFUT plavka_TIPE_FUR  plavka_ST_FURM  \\\n",
       "0               МНЛЗ           971  цилиндрическая              11   \n",
       "1               МНЛЗ           972  цилиндрическая              12   \n",
       "2                Изл           973  цилиндрическая              13   \n",
       "3                Изл           974  цилиндрическая              14   \n",
       "4               МНЛС           975  цилиндрическая              15   \n",
       "...              ...           ...             ...             ...   \n",
       "2132            МНЛС          3281      коническая              22   \n",
       "2133            МНЛС          3282      коническая              23   \n",
       "2134            МНЛЗ          3283      коническая              24   \n",
       "2135            МНЛЗ          3284      коническая              25   \n",
       "2136            МНЛЗ          3285      коническая              26   \n",
       "\n",
       "           plavka_TIPE_GOL  plavka_ST_GOL  \n",
       "0     5 сопловая                       11  \n",
       "1     5 сопловая                       12  \n",
       "2     5 сопловая                       13  \n",
       "3     5 сопловая                       14  \n",
       "4     5 сопловая                       15  \n",
       "...                    ...            ...  \n",
       "2132  5 сопловая                       56  \n",
       "2133  5 сопловая                       57  \n",
       "2134  5 сопловая                       58  \n",
       "2135  5 сопловая                       59  \n",
       "2136  5 сопловая                       60  \n",
       "\n",
       "[2137 rows x 10 columns]"
      ]
     },
     "execution_count": 16,
     "metadata": {},
     "output_type": "execute_result"
    }
   ],
   "source": [
    "train_data['plavki']"
   ]
  },
  {
   "cell_type": "code",
   "execution_count": 29,
   "id": "185bb63b-2172-411b-9efc-f8bb7d6ba154",
   "metadata": {},
   "outputs": [
    {
     "data": {
      "text/plain": [
       "{'5 сопловая          ': 1525,\n",
       " '4-сопл х54          ': 343,\n",
       " '4-сопл x54          ': 253,\n",
       " 'Э, 4-сопл х54       ': 16}"
      ]
     },
     "execution_count": 29,
     "metadata": {},
     "output_type": "execute_result"
    }
   ],
   "source": [
    "temp['plavka_TIPE_GOL'].value_counts().to_dict()"
   ]
  },
  {
   "cell_type": "code",
   "execution_count": 30,
   "id": "d03e444f-ded7-462a-8abc-62a017375713",
   "metadata": {},
   "outputs": [
    {
     "data": {
      "text/plain": [
       "{'цилиндрическая': 1998, 'коническая': 139}"
      ]
     },
     "execution_count": 30,
     "metadata": {},
     "output_type": "execute_result"
    }
   ],
   "source": [
    "# plavka_TIPE_FUR\n",
    "temp['plavka_TIPE_FUR'].value_counts().to_dict()"
   ]
  },
  {
   "cell_type": "code",
   "execution_count": 26,
   "id": "49c3929b-e5f2-42c1-86f9-22dd44c6dd0d",
   "metadata": {},
   "outputs": [
    {
     "data": {
      "text/plain": [
       "{'Ст3пс/Э        ': 304,\n",
       " 'C071TM.z01/ЭТ  ': 190,\n",
       " 'SC2/ЭТ         ': 184,\n",
       " 'SC2M/ЭТ        ': 169,\n",
       " 'С255           ': 150,\n",
       " 'SPHC.z03/ЭТ    ': 125,\n",
       " 'G/ЭТ           ': 112,\n",
       " '4SP.z08/ЭТ     ': 108,\n",
       " 'SAE1006.z03/ЭТ ': 61,\n",
       " '10YU.z02/ЭТ    ': 49,\n",
       " '25Г2С          ': 49,\n",
       " 'СТ3ГПС.8       ': 46,\n",
       " '09Г2С          ': 46,\n",
       " 'CQ2-G60/ЭТ     ': 41,\n",
       " 'GR60.z06/ЭТ    ': 40,\n",
       " 'Ш2.1           ': 36,\n",
       " 'Ст3сп          ': 35,\n",
       " 'Ст3сп/Э        ': 32,\n",
       " 'Ст5сп          ': 29,\n",
       " 'СТ3ПС.6        ': 24,\n",
       " 'HRB400E.z03/ЭТ ': 23,\n",
       " '18Г2С.FS       ': 23,\n",
       " 'Ст1пс.z02/ЭТ   ': 22,\n",
       " 'C06ESM.z01/ЭТ  ': 22,\n",
       " '5SP.z16/ЭТ     ': 20,\n",
       " 'C091TM.z01/ЭТ  ': 19,\n",
       " '3SP.z23/ЭТ     ': 17,\n",
       " 'Ш2.3           ': 14,\n",
       " '1PS.z01/ЭТ     ': 12,\n",
       " 'Ст1кп          ': 11,\n",
       " 'Ст2пс          ': 9,\n",
       " '28С.2          ': 8,\n",
       " 'Ст4сп          ': 8,\n",
       " 'СТ3ГСП.2       ': 8,\n",
       " '3SPPS.z03/Э    ': 7,\n",
       " 'Ст1кп/Э        ': 7,\n",
       " '09Г2С.16       ': 6,\n",
       " 'SAE1008.z13/ЭТ ': 6,\n",
       " '3PS.z03/Э      ': 6,\n",
       " '20             ': 4,\n",
       " '35ГС           ': 4,\n",
       " '1PS.z02/ЭТ     ': 4,\n",
       " '40Х.1          ': 4,\n",
       " '10B33/ЭТ       ': 4,\n",
       " 'SP325/ЭТ       ': 4,\n",
       " 'SC3.z01/ЭТ     ': 3,\n",
       " '20.z22         ': 3,\n",
       " 'СВ08А          ': 3,\n",
       " 'Ст2пс/Э        ': 2,\n",
       " '09Г2СДП155     ': 2,\n",
       " '45             ': 2,\n",
       " '28С            ': 2,\n",
       " 'Св-08А.z02     ': 2,\n",
       " 'Ст1пс          ': 2,\n",
       " '15ХСНД         ': 2,\n",
       " '35             ': 2,\n",
       " 'Ст2кп          ': 1,\n",
       " '09Г2С.4        ': 1,\n",
       " 'СВ08Г2С.2      ': 1,\n",
       " 'Ст5пс          ': 1,\n",
       " '10ХСНД.1       ': 1,\n",
       " '26С2.2         ': 1,\n",
       " 'Ст3Гпс         ': 1,\n",
       " '09Г2С.18       ': 1,\n",
       " 'Ст1пс/Э        ': 1,\n",
       " 'GR60.z02/ЭТ    ': 1}"
      ]
     },
     "execution_count": 26,
     "metadata": {},
     "output_type": "execute_result"
    }
   ],
   "source": [
    "temp = train_data['plavki']\n",
    "temp['plavka_NMZ'].value_counts().to_dict()"
   ]
  },
  {
   "cell_type": "code",
   "execution_count": 21,
   "id": "7c654499-9ce6-44ad-9e79-1576b6ea2061",
   "metadata": {},
   "outputs": [
    {
     "data": {
      "text/plain": [
       "(34406, 6)"
      ]
     },
     "execution_count": 21,
     "metadata": {},
     "output_type": "execute_result"
    }
   ],
   "source": [
    "temp.shape"
   ]
  },
  {
   "cell_type": "code",
   "execution_count": null,
   "id": "803632d5-884a-4c2c-bab3-0faf50cc0975",
   "metadata": {},
   "outputs": [],
   "source": []
  },
  {
   "cell_type": "code",
   "execution_count": 13,
   "id": "8747abc4-83fe-4161-805f-046b007205a2",
   "metadata": {},
   "outputs": [
    {
     "data": {
      "text/plain": [
       "опер            21442\n",
       "межпл.прост.    11420\n",
       "вн.пл.прост.     1544\n",
       "Name: TYPE_OPER, dtype: int64"
      ]
     },
     "execution_count": 13,
     "metadata": {},
     "output_type": "execute_result"
    }
   ],
   "source": [
    "temp.TYPE_OPER.value_counts()"
   ]
  },
  {
   "cell_type": "code",
   "execution_count": 137,
   "id": "72665bc7-12a5-465f-bc68-aea5d09d8815",
   "metadata": {},
   "outputs": [
    {
     "data": {
      "text/plain": [
       "(34406, 6)"
      ]
     },
     "execution_count": 137,
     "metadata": {},
     "output_type": "execute_result"
    }
   ],
   "source": [
    "train_data['chronom'].shape"
   ]
  },
  {
   "cell_type": "code",
   "execution_count": 7,
   "id": "5ca5d0aa-f4e0-4ee6-84a8-2f24b586ae17",
   "metadata": {},
   "outputs": [],
   "source": [
    "test_data = read_data('test')"
   ]
  },
  {
   "cell_type": "code",
   "execution_count": 8,
   "id": "a2ed3610-171f-4056-b368-2467e622938e",
   "metadata": {},
   "outputs": [],
   "source": [
    "X_test = preprocess_data(test_data)"
   ]
  },
  {
   "cell_type": "code",
   "execution_count": 9,
   "id": "d2ece933-768a-4cbe-bce4-7bc169b3fef8",
   "metadata": {},
   "outputs": [],
   "source": [
    "train_data = read_data('train')"
   ]
  },
  {
   "cell_type": "code",
   "execution_count": 10,
   "id": "e044dc0f-9d11-463d-8884-c12dd23a4624",
   "metadata": {},
   "outputs": [],
   "source": [
    "X_train = preprocess_data(train_data)"
   ]
  },
  {
   "cell_type": "code",
   "execution_count": 11,
   "id": "536fd637-1e7d-4497-b357-5682c051ff2b",
   "metadata": {},
   "outputs": [
    {
     "data": {
      "text/plain": [
       "set()"
      ]
     },
     "execution_count": 11,
     "metadata": {},
     "output_type": "execute_result"
    }
   ],
   "source": [
    "set(X_test.columns).difference(set(X_train.columns))"
   ]
  },
  {
   "cell_type": "code",
   "execution_count": 12,
   "id": "84b1d05c-d85a-4e0c-a7e9-91df36eea0af",
   "metadata": {
    "tags": []
   },
   "outputs": [],
   "source": [
    "train_list = ['Выпуск металла', 'Завалка лома', 'Заливка чугуна', 'Продувка', 'Наведение гарнисажа', 'Прерыв. выпуска', 'Осмотр конвертера', 'Отсечка шлака', 'Отсутствие чугуна', 'Додувка на t', 'Додувка на C', 'Обрыв горловины', 'Наложение продувки', 'Вхождение в гр.МНЛЗ', 'Полусухое торкрет.', 'Отсутствие O2', 'Неиспр. электр. обор', 'Охл. азотом', 'Подварка  футеровки', 'Ожидание стальковша', 'Замер положения фурм', 'Неиспр. механ. обор.', 'Отсутствие мет.шихты', 'Замена фурмы', 'ППР', 'Ожидание шл.чаш', 'Отсут. своб.разл.пл.', 'Ремонт летки', 'Неиспр. энерг. обор', 'Неиспр. АСУ и КИПиА', 'Скач. шлака']"
   ]
  },
  {
   "cell_type": "code",
   "execution_count": 6,
   "id": "89df1555-62f6-4c21-85e6-9eb92f48e4bd",
   "metadata": {},
   "outputs": [],
   "source": [
    "test_list = ['межпл. простой', 'Слив шлака', 'Завалка лома', 'Заливка чугуна', 'Продувка', 'Наведение гарнисажа', 'Осмотр конвертера', 'Нагрев лома', 'Вхождение в гр.МНЛЗ', 'Наложение продувки', 'Отсутствие чугуна', 'Обрыв горловины', 'Неиспр. электр. обор', 'Отсутствие O2', 'Отсут. своб.разл.пл.', 'Подварка  футеровки', 'Ожидание шл.чаш', 'Замер положения фурм', 'Полусухое торкрет.', 'ППР', 'Замена фурмы', 'Ремонт летки', 'Ожидание стальковша', 'Неиспр. механ. обор.', 'Неиспр. энерг. обор', 'Отсутствие мет.шихты', 'Неиспр. АСУ и КИПиА', 'Подача чугуна']"
   ]
  },
  {
   "cell_type": "code",
   "execution_count": 11,
   "id": "612c8d48-23a0-4a58-a775-52e68fd026f2",
   "metadata": {},
   "outputs": [
    {
     "data": {
      "text/plain": [
       "{'Вхождение в гр.МНЛЗ',\n",
       " 'Завалка лома',\n",
       " 'Заливка чугуна',\n",
       " 'Замена фурмы',\n",
       " 'Замер положения фурм',\n",
       " 'Наведение гарнисажа',\n",
       " 'Наложение продувки',\n",
       " 'Неиспр. АСУ и КИПиА',\n",
       " 'Неиспр. механ. обор.',\n",
       " 'Неиспр. электр. обор',\n",
       " 'Неиспр. энерг. обор',\n",
       " 'Обрыв горловины',\n",
       " 'Ожидание стальковша',\n",
       " 'Ожидание шл.чаш',\n",
       " 'Осмотр конвертера',\n",
       " 'Отсут. своб.разл.пл.',\n",
       " 'Отсутствие O2',\n",
       " 'Отсутствие мет.шихты',\n",
       " 'Отсутствие чугуна',\n",
       " 'ППР',\n",
       " 'Подварка  футеровки',\n",
       " 'Полусухое торкрет.',\n",
       " 'Продувка',\n",
       " 'Ремонт летки'}"
      ]
     },
     "execution_count": 11,
     "metadata": {},
     "output_type": "execute_result"
    }
   ],
   "source": [
    "set(train_list).intersection(set(test_list))"
   ]
  },
  {
   "cell_type": "code",
   "execution_count": 13,
   "id": "8d3ea388-624d-4717-b0e4-e410edec218f",
   "metadata": {},
   "outputs": [
    {
     "data": {
      "text/plain": [
       "Слив шлака              4264\n",
       "межпл. простой          4125\n",
       "Нагрев лома             3664\n",
       "Повалка                 3356\n",
       "Выпуск металла          2065\n",
       "Завалка лома            2063\n",
       "Заливка чугуна          2063\n",
       "Продувка                2063\n",
       "Наведение гарнисажа     2027\n",
       "Прерыв. выпуска         2015\n",
       "Осмотр конвертера       1853\n",
       "Отсечка шлака            860\n",
       "Отсутствие чугуна        630\n",
       "Додувка на t             557\n",
       "Додувка на C             531\n",
       "Обрыв горловины          434\n",
       "Наложение продувки       327\n",
       "Вхождение в гр.МНЛЗ      322\n",
       "Полусухое торкрет.       182\n",
       "Отсутствие O2            155\n",
       "Неиспр. электр. обор     149\n",
       "Охл. азотом              143\n",
       "Подварка  футеровки      141\n",
       "Ожидание стальковша       79\n",
       "Замер положения фурм      72\n",
       "Неиспр. механ. обор.      64\n",
       "Отсутствие мет.шихты      49\n",
       "Замена фурмы              36\n",
       "ППР                       34\n",
       "Ожидание шл.чаш           30\n",
       "Отсут. своб.разл.пл.      23\n",
       "Ремонт летки              13\n",
       "Неиспр. энерг. обор       11\n",
       "Неиспр. АСУ и КИПиА        5\n",
       "Скач. шлака                1\n",
       "Name: NOP, dtype: int64"
      ]
     },
     "execution_count": 13,
     "metadata": {},
     "output_type": "execute_result"
    }
   ],
   "source": [
    "train_data['chronom']['NOP'].value_counts()"
   ]
  },
  {
   "cell_type": "code",
   "execution_count": null,
   "id": "1ea12749-1289-44bf-b3f3-7c61c634a088",
   "metadata": {},
   "outputs": [],
   "source": []
  }
 ],
 "metadata": {
  "kernelspec": {
   "display_name": "Python 3 (ipykernel)",
   "language": "python",
   "name": "python3"
  },
  "language_info": {
   "codemirror_mode": {
    "name": "ipython",
    "version": 3
   },
   "file_extension": ".py",
   "mimetype": "text/x-python",
   "name": "python",
   "nbconvert_exporter": "python",
   "pygments_lexer": "ipython3",
   "version": "3.9.5"
  }
 },
 "nbformat": 4,
 "nbformat_minor": 5
}
