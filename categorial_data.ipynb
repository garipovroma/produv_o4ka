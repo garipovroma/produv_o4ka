{
 "cells": [
  {
   "cell_type": "code",
   "execution_count": 4,
   "id": "29d7085f-998f-48f1-b6f4-e3138bdc2717",
   "metadata": {},
   "outputs": [],
   "source": [
    "import pandas as pd\n",
    "import numpy as np\n",
    "import matplotlib.pyplot as plt\n",
    "from utils.preprocess import *\n",
    "from utils.model import *"
   ]
  },
  {
   "cell_type": "code",
   "execution_count": 5,
   "id": "c4ab78aa-1d75-412f-9841-a3f6da4b5d4f",
   "metadata": {},
   "outputs": [],
   "source": [
    "train_data = read_data('train')"
   ]
  },
  {
   "cell_type": "code",
   "execution_count": 6,
   "id": "aa84dd7a-edfd-4e14-8645-3ef7c04df00e",
   "metadata": {},
   "outputs": [],
   "source": [
    "y = read_target_train()"
   ]
  },
  {
   "cell_type": "code",
   "execution_count": 7,
   "id": "cfb0ef24-a8a3-4e2d-8520-e5ee11ea732f",
   "metadata": {},
   "outputs": [
    {
     "data": {
      "text/plain": [
       "dict_keys(['chronom', 'chugun', 'reduced_gas', 'lom', 'plavki', 'reduced_produv', 'sip'])"
      ]
     },
     "execution_count": 7,
     "metadata": {},
     "output_type": "execute_result"
    }
   ],
   "source": [
    "train_data.keys()"
   ]
  },
  {
   "cell_type": "code",
   "execution_count": 29,
   "id": "185bb63b-2172-411b-9efc-f8bb7d6ba154",
   "metadata": {},
   "outputs": [
    {
     "data": {
      "text/plain": [
       "{'5 сопловая          ': 1525,\n",
       " '4-сопл х54          ': 343,\n",
       " '4-сопл x54          ': 253,\n",
       " 'Э, 4-сопл х54       ': 16}"
      ]
     },
     "execution_count": 29,
     "metadata": {},
     "output_type": "execute_result"
    }
   ],
   "source": [
    "temp['plavka_TIPE_GOL'].value_counts().to_dict()"
   ]
  },
  {
   "cell_type": "code",
   "execution_count": 30,
   "id": "d03e444f-ded7-462a-8abc-62a017375713",
   "metadata": {},
   "outputs": [
    {
     "data": {
      "text/plain": [
       "{'цилиндрическая': 1998, 'коническая': 139}"
      ]
     },
     "execution_count": 30,
     "metadata": {},
     "output_type": "execute_result"
    }
   ],
   "source": [
    "# plavka_TIPE_FUR\n",
    "temp['plavka_TIPE_FUR'].value_counts().to_dict()"
   ]
  },
  {
   "cell_type": "code",
   "execution_count": 26,
   "id": "49c3929b-e5f2-42c1-86f9-22dd44c6dd0d",
   "metadata": {},
   "outputs": [
    {
     "data": {
      "text/plain": [
       "{'Ст3пс/Э        ': 304,\n",
       " 'C071TM.z01/ЭТ  ': 190,\n",
       " 'SC2/ЭТ         ': 184,\n",
       " 'SC2M/ЭТ        ': 169,\n",
       " 'С255           ': 150,\n",
       " 'SPHC.z03/ЭТ    ': 125,\n",
       " 'G/ЭТ           ': 112,\n",
       " '4SP.z08/ЭТ     ': 108,\n",
       " 'SAE1006.z03/ЭТ ': 61,\n",
       " '10YU.z02/ЭТ    ': 49,\n",
       " '25Г2С          ': 49,\n",
       " 'СТ3ГПС.8       ': 46,\n",
       " '09Г2С          ': 46,\n",
       " 'CQ2-G60/ЭТ     ': 41,\n",
       " 'GR60.z06/ЭТ    ': 40,\n",
       " 'Ш2.1           ': 36,\n",
       " 'Ст3сп          ': 35,\n",
       " 'Ст3сп/Э        ': 32,\n",
       " 'Ст5сп          ': 29,\n",
       " 'СТ3ПС.6        ': 24,\n",
       " 'HRB400E.z03/ЭТ ': 23,\n",
       " '18Г2С.FS       ': 23,\n",
       " 'Ст1пс.z02/ЭТ   ': 22,\n",
       " 'C06ESM.z01/ЭТ  ': 22,\n",
       " '5SP.z16/ЭТ     ': 20,\n",
       " 'C091TM.z01/ЭТ  ': 19,\n",
       " '3SP.z23/ЭТ     ': 17,\n",
       " 'Ш2.3           ': 14,\n",
       " '1PS.z01/ЭТ     ': 12,\n",
       " 'Ст1кп          ': 11,\n",
       " 'Ст2пс          ': 9,\n",
       " '28С.2          ': 8,\n",
       " 'Ст4сп          ': 8,\n",
       " 'СТ3ГСП.2       ': 8,\n",
       " '3SPPS.z03/Э    ': 7,\n",
       " 'Ст1кп/Э        ': 7,\n",
       " '09Г2С.16       ': 6,\n",
       " 'SAE1008.z13/ЭТ ': 6,\n",
       " '3PS.z03/Э      ': 6,\n",
       " '20             ': 4,\n",
       " '35ГС           ': 4,\n",
       " '1PS.z02/ЭТ     ': 4,\n",
       " '40Х.1          ': 4,\n",
       " '10B33/ЭТ       ': 4,\n",
       " 'SP325/ЭТ       ': 4,\n",
       " 'SC3.z01/ЭТ     ': 3,\n",
       " '20.z22         ': 3,\n",
       " 'СВ08А          ': 3,\n",
       " 'Ст2пс/Э        ': 2,\n",
       " '09Г2СДП155     ': 2,\n",
       " '45             ': 2,\n",
       " '28С            ': 2,\n",
       " 'Св-08А.z02     ': 2,\n",
       " 'Ст1пс          ': 2,\n",
       " '15ХСНД         ': 2,\n",
       " '35             ': 2,\n",
       " 'Ст2кп          ': 1,\n",
       " '09Г2С.4        ': 1,\n",
       " 'СВ08Г2С.2      ': 1,\n",
       " 'Ст5пс          ': 1,\n",
       " '10ХСНД.1       ': 1,\n",
       " '26С2.2         ': 1,\n",
       " 'Ст3Гпс         ': 1,\n",
       " '09Г2С.18       ': 1,\n",
       " 'Ст1пс/Э        ': 1,\n",
       " 'GR60.z02/ЭТ    ': 1}"
      ]
     },
     "execution_count": 26,
     "metadata": {},
     "output_type": "execute_result"
    }
   ],
   "source": [
    "temp = train_data['plavki']\n",
    "temp['plavka_NMZ'].value_counts().to_dict()"
   ]
  },
  {
   "cell_type": "code",
   "execution_count": 21,
   "id": "7c654499-9ce6-44ad-9e79-1576b6ea2061",
   "metadata": {},
   "outputs": [
    {
     "data": {
      "text/plain": [
       "(34406, 6)"
      ]
     },
     "execution_count": 21,
     "metadata": {},
     "output_type": "execute_result"
    }
   ],
   "source": [
    "temp.shape"
   ]
  },
  {
   "cell_type": "code",
   "execution_count": 13,
   "id": "8747abc4-83fe-4161-805f-046b007205a2",
   "metadata": {},
   "outputs": [
    {
     "data": {
      "text/plain": [
       "опер            21442\n",
       "межпл.прост.    11420\n",
       "вн.пл.прост.     1544\n",
       "Name: TYPE_OPER, dtype: int64"
      ]
     },
     "execution_count": 13,
     "metadata": {},
     "output_type": "execute_result"
    }
   ],
   "source": [
    "temp.TYPE_OPER.value_counts()"
   ]
  },
  {
   "cell_type": "code",
   "execution_count": 137,
   "id": "72665bc7-12a5-465f-bc68-aea5d09d8815",
   "metadata": {},
   "outputs": [
    {
     "data": {
      "text/plain": [
       "(34406, 6)"
      ]
     },
     "execution_count": 137,
     "metadata": {},
     "output_type": "execute_result"
    }
   ],
   "source": [
    "train_data['chronom'].shape"
   ]
  }
 ],
 "metadata": {
  "kernelspec": {
   "display_name": "Python 3 (ipykernel)",
   "language": "python",
   "name": "python3"
  },
  "language_info": {
   "codemirror_mode": {
    "name": "ipython",
    "version": 3
   },
   "file_extension": ".py",
   "mimetype": "text/x-python",
   "name": "python",
   "nbconvert_exporter": "python",
   "pygments_lexer": "ipython3",
   "version": "3.9.5"
  }
 },
 "nbformat": 4,
 "nbformat_minor": 5
}
