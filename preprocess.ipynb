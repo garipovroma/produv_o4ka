{
 "cells": [
  {
   "cell_type": "code",
   "execution_count": 10,
   "id": "bf1c40a5-623a-47a5-877d-55c90720ac41",
   "metadata": {},
   "outputs": [],
   "source": [
    "import pandas as pd\n",
    "import numpy as np\n",
    "import matplotlib.pyplot as plt\n",
    "import pickle\n",
    "from utils.preprocess import *\n",
    "from utils.model import *"
   ]
  },
  {
   "cell_type": "markdown",
   "id": "ae9bdbb6-073a-45d4-a82f-d570612737db",
   "metadata": {},
   "source": [
    "### Reduced ts"
   ]
  },
  {
   "cell_type": "code",
   "execution_count": 3,
   "id": "d5f6064c-d32f-4971-91d6-a765e616cd2e",
   "metadata": {},
   "outputs": [],
   "source": [
    "produv_train = pd.read_csv(config['data_path'] + 'produv_train.csv')\n",
    "gas_train = pd.read_csv(config['data_path'] + 'gas_train.csv')\n",
    "chronom_train = pd.read_csv(config['data_path'] + 'chronom_train.csv')\n",
    "\n",
    "produv_test = pd.read_csv(config['data_path'] + 'produv_test.csv')\n",
    "gas_test = pd.read_csv(config['data_path'] + 'gas_test.csv')\n",
    "chronom_test = pd.read_csv(config['data_path'] + 'chronom_test.csv')"
   ]
  },
  {
   "cell_type": "code",
   "execution_count": 4,
   "id": "d7f97cde-1a66-4a94-9d8f-38b3e7dfb260",
   "metadata": {},
   "outputs": [],
   "source": [
    "reduce_ts(ts_preproc(gas_train, 'Time'), chronom_train).to_csv(config['data_path'] + 'reduced_gas_train.csv')\n",
    "reduce_ts(ts_preproc(produv_train, 'SEC'), chronom_train).to_csv(config['data_path'] + 'reduced_produv_train.csv')\n",
    "reduce_ts(ts_preproc(gas_test, 'Time'), chronom_test).to_csv(config['data_path'] + 'reduced_gas_test.csv')\n",
    "reduce_ts(ts_preproc(produv_test, 'SEC'), chronom_test).to_csv(config['data_path'] + 'reduced_produv_test.csv')"
   ]
  },
  {
   "cell_type": "markdown",
   "id": "2a5b2c51-1838-499c-af64-0e43162009d0",
   "metadata": {},
   "source": [
    "### Extract ts features"
   ]
  },
  {
   "cell_type": "code",
   "execution_count": 11,
   "id": "c6045ac6-55db-4891-882a-8d44ef0b5b37",
   "metadata": {},
   "outputs": [],
   "source": [
    "train_data = read_data('train')"
   ]
  },
  {
   "cell_type": "code",
   "execution_count": 12,
   "id": "db3bd130-fdb6-4bb4-aa36-9a4c8aa0b9a9",
   "metadata": {},
   "outputs": [
    {
     "name": "stderr",
     "output_type": "stream",
     "text": [
      "100%|███████████████████████████████████████████████████████████████████████████████████████████████████████████████████████████████████████████████████████████████████| 2063/2063 [07:41<00:00,  4.47it/s]\n",
      "100%|███████████████████████████████████████████████████████████████████████████████████████████████████████████████████████████████████████████████████████████████████| 2063/2063 [01:36<00:00, 21.33it/s]\n"
     ]
    }
   ],
   "source": [
    "X_train = preprocess_data(train_data)"
   ]
  },
  {
   "cell_type": "code",
   "execution_count": 13,
   "id": "31deecf8-0438-45f7-a75e-583bcf3bd232",
   "metadata": {},
   "outputs": [],
   "source": [
    "test_data = read_data('test')\n",
    "for file in files:\n",
    "    test_data[file] = test_data[file][test_data[file].NPLV != 512905]"
   ]
  },
  {
   "cell_type": "code",
   "execution_count": 14,
   "id": "33508ca9-aa15-4a40-8b4d-a057a8e5eef8",
   "metadata": {},
   "outputs": [
    {
     "name": "stderr",
     "output_type": "stream",
     "text": [
      "100%|█████████████████████████████████████████████████████████████████████████████████████████████████████████████████████████████████████████████████████████████████████| 779/779 [02:34<00:00,  5.04it/s]\n",
      "100%|█████████████████████████████████████████████████████████████████████████████████████████████████████████████████████████████████████████████████████████████████████| 779/779 [00:31<00:00, 24.39it/s]\n"
     ]
    }
   ],
   "source": [
    "X_test = preprocess_data(test_data)"
   ]
  },
  {
   "cell_type": "code",
   "execution_count": 56,
   "id": "3814d016-3713-4c83-a0cb-71e51f58924a",
   "metadata": {},
   "outputs": [],
   "source": [
    "numerics = ['int16', 'int32', 'int64', 'float16', 'float32', 'float64']\n",
    "\n",
    "X_train = X_train.select_dtypes(include=numerics)\n",
    "X_test  = X_test.select_dtypes(include=numerics)"
   ]
  },
  {
   "cell_type": "code",
   "execution_count": 10,
   "id": "d3f2346f-78fd-41c8-b218-4e6dae8867f6",
   "metadata": {},
   "outputs": [],
   "source": [
    "#X_train.to_csv(config['data_path'] + 'num_extracted_features_train.csv')\n",
    "# X_test.to_csv(config['data_path'] + 'num_extracted_features_test.csv')\n",
    "# X_train = pd.read_csv(config['data_path'] + 'num_extracted_features_train.csv')\n",
    "# X_test  = pd.read_csv(config['data_path'] + 'num_extracted_features_test.csv')"
   ]
  },
  {
   "cell_type": "code",
   "execution_count": 60,
   "id": "eef56e27-2b7b-442b-9196-a7ffaada312b",
   "metadata": {},
   "outputs": [],
   "source": [
    "train_NPLV = X_train['NPLV']\n",
    "test_NPLV = X_test['NPLV']\n",
    "selected_features_train, selected_features_test = ts_select_features(X_train.drop(['NPLV'], axis = 1), X_test.drop(['NPLV'], axis = 1))\n",
    "# selected_features_train, selected_features_test = X_train.drop(['NPLV'], axis = 1), X_test.drop(['NPLV'], axis = 1)"
   ]
  },
  {
   "cell_type": "code",
   "execution_count": 61,
   "id": "784eac8c-1183-479d-870f-e9d5d57eaa17",
   "metadata": {},
   "outputs": [],
   "source": [
    "# selected_features_test = selected_features_test.drop(['Unnamed: 0'], axis = 1)\n",
    "selected_features_test['NPLV'] = test_NPLV"
   ]
  },
  {
   "cell_type": "code",
   "execution_count": 62,
   "id": "fcf76697-7cbb-4cba-a87b-8b5fc4424008",
   "metadata": {},
   "outputs": [],
   "source": [
    "imposter = pd.DataFrame(selected_features_test.mean(),columns=[779]).T\n",
    "imposter['NPLV'] = [512905]"
   ]
  },
  {
   "cell_type": "code",
   "execution_count": 63,
   "id": "ccd094ed-2dd0-4a8b-9724-a09e015db2a2",
   "metadata": {},
   "outputs": [],
   "source": [
    "selected_features_test = pd.concat([selected_features_test, imposter]).sort_values('NPLV').reset_index().drop(['index'],axis=1)"
   ]
  },
  {
   "cell_type": "code",
   "execution_count": 64,
   "id": "93d80e7c-2afc-4373-81f0-278c4c8a4944",
   "metadata": {},
   "outputs": [],
   "source": [
    "with open('clustering_test.pickle', 'rb') as f:\n",
    "    clustering_test = pickle.load(f)\n",
    "    \n",
    "    clustering_test_df = pd.DataFrame({'NPLV' : selected_features_test['NPLV'].values, 'cluster_label' : clustering_test})\n",
    "    selected_features_test = selected_features_test.merge(clustering_test_df, on='NPLV')"
   ]
  },
  {
   "cell_type": "code",
   "execution_count": 65,
   "id": "06947d81-0760-487b-a814-64357488570d",
   "metadata": {},
   "outputs": [],
   "source": [
    "# selected_features_train = selected_features_train.drop(['Unnamed: 0'], axis = 1)\n",
    "selected_features_train['NPLV'] = train_NPLV\n",
    "\n",
    "with open('clustering_train.pickle', 'rb') as f:\n",
    "    clustering_train = pickle.load(f)\n",
    "    \n",
    "    clustering_train_df = pd.DataFrame({'NPLV' : train_NPLV.values, 'cluster_label' : clustering_train})\n",
    "    selected_features_train = selected_features_train.merge(clustering_train_df, on='NPLV')"
   ]
  },
  {
   "cell_type": "code",
   "execution_count": 66,
   "id": "a854ad47-b3ee-4775-a7e2-e7740f0d7e85",
   "metadata": {},
   "outputs": [
    {
     "data": {
      "text/plain": [
       "(2063, 5402)"
      ]
     },
     "execution_count": 66,
     "metadata": {},
     "output_type": "execute_result"
    }
   ],
   "source": [
    "selected_features_train.shape"
   ]
  },
  {
   "cell_type": "code",
   "execution_count": 67,
   "id": "8a0a0385-79ce-4339-8bb8-af2bcb407675",
   "metadata": {},
   "outputs": [],
   "source": [
    "selected_features_train.to_csv(config['data_path'] + 'preprocessed_train.csv')\n",
    "selected_features_test.to_csv(config['data_path'] + 'preprocessed_test.csv')"
   ]
  },
  {
   "cell_type": "code",
   "execution_count": null,
   "id": "8a3ab34c-7466-4655-a1b1-f4a580edf89f",
   "metadata": {},
   "outputs": [],
   "source": []
  }
 ],
 "metadata": {
  "kernelspec": {
   "display_name": "Python 3 (ipykernel)",
   "language": "python",
   "name": "python3"
  },
  "language_info": {
   "codemirror_mode": {
    "name": "ipython",
    "version": 3
   },
   "file_extension": ".py",
   "mimetype": "text/x-python",
   "name": "python",
   "nbconvert_exporter": "python",
   "pygments_lexer": "ipython3",
   "version": "3.9.5"
  }
 },
 "nbformat": 4,
 "nbformat_minor": 5
}
