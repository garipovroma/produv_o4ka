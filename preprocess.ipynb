{
 "cells": [
  {
   "cell_type": "code",
   "execution_count": 1,
   "id": "bf1c40a5-623a-47a5-877d-55c90720ac41",
   "metadata": {},
   "outputs": [],
   "source": [
    "import pandas as pd\n",
    "import numpy as np\n",
    "import matplotlib.pyplot as plt\n",
    "from utils.preprocess import *\n",
    "from utils.model import *"
   ]
  },
  {
   "cell_type": "markdown",
   "id": "ae9bdbb6-073a-45d4-a82f-d570612737db",
   "metadata": {},
   "source": [
    "### Reduced ts"
   ]
  },
  {
   "cell_type": "code",
   "execution_count": 5,
   "id": "d5f6064c-d32f-4971-91d6-a765e616cd2e",
   "metadata": {},
   "outputs": [],
   "source": [
    "produv_train = pd.read_csv(config['data_path'] + 'produv_train.csv')\n",
    "gas_train = pd.read_csv(config['data_path'] + 'gas_train.csv')\n",
    "chronom_train = pd.read_csv(config['data_path'] + 'chronom_train.csv')\n",
    "\n",
    "produv_test = pd.read_csv(config['data_path'] + 'produv_test.csv')\n",
    "gas_test = pd.read_csv(config['data_path'] + 'gas_test.csv')\n",
    "chronom_test = pd.read_csv(config['data_path'] + 'chronom_test.csv')"
   ]
  },
  {
   "cell_type": "code",
   "execution_count": 8,
   "id": "d7f97cde-1a66-4a94-9d8f-38b3e7dfb260",
   "metadata": {},
   "outputs": [
    {
     "ename": "SyntaxError",
     "evalue": "invalid syntax (Temp/ipykernel_8948/3193017951.py, line 4)",
     "output_type": "error",
     "traceback": [
      "\u001b[1;36m  File \u001b[1;32m\"C:\\Users\\S\\AppData\\Local\\Temp/ipykernel_8948/3193017951.py\"\u001b[1;36m, line \u001b[1;32m4\u001b[0m\n\u001b[1;33m    reduce_ts(ts_preproc(produv_test, 'SEC'), chronom_test).to_csv('reduced_produv_test.csv')\u001b[0m\n\u001b[1;37m    ^\u001b[0m\n\u001b[1;31mSyntaxError\u001b[0m\u001b[1;31m:\u001b[0m invalid syntax\n"
     ]
    }
   ],
   "source": [
    "reduce_ts(ts_preproc(gas_train, 'Time'), chronom_train).to_csv(config['data_path'] + 'reduced_gas_train.csv')\n",
    "reduce_ts(ts_preproc(produv_train, 'SEC'), chronom_train).to_csv(config['data_path'] + 'reduced_produv_train.csv')\n",
    "reduce_ts(ts_preproc(gas_test, 'Time'), chronom_test).to_csv(config['data_path'] + 'reduced_gas_test.csv')\n",
    "reduce_ts(ts_preproc(produv_test, 'SEC'), chronom_test).to_csv(config['data_path'] + 'reduced_produv_test.csv')"
   ]
  },
  {
   "cell_type": "markdown",
   "id": "2a5b2c51-1838-499c-af64-0e43162009d0",
   "metadata": {},
   "source": [
    "### Extract ts features"
   ]
  },
  {
   "cell_type": "code",
   "execution_count": 2,
   "id": "c6045ac6-55db-4891-882a-8d44ef0b5b37",
   "metadata": {},
   "outputs": [],
   "source": [
    "train_data = read_data('train')"
   ]
  },
  {
   "cell_type": "code",
   "execution_count": 3,
   "id": "db3bd130-fdb6-4bb4-aa36-9a4c8aa0b9a9",
   "metadata": {},
   "outputs": [
    {
     "name": "stderr",
     "output_type": "stream",
     "text": [
      "100%|██████████████████████████████████████████████████████████████████████████████| 2063/2063 [17:33<00:00,  1.96it/s]\n",
      "100%|██████████████████████████████████████████████████████████████████████████████| 2063/2063 [04:03<00:00,  8.46it/s]\n",
      "100%|████████████████████████████████████████████████████████████████████████████████| 780/780 [06:33<00:00,  1.98it/s]\n",
      " 55%|████████████████████████████████████████████                                    | 429/780 [00:45<00:37,  9.36it/s]\n"
     ]
    },
    {
     "ename": "ValueError",
     "evalue": "Input signal must have a length >= n_coeff",
     "output_type": "error",
     "traceback": [
      "\u001b[1;31m---------------------------------------------------------------------------\u001b[0m",
      "\u001b[1;31mValueError\u001b[0m                                Traceback (most recent call last)",
      "\u001b[1;32m~\\AppData\\Local\\Temp/ipykernel_15292/897414861.py\u001b[0m in \u001b[0;36m<module>\u001b[1;34m\u001b[0m\n\u001b[0;32m      1\u001b[0m \u001b[0mX_train\u001b[0m \u001b[1;33m=\u001b[0m \u001b[0mpreprocess_data\u001b[0m\u001b[1;33m(\u001b[0m\u001b[0mtrain_data\u001b[0m\u001b[1;33m)\u001b[0m\u001b[1;33m\u001b[0m\u001b[1;33m\u001b[0m\u001b[0m\n\u001b[1;32m----> 2\u001b[1;33m \u001b[0mX_test\u001b[0m \u001b[1;33m=\u001b[0m \u001b[0mpreprocess_data\u001b[0m\u001b[1;33m(\u001b[0m\u001b[0mtest_data\u001b[0m\u001b[1;33m)\u001b[0m\u001b[1;33m\u001b[0m\u001b[1;33m\u001b[0m\u001b[0m\n\u001b[0m",
      "\u001b[1;32m~\\Documents\\Education\\Data Analysis\\Competitions\\evraz chugun\\produv_o4ka\\utils\\preprocess.py\u001b[0m in \u001b[0;36mpreprocess_data\u001b[1;34m(data)\u001b[0m\n\u001b[0;32m     28\u001b[0m     \u001b[0mdata\u001b[0m\u001b[1;33m[\u001b[0m\u001b[1;34m'reduced_produv'\u001b[0m\u001b[1;33m]\u001b[0m \u001b[1;33m=\u001b[0m \u001b[0mts_preproc\u001b[0m\u001b[1;33m(\u001b[0m\u001b[0mdata\u001b[0m\u001b[1;33m[\u001b[0m\u001b[1;34m'reduced_produv'\u001b[0m\u001b[1;33m]\u001b[0m\u001b[1;33m,\u001b[0m \u001b[1;34m'SEC'\u001b[0m\u001b[1;33m)\u001b[0m\u001b[1;33m\u001b[0m\u001b[1;33m\u001b[0m\u001b[0m\n\u001b[0;32m     29\u001b[0m     \u001b[0mdata\u001b[0m\u001b[1;33m[\u001b[0m\u001b[1;34m'extracted_gas'\u001b[0m\u001b[1;33m]\u001b[0m \u001b[1;33m=\u001b[0m \u001b[0mts_extract_features\u001b[0m\u001b[1;33m(\u001b[0m\u001b[0mdata\u001b[0m\u001b[1;33m[\u001b[0m\u001b[1;34m'reduced_gas'\u001b[0m\u001b[1;33m]\u001b[0m\u001b[1;33m)\u001b[0m\u001b[1;33m\u001b[0m\u001b[1;33m\u001b[0m\u001b[0m\n\u001b[1;32m---> 30\u001b[1;33m     \u001b[0mdata\u001b[0m\u001b[1;33m[\u001b[0m\u001b[1;34m'extracted_produv'\u001b[0m\u001b[1;33m]\u001b[0m \u001b[1;33m=\u001b[0m \u001b[0mts_extract_features\u001b[0m\u001b[1;33m(\u001b[0m\u001b[0mdata\u001b[0m\u001b[1;33m[\u001b[0m\u001b[1;34m'reduced_produv'\u001b[0m\u001b[1;33m]\u001b[0m\u001b[1;33m)\u001b[0m\u001b[1;33m\u001b[0m\u001b[1;33m\u001b[0m\u001b[0m\n\u001b[0m\u001b[0;32m     31\u001b[0m     \u001b[0mX\u001b[0m \u001b[1;33m=\u001b[0m \u001b[0mdata\u001b[0m\u001b[1;33m[\u001b[0m\u001b[1;34m'chugun'\u001b[0m\u001b[1;33m]\u001b[0m\u001b[1;33m.\u001b[0m\u001b[0mdrop\u001b[0m\u001b[1;33m(\u001b[0m\u001b[1;33m[\u001b[0m\u001b[1;34m'DATA_ZAMERA'\u001b[0m\u001b[1;33m]\u001b[0m\u001b[1;33m,\u001b[0m \u001b[0maxis\u001b[0m \u001b[1;33m=\u001b[0m \u001b[1;36m1\u001b[0m\u001b[1;33m)\u001b[0m\u001b[1;33m\u001b[0m\u001b[1;33m\u001b[0m\u001b[0m\n\u001b[0;32m     32\u001b[0m     \u001b[1;32mfor\u001b[0m \u001b[0mfile\u001b[0m \u001b[1;32min\u001b[0m \u001b[0mfiles\u001b[0m\u001b[1;33m:\u001b[0m\u001b[1;33m\u001b[0m\u001b[1;33m\u001b[0m\u001b[0m\n",
      "\u001b[1;32m~\\Documents\\Education\\Data Analysis\\Competitions\\evraz chugun\\produv_o4ka\\utils\\preprocess.py\u001b[0m in \u001b[0;36mts_extract_features\u001b[1;34m(ts_df)\u001b[0m\n\u001b[0;32m     66\u001b[0m         \u001b[0mcurr_ts\u001b[0m \u001b[1;33m=\u001b[0m \u001b[0mcurr_ts\u001b[0m\u001b[1;33m.\u001b[0m\u001b[0mdrop\u001b[0m\u001b[1;33m(\u001b[0m\u001b[1;33m[\u001b[0m\u001b[1;34m'NPLV'\u001b[0m\u001b[1;33m]\u001b[0m\u001b[1;33m,\u001b[0m \u001b[0maxis\u001b[0m \u001b[1;33m=\u001b[0m \u001b[1;36m1\u001b[0m\u001b[1;33m)\u001b[0m\u001b[1;33m\u001b[0m\u001b[1;33m\u001b[0m\u001b[0m\n\u001b[0;32m     67\u001b[0m \u001b[1;33m\u001b[0m\u001b[0m\n\u001b[1;32m---> 68\u001b[1;33m         \u001b[0mfeat_for_cts\u001b[0m \u001b[1;33m=\u001b[0m \u001b[0mtsfel\u001b[0m\u001b[1;33m.\u001b[0m\u001b[0mtime_series_features_extractor\u001b[0m\u001b[1;33m(\u001b[0m\u001b[0mcfg_file\u001b[0m\u001b[1;33m,\u001b[0m \u001b[0mcurr_ts\u001b[0m\u001b[1;33m,\u001b[0m \u001b[0mheader_names\u001b[0m \u001b[1;33m=\u001b[0m \u001b[0mheader_names\u001b[0m\u001b[1;33m,\u001b[0m \u001b[0mverbose\u001b[0m\u001b[1;33m=\u001b[0m\u001b[1;36m0\u001b[0m\u001b[1;33m)\u001b[0m\u001b[1;33m\u001b[0m\u001b[1;33m\u001b[0m\u001b[0m\n\u001b[0m\u001b[0;32m     69\u001b[0m         \u001b[0mfeat_for_cts\u001b[0m\u001b[1;33m[\u001b[0m\u001b[1;34m'NPLV'\u001b[0m\u001b[1;33m]\u001b[0m \u001b[1;33m=\u001b[0m \u001b[0mNPLV\u001b[0m\u001b[1;33m\u001b[0m\u001b[1;33m\u001b[0m\u001b[0m\n\u001b[0;32m     70\u001b[0m \u001b[1;33m\u001b[0m\u001b[0m\n",
      "\u001b[1;32m~\\AppData\\Roaming\\Python\\Python39\\site-packages\\tsfel\\feature_extraction\\calc_features.py\u001b[0m in \u001b[0;36mtime_series_features_extractor\u001b[1;34m(dict_features, signal_windows, fs, verbose, **kwargs)\u001b[0m\n\u001b[0;32m    266\u001b[0m \u001b[1;33m\u001b[0m\u001b[0m\n\u001b[0;32m    267\u001b[0m     \u001b[1;32mif\u001b[0m \u001b[0misinstance\u001b[0m\u001b[1;33m(\u001b[0m\u001b[0msignal_windows\u001b[0m\u001b[1;33m,\u001b[0m \u001b[0mpd\u001b[0m\u001b[1;33m.\u001b[0m\u001b[0mDataFrame\u001b[0m\u001b[1;33m)\u001b[0m\u001b[1;33m:\u001b[0m\u001b[1;33m\u001b[0m\u001b[1;33m\u001b[0m\u001b[0m\n\u001b[1;32m--> 268\u001b[1;33m         features_final = calc_window_features(dict_features, signal_windows, fs, verbose=verbose, single_window=True,\n\u001b[0m\u001b[0;32m    269\u001b[0m                                               \u001b[0mfeatures_path\u001b[0m\u001b[1;33m=\u001b[0m\u001b[0mfeatures_path\u001b[0m\u001b[1;33m,\u001b[0m\u001b[1;33m\u001b[0m\u001b[1;33m\u001b[0m\u001b[0m\n\u001b[0;32m    270\u001b[0m                                               header_names=names)\n",
      "\u001b[1;32m~\\AppData\\Roaming\\Python\\Python39\\site-packages\\tsfel\\feature_extraction\\calc_features.py\u001b[0m in \u001b[0;36mcalc_window_features\u001b[1;34m(dict_features, signal_window, fs, verbose, single_window, **kwargs)\u001b[0m\n\u001b[0;32m    460\u001b[0m \u001b[1;33m\u001b[0m\u001b[0m\n\u001b[0;32m    461\u001b[0m                     \u001b[0mexecf\u001b[0m \u001b[1;33m+=\u001b[0m \u001b[1;34m')'\u001b[0m\u001b[1;33m\u001b[0m\u001b[1;33m\u001b[0m\u001b[0m\n\u001b[1;32m--> 462\u001b[1;33m                     \u001b[0meval_result\u001b[0m \u001b[1;33m=\u001b[0m \u001b[0meval\u001b[0m\u001b[1;33m(\u001b[0m\u001b[0mexecf\u001b[0m\u001b[1;33m,\u001b[0m \u001b[0mlocals\u001b[0m\u001b[1;33m(\u001b[0m\u001b[1;33m)\u001b[0m\u001b[1;33m)\u001b[0m\u001b[1;33m\u001b[0m\u001b[1;33m\u001b[0m\u001b[0m\n\u001b[0m\u001b[0;32m    463\u001b[0m \u001b[1;33m\u001b[0m\u001b[0m\n\u001b[0;32m    464\u001b[0m                     \u001b[1;31m# Function returns more than one element\u001b[0m\u001b[1;33m\u001b[0m\u001b[1;33m\u001b[0m\u001b[1;33m\u001b[0m\u001b[0m\n",
      "\u001b[1;32m<string>\u001b[0m in \u001b[0;36m<module>\u001b[1;34m\u001b[0m\n",
      "\u001b[1;32m~\\AppData\\Roaming\\Python\\Python39\\site-packages\\tsfel\\feature_extraction\\features.py\u001b[0m in \u001b[0;36mlpcc\u001b[1;34m(signal, n_coeff)\u001b[0m\n\u001b[0;32m   1518\u001b[0m     \"\"\"\n\u001b[0;32m   1519\u001b[0m     \u001b[1;31m# 12-20 cepstral coefficients are sufficient for speech recognition\u001b[0m\u001b[1;33m\u001b[0m\u001b[1;33m\u001b[0m\u001b[1;33m\u001b[0m\u001b[0m\n\u001b[1;32m-> 1520\u001b[1;33m     \u001b[0mlpc_coeffs\u001b[0m \u001b[1;33m=\u001b[0m \u001b[0mlpc\u001b[0m\u001b[1;33m(\u001b[0m\u001b[0msignal\u001b[0m\u001b[1;33m,\u001b[0m \u001b[0mn_coeff\u001b[0m\u001b[1;33m)\u001b[0m\u001b[1;33m\u001b[0m\u001b[1;33m\u001b[0m\u001b[0m\n\u001b[0m\u001b[0;32m   1521\u001b[0m \u001b[1;33m\u001b[0m\u001b[0m\n\u001b[0;32m   1522\u001b[0m     \u001b[1;32mif\u001b[0m \u001b[0mnp\u001b[0m\u001b[1;33m.\u001b[0m\u001b[0msum\u001b[0m\u001b[1;33m(\u001b[0m\u001b[0mlpc_coeffs\u001b[0m\u001b[1;33m)\u001b[0m \u001b[1;33m==\u001b[0m \u001b[1;36m0\u001b[0m\u001b[1;33m:\u001b[0m\u001b[1;33m\u001b[0m\u001b[1;33m\u001b[0m\u001b[0m\n",
      "\u001b[1;32m~\\AppData\\Roaming\\Python\\Python39\\site-packages\\tsfel\\feature_extraction\\features_utils.py\u001b[0m in \u001b[0;36mlpc\u001b[1;34m(signal, n_coeff)\u001b[0m\n\u001b[0;32m    211\u001b[0m         \u001b[1;32mraise\u001b[0m \u001b[0mValueError\u001b[0m\u001b[1;33m(\u001b[0m\u001b[1;34m\"Only 1 dimensional arrays are valid\"\u001b[0m\u001b[1;33m)\u001b[0m\u001b[1;33m\u001b[0m\u001b[1;33m\u001b[0m\u001b[0m\n\u001b[0;32m    212\u001b[0m     \u001b[1;32mif\u001b[0m \u001b[0mn_coeff\u001b[0m \u001b[1;33m>\u001b[0m \u001b[0msignal\u001b[0m\u001b[1;33m.\u001b[0m\u001b[0msize\u001b[0m\u001b[1;33m:\u001b[0m\u001b[1;33m\u001b[0m\u001b[1;33m\u001b[0m\u001b[0m\n\u001b[1;32m--> 213\u001b[1;33m         \u001b[1;32mraise\u001b[0m \u001b[0mValueError\u001b[0m\u001b[1;33m(\u001b[0m\u001b[1;34m\"Input signal must have a length >= n_coeff\"\u001b[0m\u001b[1;33m)\u001b[0m\u001b[1;33m\u001b[0m\u001b[1;33m\u001b[0m\u001b[0m\n\u001b[0m\u001b[0;32m    214\u001b[0m \u001b[1;33m\u001b[0m\u001b[0m\n\u001b[0;32m    215\u001b[0m     \u001b[1;31m# Calculate LPC with Yule-Walker\u001b[0m\u001b[1;33m\u001b[0m\u001b[1;33m\u001b[0m\u001b[1;33m\u001b[0m\u001b[0m\n",
      "\u001b[1;31mValueError\u001b[0m: Input signal must have a length >= n_coeff"
     ]
    }
   ],
   "source": [
    "X_train = preprocess_data(train_data)"
   ]
  },
  {
   "cell_type": "code",
   "execution_count": 23,
   "id": "31deecf8-0438-45f7-a75e-583bcf3bd232",
   "metadata": {},
   "outputs": [],
   "source": [
    "test_data = read_data('test')\n",
    "for file in files:\n",
    "    test_data[file] = test_data[file][test_data[file].NPLV != 512905]"
   ]
  },
  {
   "cell_type": "code",
   "execution_count": 24,
   "id": "33508ca9-aa15-4a40-8b4d-a057a8e5eef8",
   "metadata": {},
   "outputs": [
    {
     "name": "stderr",
     "output_type": "stream",
     "text": [
      "100%|████████████████████████████████████████████████████████████████████████████████| 779/779 [06:07<00:00,  2.12it/s]\n",
      "100%|████████████████████████████████████████████████████████████████████████████████| 779/779 [01:13<00:00, 10.58it/s]\n"
     ]
    }
   ],
   "source": [
    "X_test = preprocess_data(test_data)"
   ]
  },
  {
   "cell_type": "code",
   "execution_count": 29,
   "id": "3814d016-3713-4c83-a0cb-71e51f58924a",
   "metadata": {},
   "outputs": [],
   "source": [
    "numerics = ['int16', 'int32', 'int64', 'float16', 'float32', 'float64']\n",
    "\n",
    "X_train = X_train.select_dtypes(include=numerics)\n",
    "X_test  = X_test.select_dtypes(include=numerics)"
   ]
  },
  {
   "cell_type": "code",
   "execution_count": 2,
   "id": "d3f2346f-78fd-41c8-b218-4e6dae8867f6",
   "metadata": {},
   "outputs": [],
   "source": [
    "#X_train.to_csv(config['data_path'] + 'num_extracted_features_train.csv')\n",
    "#X_test.to_csv(config['data_path'] + 'num_extracted_features_test.csv')\n",
    "#X_train = pd.read_csv(config['data_path'] + 'num_extracted_features_train.csv')\n",
    "#X_test  = pd.read_csv(config['data_path'] + 'num_extracted_features_test.csv')"
   ]
  },
  {
   "cell_type": "code",
   "execution_count": 3,
   "id": "eef56e27-2b7b-442b-9196-a7ffaada312b",
   "metadata": {},
   "outputs": [],
   "source": [
    "train_NPLV = X_train['NPLV']\n",
    "test_NPLV = X_test['NPLV']\n",
    "selected_features_train, selected_features_test = ts_select_features(X_train.drop(['NPLV'], axis = 1), X_test.drop(['NPLV'], axis = 1))"
   ]
  },
  {
   "cell_type": "code",
   "execution_count": 6,
   "id": "490792e9-c645-49d9-913a-f97dfe67912d",
   "metadata": {},
   "outputs": [
    {
     "data": {
      "text/plain": [
       "512905"
      ]
     },
     "execution_count": 6,
     "metadata": {},
     "output_type": "execute_result"
    }
   ],
   "source": [
    "512905"
   ]
  },
  {
   "cell_type": "code",
   "execution_count": 6,
   "id": "784eac8c-1183-479d-870f-e9d5d57eaa17",
   "metadata": {},
   "outputs": [],
   "source": [
    "selected_features_test = selected_features_test.drop(['Unnamed: 0'], axis = 1)\n",
    "selected_features_test['NPLV'] = test_NPLV"
   ]
  },
  {
   "cell_type": "code",
   "execution_count": 29,
   "id": "fcf76697-7cbb-4cba-a87b-8b5fc4424008",
   "metadata": {},
   "outputs": [],
   "source": [
    "imposter = pd.DataFrame(selected_features_test.mean(),columns=[779]).T\n",
    "imposter['NPLV'] = [512905]"
   ]
  },
  {
   "cell_type": "code",
   "execution_count": 34,
   "id": "ccd094ed-2dd0-4a8b-9724-a09e015db2a2",
   "metadata": {},
   "outputs": [],
   "source": [
    "selected_features_test = pd.concat([selected_features_test, imposter]).sort_values('NPLV').reset_index().drop(['index'],axis=1)"
   ]
  },
  {
   "cell_type": "code",
   "execution_count": 35,
   "id": "06947d81-0760-487b-a814-64357488570d",
   "metadata": {},
   "outputs": [],
   "source": [
    "selected_features_train = selected_features_train.drop(['Unnamed: 0'], axis = 1)\n",
    "selected_features_train['NPLV'] = train_NPLV"
   ]
  },
  {
   "cell_type": "code",
   "execution_count": 36,
   "id": "a854ad47-b3ee-4775-a7e2-e7740f0d7e85",
   "metadata": {},
   "outputs": [
    {
     "data": {
      "text/plain": [
       "(2063, 3150)"
      ]
     },
     "execution_count": 36,
     "metadata": {},
     "output_type": "execute_result"
    }
   ],
   "source": [
    "selected_features_train.shape"
   ]
  },
  {
   "cell_type": "code",
   "execution_count": 38,
   "id": "8a0a0385-79ce-4339-8bb8-af2bcb407675",
   "metadata": {},
   "outputs": [],
   "source": [
    "selected_features_train.to_csv(config['data_path'] + 'preprocessed_train.csv')\n",
    "selected_features_test.to_csv(config['data_path'] + 'preprocessed_test.csv')"
   ]
  },
  {
   "cell_type": "code",
   "execution_count": null,
   "id": "e512dbad-124c-47b5-8a1a-e1d4e157ffef",
   "metadata": {},
   "outputs": [],
   "source": []
  }
 ],
 "metadata": {
  "kernelspec": {
   "display_name": "Python 3 (ipykernel)",
   "language": "python",
   "name": "python3"
  },
  "language_info": {
   "codemirror_mode": {
    "name": "ipython",
    "version": 3
   },
   "file_extension": ".py",
   "mimetype": "text/x-python",
   "name": "python",
   "nbconvert_exporter": "python",
   "pygments_lexer": "ipython3",
   "version": "3.9.1"
  }
 },
 "nbformat": 4,
 "nbformat_minor": 5
}
