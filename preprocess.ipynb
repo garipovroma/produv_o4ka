{
 "cells": [
  {
   "cell_type": "code",
   "execution_count": 3,
   "id": "bf1c40a5-623a-47a5-877d-55c90720ac41",
   "metadata": {},
   "outputs": [],
   "source": [
    "import pandas as pd\n",
    "import numpy as np\n",
    "import matplotlib.pyplot as plt\n",
    "import pickle\n",
    "from utils.preprocess import *\n",
    "from utils.model import *"
   ]
  },
  {
   "cell_type": "markdown",
   "id": "ae9bdbb6-073a-45d4-a82f-d570612737db",
   "metadata": {},
   "source": [
    "### Reduced ts"
   ]
  },
  {
   "cell_type": "code",
   "execution_count": 3,
   "id": "d5f6064c-d32f-4971-91d6-a765e616cd2e",
   "metadata": {},
   "outputs": [],
   "source": [
    "produv_train = pd.read_csv(config['data_path'] + 'produv_train.csv')\n",
    "gas_train = pd.read_csv(config['data_path'] + 'gas_train.csv')\n",
    "chronom_train = pd.read_csv(config['data_path'] + 'chronom_train.csv')\n",
    "\n",
    "produv_test = pd.read_csv(config['data_path'] + 'produv_test.csv')\n",
    "gas_test = pd.read_csv(config['data_path'] + 'gas_test.csv')\n",
    "chronom_test = pd.read_csv(config['data_path'] + 'chronom_test.csv')"
   ]
  },
  {
   "cell_type": "code",
   "execution_count": 4,
   "id": "d7f97cde-1a66-4a94-9d8f-38b3e7dfb260",
   "metadata": {},
   "outputs": [],
   "source": [
    "reduce_ts(ts_preproc(gas_train, 'Time'), chronom_train).to_csv(config['data_path'] + 'reduced_gas_train.csv')\n",
    "reduce_ts(ts_preproc(produv_train, 'SEC'), chronom_train).to_csv(config['data_path'] + 'reduced_produv_train.csv')\n",
    "reduce_ts(ts_preproc(gas_test, 'Time'), chronom_test).to_csv(config['data_path'] + 'reduced_gas_test.csv')\n",
    "reduce_ts(ts_preproc(produv_test, 'SEC'), chronom_test).to_csv(config['data_path'] + 'reduced_produv_test.csv')"
   ]
  },
  {
   "cell_type": "markdown",
   "id": "2a5b2c51-1838-499c-af64-0e43162009d0",
   "metadata": {},
   "source": [
    "### Extract ts features"
   ]
  },
  {
   "cell_type": "code",
   "execution_count": 11,
   "id": "c6045ac6-55db-4891-882a-8d44ef0b5b37",
   "metadata": {},
   "outputs": [],
   "source": [
    "train_data = read_data('train')"
   ]
  },
  {
   "cell_type": "code",
   "execution_count": 12,
   "id": "db3bd130-fdb6-4bb4-aa36-9a4c8aa0b9a9",
   "metadata": {},
   "outputs": [
    {
     "name": "stderr",
     "output_type": "stream",
     "text": [
      "100%|███████████████████████████████████████████████████████████████████████████████████████████████████████████████████████████████████████████████████████████████████| 2063/2063 [07:41<00:00,  4.47it/s]\n",
      "100%|███████████████████████████████████████████████████████████████████████████████████████████████████████████████████████████████████████████████████████████████████| 2063/2063 [01:36<00:00, 21.33it/s]\n"
     ]
    }
   ],
   "source": [
    "X_train = preprocess_data(train_data)"
   ]
  },
  {
   "cell_type": "code",
   "execution_count": 13,
   "id": "31deecf8-0438-45f7-a75e-583bcf3bd232",
   "metadata": {},
   "outputs": [],
   "source": [
    "test_data = read_data('test')\n",
    "for file in files:\n",
    "    test_data[file] = test_data[file][test_data[file].NPLV != 512905]"
   ]
  },
  {
   "cell_type": "code",
   "execution_count": 14,
   "id": "33508ca9-aa15-4a40-8b4d-a057a8e5eef8",
   "metadata": {},
   "outputs": [
    {
     "name": "stderr",
     "output_type": "stream",
     "text": [
      "100%|█████████████████████████████████████████████████████████████████████████████████████████████████████████████████████████████████████████████████████████████████████| 779/779 [02:34<00:00,  5.04it/s]\n",
      "100%|█████████████████████████████████████████████████████████████████████████████████████████████████████████████████████████████████████████████████████████████████████| 779/779 [00:31<00:00, 24.39it/s]\n"
     ]
    }
   ],
   "source": [
    "X_test = preprocess_data(test_data)"
   ]
  },
  {
   "cell_type": "code",
   "execution_count": 56,
   "id": "3814d016-3713-4c83-a0cb-71e51f58924a",
   "metadata": {},
   "outputs": [],
   "source": [
    "numerics = ['int16', 'int32', 'int64', 'float16', 'float32', 'float64']\n",
    "\n",
    "X_train = X_train.select_dtypes(include=numerics)\n",
    "X_test  = X_test.select_dtypes(include=numerics)"
   ]
  },
  {
   "cell_type": "code",
   "execution_count": 10,
   "id": "d3f2346f-78fd-41c8-b218-4e6dae8867f6",
   "metadata": {},
   "outputs": [],
   "source": [
    "#X_train.to_csv(config['data_path'] + 'num_extracted_features_train.csv')\n",
    "# X_test.to_csv(config['data_path'] + 'num_extracted_features_test.csv')\n",
    "# X_train = pd.read_csv(config['data_path'] + 'num_extracted_features_train.csv')\n",
    "# X_test  = pd.read_csv(config['data_path'] + 'num_extracted_features_test.csv')"
   ]
  },
  {
   "cell_type": "code",
   "execution_count": 60,
   "id": "eef56e27-2b7b-442b-9196-a7ffaada312b",
   "metadata": {},
   "outputs": [],
   "source": [
    "train_NPLV = X_train['NPLV']\n",
    "test_NPLV = X_test['NPLV']\n",
    "selected_features_train, selected_features_test = ts_select_features(X_train.drop(['NPLV'], axis = 1), X_test.drop(['NPLV'], axis = 1))\n",
    "# selected_features_train, selected_features_test = X_train.drop(['NPLV'], axis = 1), X_test.drop(['NPLV'], axis = 1)"
   ]
  },
  {
   "cell_type": "code",
   "execution_count": 61,
   "id": "784eac8c-1183-479d-870f-e9d5d57eaa17",
   "metadata": {},
   "outputs": [],
   "source": [
    "# selected_features_test = selected_features_test.drop(['Unnamed: 0'], axis = 1)\n",
    "selected_features_test['NPLV'] = test_NPLV"
   ]
  },
  {
   "cell_type": "code",
   "execution_count": 62,
   "id": "fcf76697-7cbb-4cba-a87b-8b5fc4424008",
   "metadata": {},
   "outputs": [],
   "source": [
    "imposter = pd.DataFrame(selected_features_test.mean(),columns=[779]).T\n",
    "imposter['NPLV'] = [512905]"
   ]
  },
  {
   "cell_type": "code",
   "execution_count": 63,
   "id": "ccd094ed-2dd0-4a8b-9724-a09e015db2a2",
   "metadata": {},
   "outputs": [],
   "source": [
    "selected_features_test = pd.concat([selected_features_test, imposter]).sort_values('NPLV').reset_index().drop(['index'],axis=1)"
   ]
  },
  {
   "cell_type": "code",
   "execution_count": 69,
   "id": "93d80e7c-2afc-4373-81f0-278c4c8a4944",
   "metadata": {},
   "outputs": [],
   "source": [
    "with open('clustering_test.pickle', 'rb') as f:\n",
    "    clustering_test = pickle.load(f)\n",
    "    \n",
    "    clustering_test_df = pd.DataFrame({'NPLV' : selected_features_test['NPLV'].values, 'cluster_label' : clustering_test})\n",
    "    selected_features_test = selected_features_test.merge(clustering_test_df, on='NPLV')"
   ]
  },
  {
   "cell_type": "code",
   "execution_count": 70,
   "id": "06947d81-0760-487b-a814-64357488570d",
   "metadata": {},
   "outputs": [],
   "source": [
    "# selected_features_train = selected_features_train.drop(['Unnamed: 0'], axis = 1)\n",
    "selected_features_train['NPLV'] = train_NPLV\n",
    "\n",
    "with open('clustering_train.pickle', 'rb') as f:\n",
    "    clustering_train = pickle.load(f)\n",
    "    \n",
    "    clustering_train_df = pd.DataFrame({'NPLV' : train_NPLV.values, 'cluster_label' : clustering_train})\n",
    "    selected_features_train = selected_features_train.merge(clustering_train_df, on='NPLV')"
   ]
  },
  {
   "cell_type": "code",
   "execution_count": 71,
   "id": "85512ffd-ee38-402d-ba6d-0a5e19f73e92",
   "metadata": {},
   "outputs": [
    {
     "ename": "KeyError",
     "evalue": "'NPLV'",
     "output_type": "error",
     "traceback": [
      "\u001b[0;31m---------------------------------------------------------------------------\u001b[0m",
      "\u001b[0;31mKeyError\u001b[0m                                  Traceback (most recent call last)",
      "\u001b[0;32m/tmp/ipykernel_972/3560019212.py\u001b[0m in \u001b[0;36m<module>\u001b[0;34m\u001b[0m\n\u001b[1;32m      2\u001b[0m \u001b[0mchronom_data_test\u001b[0m \u001b[0;34m=\u001b[0m \u001b[0mpd\u001b[0m\u001b[0;34m.\u001b[0m\u001b[0mread_csv\u001b[0m\u001b[0;34m(\u001b[0m\u001b[0;34m'data_chronom/chronom_duration_test.csv'\u001b[0m\u001b[0;34m)\u001b[0m\u001b[0;34m\u001b[0m\u001b[0;34m\u001b[0m\u001b[0m\n\u001b[1;32m      3\u001b[0m \u001b[0;34m\u001b[0m\u001b[0m\n\u001b[0;32m----> 4\u001b[0;31m \u001b[0mselected_features_train\u001b[0m \u001b[0;34m=\u001b[0m \u001b[0mselected_features_train\u001b[0m\u001b[0;34m.\u001b[0m\u001b[0mmerge\u001b[0m\u001b[0;34m(\u001b[0m\u001b[0mchronom_data_train\u001b[0m\u001b[0;34m,\u001b[0m \u001b[0mon\u001b[0m\u001b[0;34m=\u001b[0m\u001b[0;34m'NPLV'\u001b[0m\u001b[0;34m)\u001b[0m\u001b[0;34m\u001b[0m\u001b[0;34m\u001b[0m\u001b[0m\n\u001b[0m\u001b[1;32m      5\u001b[0m \u001b[0mselected_features_test\u001b[0m \u001b[0;34m=\u001b[0m \u001b[0mselected_features_test\u001b[0m\u001b[0;34m.\u001b[0m\u001b[0mmerge\u001b[0m\u001b[0;34m(\u001b[0m\u001b[0mchronom_data_test\u001b[0m\u001b[0;34m,\u001b[0m \u001b[0mon\u001b[0m\u001b[0;34m=\u001b[0m\u001b[0;34m'NPLV'\u001b[0m\u001b[0;34m)\u001b[0m\u001b[0;34m\u001b[0m\u001b[0;34m\u001b[0m\u001b[0m\n",
      "\u001b[0;32m~/.miniconda3/lib/python3.9/site-packages/pandas/core/frame.py\u001b[0m in \u001b[0;36mmerge\u001b[0;34m(self, right, how, on, left_on, right_on, left_index, right_index, sort, suffixes, copy, indicator, validate)\u001b[0m\n\u001b[1;32m   9189\u001b[0m         \u001b[0;32mfrom\u001b[0m \u001b[0mpandas\u001b[0m\u001b[0;34m.\u001b[0m\u001b[0mcore\u001b[0m\u001b[0;34m.\u001b[0m\u001b[0mreshape\u001b[0m\u001b[0;34m.\u001b[0m\u001b[0mmerge\u001b[0m \u001b[0;32mimport\u001b[0m \u001b[0mmerge\u001b[0m\u001b[0;34m\u001b[0m\u001b[0;34m\u001b[0m\u001b[0m\n\u001b[1;32m   9190\u001b[0m \u001b[0;34m\u001b[0m\u001b[0m\n\u001b[0;32m-> 9191\u001b[0;31m         return merge(\n\u001b[0m\u001b[1;32m   9192\u001b[0m             \u001b[0mself\u001b[0m\u001b[0;34m,\u001b[0m\u001b[0;34m\u001b[0m\u001b[0;34m\u001b[0m\u001b[0m\n\u001b[1;32m   9193\u001b[0m             \u001b[0mright\u001b[0m\u001b[0;34m,\u001b[0m\u001b[0;34m\u001b[0m\u001b[0;34m\u001b[0m\u001b[0m\n",
      "\u001b[0;32m~/.miniconda3/lib/python3.9/site-packages/pandas/core/reshape/merge.py\u001b[0m in \u001b[0;36mmerge\u001b[0;34m(left, right, how, on, left_on, right_on, left_index, right_index, sort, suffixes, copy, indicator, validate)\u001b[0m\n\u001b[1;32m    103\u001b[0m     \u001b[0mvalidate\u001b[0m\u001b[0;34m:\u001b[0m \u001b[0mstr\u001b[0m \u001b[0;34m|\u001b[0m \u001b[0;32mNone\u001b[0m \u001b[0;34m=\u001b[0m \u001b[0;32mNone\u001b[0m\u001b[0;34m,\u001b[0m\u001b[0;34m\u001b[0m\u001b[0;34m\u001b[0m\u001b[0m\n\u001b[1;32m    104\u001b[0m ) -> DataFrame:\n\u001b[0;32m--> 105\u001b[0;31m     op = _MergeOperation(\n\u001b[0m\u001b[1;32m    106\u001b[0m         \u001b[0mleft\u001b[0m\u001b[0;34m,\u001b[0m\u001b[0;34m\u001b[0m\u001b[0;34m\u001b[0m\u001b[0m\n\u001b[1;32m    107\u001b[0m         \u001b[0mright\u001b[0m\u001b[0;34m,\u001b[0m\u001b[0;34m\u001b[0m\u001b[0;34m\u001b[0m\u001b[0m\n",
      "\u001b[0;32m~/.miniconda3/lib/python3.9/site-packages/pandas/core/reshape/merge.py\u001b[0m in \u001b[0;36m__init__\u001b[0;34m(self, left, right, how, on, left_on, right_on, axis, left_index, right_index, sort, suffixes, copy, indicator, validate)\u001b[0m\n\u001b[1;32m    696\u001b[0m             \u001b[0mself\u001b[0m\u001b[0;34m.\u001b[0m\u001b[0mright_join_keys\u001b[0m\u001b[0;34m,\u001b[0m\u001b[0;34m\u001b[0m\u001b[0;34m\u001b[0m\u001b[0m\n\u001b[1;32m    697\u001b[0m             \u001b[0mself\u001b[0m\u001b[0;34m.\u001b[0m\u001b[0mjoin_names\u001b[0m\u001b[0;34m,\u001b[0m\u001b[0;34m\u001b[0m\u001b[0;34m\u001b[0m\u001b[0m\n\u001b[0;32m--> 698\u001b[0;31m         ) = self._get_merge_keys()\n\u001b[0m\u001b[1;32m    699\u001b[0m \u001b[0;34m\u001b[0m\u001b[0m\n\u001b[1;32m    700\u001b[0m         \u001b[0;31m# validate the merge keys dtypes. We may need to coerce\u001b[0m\u001b[0;34m\u001b[0m\u001b[0;34m\u001b[0m\u001b[0;34m\u001b[0m\u001b[0m\n",
      "\u001b[0;32m~/.miniconda3/lib/python3.9/site-packages/pandas/core/reshape/merge.py\u001b[0m in \u001b[0;36m_get_merge_keys\u001b[0;34m(self)\u001b[0m\n\u001b[1;32m   1093\u001b[0m                     \u001b[0;32mif\u001b[0m \u001b[0;32mnot\u001b[0m \u001b[0mis_rkey\u001b[0m\u001b[0;34m(\u001b[0m\u001b[0mrk\u001b[0m\u001b[0;34m)\u001b[0m\u001b[0;34m:\u001b[0m\u001b[0;34m\u001b[0m\u001b[0;34m\u001b[0m\u001b[0m\n\u001b[1;32m   1094\u001b[0m                         \u001b[0;32mif\u001b[0m \u001b[0mrk\u001b[0m \u001b[0;32mis\u001b[0m \u001b[0;32mnot\u001b[0m \u001b[0;32mNone\u001b[0m\u001b[0;34m:\u001b[0m\u001b[0;34m\u001b[0m\u001b[0;34m\u001b[0m\u001b[0m\n\u001b[0;32m-> 1095\u001b[0;31m                             \u001b[0mright_keys\u001b[0m\u001b[0;34m.\u001b[0m\u001b[0mappend\u001b[0m\u001b[0;34m(\u001b[0m\u001b[0mright\u001b[0m\u001b[0;34m.\u001b[0m\u001b[0m_get_label_or_level_values\u001b[0m\u001b[0;34m(\u001b[0m\u001b[0mrk\u001b[0m\u001b[0;34m)\u001b[0m\u001b[0;34m)\u001b[0m\u001b[0;34m\u001b[0m\u001b[0;34m\u001b[0m\u001b[0m\n\u001b[0m\u001b[1;32m   1096\u001b[0m                         \u001b[0;32melse\u001b[0m\u001b[0;34m:\u001b[0m\u001b[0;34m\u001b[0m\u001b[0;34m\u001b[0m\u001b[0m\n\u001b[1;32m   1097\u001b[0m                             \u001b[0;31m# work-around for merge_asof(right_index=True)\u001b[0m\u001b[0;34m\u001b[0m\u001b[0;34m\u001b[0m\u001b[0;34m\u001b[0m\u001b[0m\n",
      "\u001b[0;32m~/.miniconda3/lib/python3.9/site-packages/pandas/core/generic.py\u001b[0m in \u001b[0;36m_get_label_or_level_values\u001b[0;34m(self, key, axis)\u001b[0m\n\u001b[1;32m   1777\u001b[0m             \u001b[0mvalues\u001b[0m \u001b[0;34m=\u001b[0m \u001b[0mself\u001b[0m\u001b[0;34m.\u001b[0m\u001b[0maxes\u001b[0m\u001b[0;34m[\u001b[0m\u001b[0maxis\u001b[0m\u001b[0;34m]\u001b[0m\u001b[0;34m.\u001b[0m\u001b[0mget_level_values\u001b[0m\u001b[0;34m(\u001b[0m\u001b[0mkey\u001b[0m\u001b[0;34m)\u001b[0m\u001b[0;34m.\u001b[0m\u001b[0m_values\u001b[0m\u001b[0;34m\u001b[0m\u001b[0;34m\u001b[0m\u001b[0m\n\u001b[1;32m   1778\u001b[0m         \u001b[0;32melse\u001b[0m\u001b[0;34m:\u001b[0m\u001b[0;34m\u001b[0m\u001b[0;34m\u001b[0m\u001b[0m\n\u001b[0;32m-> 1779\u001b[0;31m             \u001b[0;32mraise\u001b[0m \u001b[0mKeyError\u001b[0m\u001b[0;34m(\u001b[0m\u001b[0mkey\u001b[0m\u001b[0;34m)\u001b[0m\u001b[0;34m\u001b[0m\u001b[0;34m\u001b[0m\u001b[0m\n\u001b[0m\u001b[1;32m   1780\u001b[0m \u001b[0;34m\u001b[0m\u001b[0m\n\u001b[1;32m   1781\u001b[0m         \u001b[0;31m# Check for duplicates\u001b[0m\u001b[0;34m\u001b[0m\u001b[0;34m\u001b[0m\u001b[0;34m\u001b[0m\u001b[0m\n",
      "\u001b[0;31mKeyError\u001b[0m: 'NPLV'"
     ]
    }
   ],
   "source": [
    "chronom_data_train = pd.read_csv('data_chronom/chronom_duration_train.csv')\n",
    "chronom_data_test = pd.read_csv('data_chronom/chronom_duration_test.csv')"
   ]
  },
  {
   "cell_type": "code",
   "execution_count": 72,
   "id": "1fab9610-de0d-4518-8ce9-15b79800d619",
   "metadata": {},
   "outputs": [
    {
     "data": {
      "text/html": [
       "<div>\n",
       "<style scoped>\n",
       "    .dataframe tbody tr th:only-of-type {\n",
       "        vertical-align: middle;\n",
       "    }\n",
       "\n",
       "    .dataframe tbody tr th {\n",
       "        vertical-align: top;\n",
       "    }\n",
       "\n",
       "    .dataframe thead th {\n",
       "        text-align: right;\n",
       "    }\n",
       "</style>\n",
       "<table border=\"1\" class=\"dataframe\">\n",
       "  <thead>\n",
       "    <tr style=\"text-align: right;\">\n",
       "      <th></th>\n",
       "      <th>NOP_Вхождение в гр.МНЛЗ</th>\n",
       "      <th>NOP_Завалка лома</th>\n",
       "      <th>NOP_Заливка чугуна</th>\n",
       "      <th>NOP_Наведение гарнисажа</th>\n",
       "      <th>NOP_Нагрев лома</th>\n",
       "      <th>NOP_Наложение продувки</th>\n",
       "      <th>NOP_Неиспр. электр. обор</th>\n",
       "      <th>NOP_Обрыв горловины</th>\n",
       "      <th>NOP_Осмотр конвертера</th>\n",
       "      <th>NOP_Отсутствие O2</th>\n",
       "      <th>NOP_Отсутствие чугуна</th>\n",
       "      <th>NOP_Подварка  футеровки</th>\n",
       "      <th>NOP_Полусухое торкрет.</th>\n",
       "      <th>NOP_Продувка</th>\n",
       "      <th>NOP_Слив шлака</th>\n",
       "      <th>NOP_межпл. простой</th>\n",
       "    </tr>\n",
       "  </thead>\n",
       "  <tbody>\n",
       "    <tr>\n",
       "      <th>0</th>\n",
       "      <td>0</td>\n",
       "      <td>16</td>\n",
       "      <td>203</td>\n",
       "      <td>100</td>\n",
       "      <td>730</td>\n",
       "      <td>0</td>\n",
       "      <td>0</td>\n",
       "      <td>0</td>\n",
       "      <td>144</td>\n",
       "      <td>126</td>\n",
       "      <td>0</td>\n",
       "      <td>0</td>\n",
       "      <td>0</td>\n",
       "      <td>1170</td>\n",
       "      <td>46</td>\n",
       "      <td>666</td>\n",
       "    </tr>\n",
       "    <tr>\n",
       "      <th>1</th>\n",
       "      <td>620</td>\n",
       "      <td>31</td>\n",
       "      <td>188</td>\n",
       "      <td>112</td>\n",
       "      <td>788</td>\n",
       "      <td>0</td>\n",
       "      <td>0</td>\n",
       "      <td>0</td>\n",
       "      <td>198</td>\n",
       "      <td>440</td>\n",
       "      <td>0</td>\n",
       "      <td>0</td>\n",
       "      <td>0</td>\n",
       "      <td>1230</td>\n",
       "      <td>118</td>\n",
       "      <td>845</td>\n",
       "    </tr>\n",
       "    <tr>\n",
       "      <th>2</th>\n",
       "      <td>0</td>\n",
       "      <td>133</td>\n",
       "      <td>209</td>\n",
       "      <td>136</td>\n",
       "      <td>738</td>\n",
       "      <td>0</td>\n",
       "      <td>0</td>\n",
       "      <td>0</td>\n",
       "      <td>102</td>\n",
       "      <td>0</td>\n",
       "      <td>0</td>\n",
       "      <td>0</td>\n",
       "      <td>0</td>\n",
       "      <td>1226</td>\n",
       "      <td>55</td>\n",
       "      <td>614</td>\n",
       "    </tr>\n",
       "    <tr>\n",
       "      <th>3</th>\n",
       "      <td>0</td>\n",
       "      <td>17</td>\n",
       "      <td>175</td>\n",
       "      <td>184</td>\n",
       "      <td>776</td>\n",
       "      <td>0</td>\n",
       "      <td>0</td>\n",
       "      <td>541</td>\n",
       "      <td>0</td>\n",
       "      <td>0</td>\n",
       "      <td>0</td>\n",
       "      <td>0</td>\n",
       "      <td>0</td>\n",
       "      <td>1058</td>\n",
       "      <td>42</td>\n",
       "      <td>1401</td>\n",
       "    </tr>\n",
       "    <tr>\n",
       "      <th>4</th>\n",
       "      <td>0</td>\n",
       "      <td>136</td>\n",
       "      <td>184</td>\n",
       "      <td>133</td>\n",
       "      <td>736</td>\n",
       "      <td>0</td>\n",
       "      <td>0</td>\n",
       "      <td>0</td>\n",
       "      <td>120</td>\n",
       "      <td>0</td>\n",
       "      <td>0</td>\n",
       "      <td>0</td>\n",
       "      <td>0</td>\n",
       "      <td>1239</td>\n",
       "      <td>49</td>\n",
       "      <td>929</td>\n",
       "    </tr>\n",
       "    <tr>\n",
       "      <th>...</th>\n",
       "      <td>...</td>\n",
       "      <td>...</td>\n",
       "      <td>...</td>\n",
       "      <td>...</td>\n",
       "      <td>...</td>\n",
       "      <td>...</td>\n",
       "      <td>...</td>\n",
       "      <td>...</td>\n",
       "      <td>...</td>\n",
       "      <td>...</td>\n",
       "      <td>...</td>\n",
       "      <td>...</td>\n",
       "      <td>...</td>\n",
       "      <td>...</td>\n",
       "      <td>...</td>\n",
       "      <td>...</td>\n",
       "    </tr>\n",
       "    <tr>\n",
       "      <th>2058</th>\n",
       "      <td>0</td>\n",
       "      <td>102</td>\n",
       "      <td>242</td>\n",
       "      <td>94</td>\n",
       "      <td>0</td>\n",
       "      <td>0</td>\n",
       "      <td>0</td>\n",
       "      <td>0</td>\n",
       "      <td>0</td>\n",
       "      <td>0</td>\n",
       "      <td>0</td>\n",
       "      <td>0</td>\n",
       "      <td>0</td>\n",
       "      <td>1063</td>\n",
       "      <td>296</td>\n",
       "      <td>940</td>\n",
       "    </tr>\n",
       "    <tr>\n",
       "      <th>2059</th>\n",
       "      <td>0</td>\n",
       "      <td>1415</td>\n",
       "      <td>224</td>\n",
       "      <td>160</td>\n",
       "      <td>0</td>\n",
       "      <td>0</td>\n",
       "      <td>0</td>\n",
       "      <td>0</td>\n",
       "      <td>63</td>\n",
       "      <td>0</td>\n",
       "      <td>2648</td>\n",
       "      <td>0</td>\n",
       "      <td>0</td>\n",
       "      <td>1108</td>\n",
       "      <td>33</td>\n",
       "      <td>1530</td>\n",
       "    </tr>\n",
       "    <tr>\n",
       "      <th>2060</th>\n",
       "      <td>0</td>\n",
       "      <td>534</td>\n",
       "      <td>315</td>\n",
       "      <td>182</td>\n",
       "      <td>0</td>\n",
       "      <td>0</td>\n",
       "      <td>0</td>\n",
       "      <td>438</td>\n",
       "      <td>62</td>\n",
       "      <td>0</td>\n",
       "      <td>0</td>\n",
       "      <td>0</td>\n",
       "      <td>0</td>\n",
       "      <td>1058</td>\n",
       "      <td>199</td>\n",
       "      <td>885</td>\n",
       "    </tr>\n",
       "    <tr>\n",
       "      <th>2061</th>\n",
       "      <td>462</td>\n",
       "      <td>645</td>\n",
       "      <td>160</td>\n",
       "      <td>167</td>\n",
       "      <td>0</td>\n",
       "      <td>0</td>\n",
       "      <td>0</td>\n",
       "      <td>0</td>\n",
       "      <td>38</td>\n",
       "      <td>0</td>\n",
       "      <td>104</td>\n",
       "      <td>0</td>\n",
       "      <td>0</td>\n",
       "      <td>1169</td>\n",
       "      <td>150</td>\n",
       "      <td>908</td>\n",
       "    </tr>\n",
       "    <tr>\n",
       "      <th>2062</th>\n",
       "      <td>0</td>\n",
       "      <td>2446</td>\n",
       "      <td>138</td>\n",
       "      <td>0</td>\n",
       "      <td>76</td>\n",
       "      <td>0</td>\n",
       "      <td>0</td>\n",
       "      <td>2394</td>\n",
       "      <td>239</td>\n",
       "      <td>0</td>\n",
       "      <td>0</td>\n",
       "      <td>0</td>\n",
       "      <td>0</td>\n",
       "      <td>1208</td>\n",
       "      <td>18</td>\n",
       "      <td>482</td>\n",
       "    </tr>\n",
       "  </tbody>\n",
       "</table>\n",
       "<p>2063 rows × 16 columns</p>\n",
       "</div>"
      ],
      "text/plain": [
       "      NOP_Вхождение в гр.МНЛЗ  NOP_Завалка лома  NOP_Заливка чугуна  \\\n",
       "0                           0                16                 203   \n",
       "1                         620                31                 188   \n",
       "2                           0               133                 209   \n",
       "3                           0                17                 175   \n",
       "4                           0               136                 184   \n",
       "...                       ...               ...                 ...   \n",
       "2058                        0               102                 242   \n",
       "2059                        0              1415                 224   \n",
       "2060                        0               534                 315   \n",
       "2061                      462               645                 160   \n",
       "2062                        0              2446                 138   \n",
       "\n",
       "      NOP_Наведение гарнисажа  NOP_Нагрев лома  NOP_Наложение продувки  \\\n",
       "0                         100              730                       0   \n",
       "1                         112              788                       0   \n",
       "2                         136              738                       0   \n",
       "3                         184              776                       0   \n",
       "4                         133              736                       0   \n",
       "...                       ...              ...                     ...   \n",
       "2058                       94                0                       0   \n",
       "2059                      160                0                       0   \n",
       "2060                      182                0                       0   \n",
       "2061                      167                0                       0   \n",
       "2062                        0               76                       0   \n",
       "\n",
       "      NOP_Неиспр. электр. обор  NOP_Обрыв горловины  NOP_Осмотр конвертера  \\\n",
       "0                            0                    0                    144   \n",
       "1                            0                    0                    198   \n",
       "2                            0                    0                    102   \n",
       "3                            0                  541                      0   \n",
       "4                            0                    0                    120   \n",
       "...                        ...                  ...                    ...   \n",
       "2058                         0                    0                      0   \n",
       "2059                         0                    0                     63   \n",
       "2060                         0                  438                     62   \n",
       "2061                         0                    0                     38   \n",
       "2062                         0                 2394                    239   \n",
       "\n",
       "      NOP_Отсутствие O2  NOP_Отсутствие чугуна  NOP_Подварка  футеровки  \\\n",
       "0                   126                      0                        0   \n",
       "1                   440                      0                        0   \n",
       "2                     0                      0                        0   \n",
       "3                     0                      0                        0   \n",
       "4                     0                      0                        0   \n",
       "...                 ...                    ...                      ...   \n",
       "2058                  0                      0                        0   \n",
       "2059                  0                   2648                        0   \n",
       "2060                  0                      0                        0   \n",
       "2061                  0                    104                        0   \n",
       "2062                  0                      0                        0   \n",
       "\n",
       "      NOP_Полусухое торкрет.  NOP_Продувка  NOP_Слив шлака  NOP_межпл. простой  \n",
       "0                          0          1170              46                 666  \n",
       "1                          0          1230             118                 845  \n",
       "2                          0          1226              55                 614  \n",
       "3                          0          1058              42                1401  \n",
       "4                          0          1239              49                 929  \n",
       "...                      ...           ...             ...                 ...  \n",
       "2058                       0          1063             296                 940  \n",
       "2059                       0          1108              33                1530  \n",
       "2060                       0          1058             199                 885  \n",
       "2061                       0          1169             150                 908  \n",
       "2062                       0          1208              18                 482  \n",
       "\n",
       "[2063 rows x 16 columns]"
      ]
     },
     "execution_count": 72,
     "metadata": {},
     "output_type": "execute_result"
    }
   ],
   "source": [
    "chronom_data_train"
   ]
  },
  {
   "cell_type": "code",
   "execution_count": null,
   "id": "0c375b35-d71f-4341-85ee-5500774a3c5d",
   "metadata": {},
   "outputs": [],
   "source": [
    "selected_features_train = selected_features_train.merge(chronom_data_train, on='NPLV')\n",
    "selected_features_test = selected_features_test.merge(chronom_data_test, on='NPLV')"
   ]
  },
  {
   "cell_type": "code",
   "execution_count": 66,
   "id": "a854ad47-b3ee-4775-a7e2-e7740f0d7e85",
   "metadata": {},
   "outputs": [
    {
     "data": {
      "text/plain": [
       "(2063, 5402)"
      ]
     },
     "execution_count": 66,
     "metadata": {},
     "output_type": "execute_result"
    }
   ],
   "source": [
    "selected_features_train.shape"
   ]
  },
  {
   "cell_type": "code",
   "execution_count": 67,
   "id": "8a0a0385-79ce-4339-8bb8-af2bcb407675",
   "metadata": {},
   "outputs": [],
   "source": [
    "selected_features_train.to_csv(config['data_path'] + 'preprocessed_train.csv')\n",
    "selected_features_test.to_csv(config['data_path'] + 'preprocessed_test.csv')"
   ]
  },
  {
   "cell_type": "markdown",
   "id": "c0cbff9b-0fdf-4a02-b579-97075c283176",
   "metadata": {},
   "source": [
    "### Preprocess plavki"
   ]
  },
  {
   "cell_type": "code",
   "execution_count": 4,
   "id": "d712113a-f783-40b0-ac55-d86f41d2d27f",
   "metadata": {},
   "outputs": [],
   "source": [
    "target = read_target_train()\n",
    "train_data = read_data('train')\n",
    "test_data = read_data('test')"
   ]
  },
  {
   "cell_type": "code",
   "execution_count": 5,
   "id": "61b96f47-33b5-4b43-95a5-f2b9fb4be59a",
   "metadata": {},
   "outputs": [],
   "source": [
    "from category_encoders import TargetEncoder\n",
    "\n",
    "def first_preprocess_plavki(plavki):\n",
    "    numerics = ['int16', 'int32', 'int64', 'float16', 'float32', 'float64']\n",
    "    \n",
    "    plavki = plavki.copy()\n",
    "    \n",
    "    new_plavki = pd.DataFrame()\n",
    "    for NPLV in plavki.NPLV.unique():\n",
    "        cur_ts = plavki[plavki['NPLV'] == NPLV]\n",
    "        new_ts = cur_ts.iloc[0:1,:]\n",
    "        new_ts[new_ts.select_dtypes(include=numerics).columns] = pd.DataFrame(cur_ts[new_ts.select_dtypes(include=numerics).columns].mean(), columns = new_ts.index).T\n",
    "\n",
    "        new_plavki = pd.concat((new_plavki, new_ts))\n",
    "    new_plavki = new_plavki.reset_index().drop(['index'], axis = 1)\n",
    "    \n",
    "    new_plavki['plavka time'] = (pd.to_datetime(new_plavki['plavka_VR_KON']) - pd.to_datetime(new_plavki['plavka_VR_NACH'])).dt.seconds\n",
    "    new_plavki = new_plavki.drop(['plavka_VR_NACH', 'plavka_VR_KON'], axis = 1)\n",
    "    return new_plavki\n"
   ]
  },
  {
   "cell_type": "code",
   "execution_count": 6,
   "id": "65de49f8-330c-435b-b6c7-eb12db921e46",
   "metadata": {},
   "outputs": [],
   "source": [
    "def preprocess_plavki(train_plavki, test_plavki):\n",
    "    new_plavki_train = first_preprocess_plavki(train_plavki)\n",
    "    new_plavki_test = first_preprocess_plavki(test_plavki)\n",
    "    \n",
    "    plavki_cat = ['plavka_NMZ', 'plavka_NAPR_ZAD', 'plavka_TIPE_FUR', 'plavka_TIPE_GOL']\n",
    "    for col in plavki_cat:\n",
    "        new_plavki_train[col + '_C'] = new_plavki_train[col]\n",
    "        new_plavki_test[col + '_C']  = new_plavki_test[col] \n",
    "        new_plavki_train[col + '_TST'] = new_plavki_train[col]\n",
    "        new_plavki_test[col + '_TST']  = new_plavki_test[col]\n",
    "        \n",
    "    target = read_target_train()\n",
    "    \n",
    "    encoder_C = TargetEncoder(cols = list(map(lambda x: x + '_C', plavki_cat)))\n",
    "    encoder_TST = TargetEncoder(cols = list(map(lambda x: x + '_TST', plavki_cat)))\n",
    "    encoder_C.fit(new_plavki_train, target['C'])\n",
    "    encoder_TST.fit(new_plavki_train, target['TST'])\n",
    "    \n",
    "    new_plavki_train = encoder_C.transform(new_plavki_train)\n",
    "    new_plavki_test = encoder_C.transform(new_plavki_test)\n",
    "    new_plavki_train = encoder_TST.transform(new_plavki_train)\n",
    "    new_plavki_test = encoder_TST.transform(new_plavki_test)\n",
    "    \n",
    "    return new_plavki_train, new_plavki_test\n",
    "    "
   ]
  },
  {
   "cell_type": "code",
   "execution_count": 7,
   "id": "b0d24f61-aedf-438c-84f5-d36228f03539",
   "metadata": {},
   "outputs": [],
   "source": [
    "new_plavki_train, new_plavki_test = preprocess_plavki(train_data['plavki'], test_data['plavki'])"
   ]
  },
  {
   "cell_type": "code",
   "execution_count": 8,
   "id": "e86cfc6c-e0f2-4623-a241-a3e01714303d",
   "metadata": {},
   "outputs": [],
   "source": [
    "new_plavki_train.to_csv(config['data_path'] + 'preprocessed_plavki_train.csv')\n",
    "new_plavki_test.to_csv(config['data_path'] + 'preprocessed_plavki_test.csv')"
   ]
  },
  {
   "cell_type": "code",
   "execution_count": null,
   "id": "16bbfe03-a96d-43da-aacc-fde6bc62a44e",
   "metadata": {},
   "outputs": [],
   "source": []
  }
 ],
 "metadata": {
  "kernelspec": {
   "display_name": "Python 3 (ipykernel)",
   "language": "python",
   "name": "python3"
  },
  "language_info": {
   "codemirror_mode": {
    "name": "ipython",
    "version": 3
   },
   "file_extension": ".py",
   "mimetype": "text/x-python",
   "name": "python",
   "nbconvert_exporter": "python",
   "pygments_lexer": "ipython3",
   "version": "3.9.1"
  }
 },
 "nbformat": 4,
 "nbformat_minor": 5
}
