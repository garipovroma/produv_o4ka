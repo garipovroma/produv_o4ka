{
 "cells": [
  {
   "cell_type": "code",
   "execution_count": 2,
   "id": "bf1c40a5-623a-47a5-877d-55c90720ac41",
   "metadata": {},
   "outputs": [],
   "source": [
    "import pandas as pd\n",
    "import numpy as np\n",
    "import matplotlib.pyplot as plt\n",
    "from utils.preprocess import *\n",
    "from utils.model import *"
   ]
  },
  {
   "cell_type": "markdown",
   "id": "ae9bdbb6-073a-45d4-a82f-d570612737db",
   "metadata": {},
   "source": [
    "### Reduced ts"
   ]
  },
  {
   "cell_type": "code",
   "execution_count": 5,
   "id": "d5f6064c-d32f-4971-91d6-a765e616cd2e",
   "metadata": {},
   "outputs": [],
   "source": [
    "produv_train = pd.read_csv(config['data_path'] + 'produv_train.csv')\n",
    "gas_train = pd.read_csv(config['data_path'] + 'gas_train.csv')\n",
    "chronom_train = pd.read_csv(config['data_path'] + 'chronom_train.csv')\n",
    "\n",
    "produv_test = pd.read_csv(config['data_path'] + 'produv_test.csv')\n",
    "gas_test = pd.read_csv(config['data_path'] + 'gas_test.csv')\n",
    "chronom_test = pd.read_csv(config['data_path'] + 'chronom_test.csv')"
   ]
  },
  {
   "cell_type": "code",
   "execution_count": 8,
   "id": "d7f97cde-1a66-4a94-9d8f-38b3e7dfb260",
   "metadata": {},
   "outputs": [
    {
     "ename": "SyntaxError",
     "evalue": "invalid syntax (Temp/ipykernel_8948/3193017951.py, line 4)",
     "output_type": "error",
     "traceback": [
      "\u001b[1;36m  File \u001b[1;32m\"C:\\Users\\S\\AppData\\Local\\Temp/ipykernel_8948/3193017951.py\"\u001b[1;36m, line \u001b[1;32m4\u001b[0m\n\u001b[1;33m    reduce_ts(ts_preproc(produv_test, 'SEC'), chronom_test).to_csv('reduced_produv_test.csv')\u001b[0m\n\u001b[1;37m    ^\u001b[0m\n\u001b[1;31mSyntaxError\u001b[0m\u001b[1;31m:\u001b[0m invalid syntax\n"
     ]
    }
   ],
   "source": [
    "reduce_ts(ts_preproc(gas_train, 'Time'), chronom_train).to_csv(config['data_path'] + 'reduced_gas_train.csv')\n",
    "reduce_ts(ts_preproc(produv_train, 'SEC'), chronom_train).to_csv(config['data_path'] + 'reduced_produv_train.csv')\n",
    "reduce_ts(ts_preproc(gas_test, 'Time'), chronom_test).to_csv(config['data_path'] + 'reduced_gas_test.csv')\n",
    "reduce_ts(ts_preproc(produv_test, 'SEC'), chronom_test).to_csv(config['data_path'] + 'reduced_produv_test.csv')"
   ]
  },
  {
   "cell_type": "code",
   "execution_count": null,
   "id": "51954154-7198-41be-b69e-e62aa1bacd01",
   "metadata": {},
   "outputs": [],
   "source": []
  }
 ],
 "metadata": {
  "kernelspec": {
   "display_name": "Python 3 (ipykernel)",
   "language": "python",
   "name": "python3"
  },
  "language_info": {
   "codemirror_mode": {
    "name": "ipython",
    "version": 3
   },
   "file_extension": ".py",
   "mimetype": "text/x-python",
   "name": "python",
   "nbconvert_exporter": "python",
   "pygments_lexer": "ipython3",
   "version": "3.9.1"
  }
 },
 "nbformat": 4,
 "nbformat_minor": 5
}
