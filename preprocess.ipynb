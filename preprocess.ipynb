{
 "cells": [
  {
   "cell_type": "code",
   "execution_count": 1,
   "id": "bf1c40a5-623a-47a5-877d-55c90720ac41",
   "metadata": {},
   "outputs": [],
   "source": [
    "import pandas as pd\n",
    "import numpy as np\n",
    "import matplotlib.pyplot as plt\n",
    "import pickle\n",
    "from utils.preprocess import *\n",
    "from utils.model import *"
   ]
  },
  {
   "cell_type": "markdown",
   "id": "2a5b2c51-1838-499c-af64-0e43162009d0",
   "metadata": {},
   "source": [
    "### Extract ts features"
   ]
  },
  {
   "cell_type": "code",
   "execution_count": 14,
   "id": "c6045ac6-55db-4891-882a-8d44ef0b5b37",
   "metadata": {},
   "outputs": [],
   "source": [
    "train_data = read_data('train')"
   ]
  },
  {
   "cell_type": "code",
   "execution_count": 15,
   "id": "db3bd130-fdb6-4bb4-aa36-9a4c8aa0b9a9",
   "metadata": {},
   "outputs": [],
   "source": [
    "X_train = preprocess_data(train_data)"
   ]
  },
  {
   "cell_type": "code",
   "execution_count": 16,
   "id": "31deecf8-0438-45f7-a75e-583bcf3bd232",
   "metadata": {},
   "outputs": [],
   "source": [
    "test_data = read_data('test')"
   ]
  },
  {
   "cell_type": "code",
   "execution_count": 17,
   "id": "33508ca9-aa15-4a40-8b4d-a057a8e5eef8",
   "metadata": {},
   "outputs": [],
   "source": [
    "X_test = preprocess_data(test_data)"
   ]
  },
  {
   "cell_type": "code",
   "execution_count": 18,
   "id": "93d80e7c-2afc-4373-81f0-278c4c8a4944",
   "metadata": {},
   "outputs": [],
   "source": [
    "cluster_train = pd.read_csv(config['data_path'] + 'cluster_train.csv')\n",
    "X_train = X_train.merge(cluster_train, on='NPLV')\n",
    "\n",
    "cluster_test = pd.read_csv(config['data_path'] + 'cluster_test.csv')\n",
    "X_test = X_test.merge(cluster_test, on='NPLV')"
   ]
  },
  {
   "cell_type": "code",
   "execution_count": 19,
   "id": "85512ffd-ee38-402d-ba6d-0a5e19f73e92",
   "metadata": {},
   "outputs": [],
   "source": [
    "chronom_data_train = pd.read_csv('data_chronom/chronom_duration_train_new3.csv')\n",
    "chronom_data_test = pd.read_csv('data_chronom/chronom_duration_test_new3.csv')\n",
    "preprocessed_plavki_train = pd.read_csv(config['data_path'] + 'preprocessed_plavki_train.csv')\n",
    "preprocessed_plavki_test = pd.read_csv(config['data_path'] + 'preprocessed_plavki_test.csv')"
   ]
  },
  {
   "cell_type": "code",
   "execution_count": 20,
   "id": "0c375b35-d71f-4341-85ee-5500774a3c5d",
   "metadata": {},
   "outputs": [],
   "source": [
    "X_train = X_train.merge(preprocessed_plavki_train, on='NPLV')\n",
    "X_test  = X_test.merge(preprocessed_plavki_test, on='NPLV')\n",
    "X_train = X_train.merge(chronom_data_train, on='NPLV')\n",
    "X_test  = X_test.merge(chronom_data_test, on='NPLV')"
   ]
  },
  {
   "cell_type": "code",
   "execution_count": 21,
   "id": "8a0a0385-79ce-4339-8bb8-af2bcb407675",
   "metadata": {},
   "outputs": [],
   "source": [
    "X_train.to_csv(config['data_path'] + 'preprocessed_train.csv')\n",
    "X_test.to_csv(config['data_path'] + 'preprocessed_test.csv')"
   ]
  }
 ],
 "metadata": {
  "kernelspec": {
   "display_name": "Python 3 (ipykernel)",
   "language": "python",
   "name": "python3"
  },
  "language_info": {
   "codemirror_mode": {
    "name": "ipython",
    "version": 3
   },
   "file_extension": ".py",
   "mimetype": "text/x-python",
   "name": "python",
   "nbconvert_exporter": "python",
   "pygments_lexer": "ipython3",
   "version": "3.9.5"
  }
 },
 "nbformat": 4,
 "nbformat_minor": 5
}
